{
 "cells": [
  {
   "cell_type": "raw",
   "metadata": {
    "raw_mimetype": "text/restructuredtext"
   },
   "source": [
    ".. index::\n",
    "   single: Privacy"
   ]
  },
  {
   "cell_type": "markdown",
   "metadata": {},
   "source": [
    "# Privacy"
   ]
  },
  {
   "cell_type": "markdown",
   "metadata": {},
   "source": [
    "This chapter gives the user information about the privacy aspects of the _DashT_ overlay plug-in for the popular [OpenCPN](https://opencpn.org) chart plotter. The objective is to allow the end user to have a clear view what information is potentially collected and stored (or communicated) when _DashT_ overlay plug-in is used."
   ]
  },
  {
   "cell_type": "raw",
   "metadata": {
    "raw_mimetype": "text/restructuredtext"
   },
   "source": [
    ".. index::\n",
    "   single: Privacy; Policy"
   ]
  },
  {
   "cell_type": "markdown",
   "metadata": {},
   "source": [
    "## Privacy policy"
   ]
  },
  {
   "cell_type": "markdown",
   "metadata": {},
   "source": [
    "_DashT_ does not collect data about you or about your boat. Period."
   ]
  },
  {
   "cell_type": "markdown",
   "metadata": {},
   "source": [
    "Please [report](https://github.com/canne/dashboard_tactics_pi/issues) if you find a breach to this security policy or other privacy concern."
   ]
  },
  {
   "cell_type": "raw",
   "metadata": {
    "raw_mimetype": "text/restructuredtext"
   },
   "source": [
    ".. index::\n",
    "   single: Privacy; Position"
   ]
  },
  {
   "cell_type": "markdown",
   "metadata": {},
   "source": [
    "## Position"
   ]
  },
  {
   "cell_type": "markdown",
   "metadata": {},
   "source": [
    "_DashT_ is aware - via _OpenCPN_ of your boat's position. This data is stored only if one uses [InfluxDB Out](./idbout/idbout.ipynb#InfluxDB-Out) streamer. The data is stored either in a file on your computer or directly on an _InfluxDB v2_ server of your choice. The server can be anywhere in the network and the control of it is out of scope of _DashT_. You can opt out to store your position - or any other boat's data parameter by modifying a configuration file."
   ]
  },
  {
   "cell_type": "raw",
   "metadata": {
    "raw_mimetype": "text/restructuredtext"
   },
   "source": [
    ".. index::\n",
    "   single: Privacy; Your information"
   ]
  },
  {
   "cell_type": "markdown",
   "metadata": {},
   "source": [
    "## Personal information"
   ]
  },
  {
   "cell_type": "markdown",
   "metadata": {},
   "source": [
    "No information related to your account is collected. We could not care less who you are and how often you wash your shirts."
   ]
  },
  {
   "cell_type": "raw",
   "metadata": {
    "raw_mimetype": "text/restructuredtext"
   },
   "source": [
    ".. index::\n",
    "   single: Privacy; Local Storages"
   ]
  },
  {
   "cell_type": "markdown",
   "metadata": {},
   "source": [
    "## Local storage (plug-in)"
   ]
  },
  {
   "cell_type": "markdown",
   "metadata": {},
   "source": [
    "All parameters and settings are stored in a local file in clear text format, as desribed in [Tweaks](./tweaks/tweaks.ipynb#Tweaks)."
   ]
  },
  {
   "cell_type": "markdown",
   "metadata": {},
   "source": [
    "## Local storage (browser)"
   ]
  },
  {
   "cell_type": "markdown",
   "metadata": {},
   "source": [
    "In browser based applications and instruments, a priority is given to the Local Storage of the browser platform. This storage is accessible only locally, as the name implies. The data stored is defined and strictly limited to the _DashT_ [configuration parameters](https://github.com/canne/dashboard_tactics_pi/blob/d5e07fd5befe6f78de2d3c01c497190674232733/instrujs/src/conf.js#L12)."
   ]
  },
  {
   "cell_type": "raw",
   "metadata": {
    "raw_mimetype": "text/restructuredtext"
   },
   "source": [
    ".. index::\n",
    "   single: Privacy; Cookies"
   ]
  },
  {
   "cell_type": "markdown",
   "metadata": {},
   "source": [
    "## Cookies (browser)"
   ]
  },
  {
   "cell_type": "markdown",
   "metadata": {},
   "source": [
    "Cookies are accessible from a remote server and locally. In _DashT_ they are not used. There is only one exception to this - if you are using a Windows system which hasn not been updated in 2020 or later and you use `file://` protocol, cookies will be used. Please update your system, use `http://` protocol and [Local storage](#Local-storage-(browser)) will be used."
   ]
  },
  {
   "cell_type": "markdown",
   "metadata": {},
   "source": [
    ">**NOTE**: If you use third party web applications outside of _OpenCPN_ and _DashT_, such as _InfluxDB v2_ or _Grafana_ to visualize the data you have collected with [InfluxDB Out](./idbout/idbout.ipynb#InfluxDB-Out) streamer they will use cookies to store your connection and other parameters. However they are out of the scope for _DashT_ privacy policy."
   ]
  },
  {
   "cell_type": "raw",
   "metadata": {
    "raw_mimetype": "text/restructuredtext"
   },
   "source": [
    ".. index::\n",
    "   single: Privacy; Call backs"
   ]
  },
  {
   "cell_type": "markdown",
   "metadata": {},
   "source": [
    "## Calling back home"
   ]
  },
  {
   "cell_type": "markdown",
   "metadata": {},
   "source": [
    "_DashT_ as an application does not attempt to call back home."
   ]
  },
  {
   "cell_type": "markdown",
   "metadata": {},
   "source": [
    "Instrument [Line Chart](./linechart/linechart.ipynb#Line-Chart) contains two third-party open source libraries which announce that they want to call back home if they are used in a web application. They provide both an opt-out for this, which is done by _DashT_ for both of them."
   ]
  },
  {
   "cell_type": "markdown",
   "metadata": {},
   "source": [
    ">**NOTE 1**: Albeit all code is open source in the libraries used, it is impossible to guarantee that there is no code in any library which would not, potentially call back home. This has known to happen in the past but usually these guys are detected quickly, [reported](https://github.com/canne/dashboard_tactics_pi/issues) to the community, removed, shamed and banned forever. We trust the announcement made by those who potentially want a call back."
   ]
  },
  {
   "cell_type": "markdown",
   "metadata": {},
   "source": [
    ">**NOTE 2**: If you use third party web applications outside of _OpenCPN_ and _DashT_, such as _InfluxDB v2_ or _Grafana_ to visualize the data you have collected with [InfluxDB Out](./idbout/idbout.ipynb#InfluxDB-Out) streamer they are likely to call back home. If you use the helper method suggested by _DashT_, explained in [InfluxDB/Docker container creation](./influxdb/influxdb.ipynb#Container-creation), it sets `--reporting-disabled` command line parameter for _InfluxDB v2_ server it creates. There is no such option for _Grafana_."
   ]
  }
 ],
 "metadata": {
  "kernelspec": {
   "display_name": "Python 3",
   "language": "python",
   "name": "python3"
  },
  "language_info": {
   "codemirror_mode": {
    "name": "ipython",
    "version": 3
   },
   "file_extension": ".py",
   "mimetype": "text/x-python",
   "name": "python",
   "nbconvert_exporter": "python",
   "pygments_lexer": "ipython3",
   "version": "3.8.2"
  }
 },
 "nbformat": 4,
 "nbformat_minor": 4
}
