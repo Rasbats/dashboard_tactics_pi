{
 "cells": [
  {
   "cell_type": "raw",
   "metadata": {
    "raw_mimetype": "text/restructuredtext"
   },
   "source": [
    ".. index::\n",
    "   single: Signal K\n",
    ".. index::\n",
    "   single: Instruments; Signal K In"
   ]
  },
  {
   "cell_type": "markdown",
   "metadata": {},
   "source": [
    "# Signal K In"
   ]
  },
  {
   "cell_type": "markdown",
   "metadata": {},
   "source": [
    "One single instrument but so important that it deserves its own chapter!"
   ]
  },
  {
   "cell_type": "markdown",
   "metadata": {},
   "source": [
    "The instrument is no reading one single instrument but it is actually controlling a data streamer which reads data from a _Signal K server node_. This alternative data source to _OpenCPN_ is feeding _DashT_ and its instruments with Signal K data from a delta channel (delta for changed data). The fast, time stamped data source is an alternative to _OpenCPN_ to get data normally not visible to _OpenCPN_."
   ]
  },
  {
   "cell_type": "markdown",
   "metadata": {},
   "source": [
    "This is how you start Signal K input stream, by creating _Signal K In_ instrument. It is recommend to have its own, dedicated window pane with only one of these single line instuments in it (see below the troubleshooting section to find out why). You can have multiple instances of this instrument type but only the first one is going to do anything else but showing the data rate."
   ]
  },
  {
   "cell_type": "markdown",
   "metadata": {},
   "source": [
    "<img src=\"img/s_005_DashT_SK_streamer_in_add_pane.png\"\n",
    "alt=\"DashT Signal K In pane\" width=\"300\">[(zoom)](img/005_DashT_SK_streamer_in_add_pane.png) | <img src=\"img/s_010_DashT_SK_streamer_in_add.png\"\n",
    "alt=\"DashT Signal K In\" width=\"200\">[(zoom)](img/010_DashT_SK_streamer_in_add.png)"
   ]
  },
  {
   "cell_type": "markdown",
   "metadata": {},
   "source": [
    "This is what you are going to see when the _Signal K In_ instrument is starting, it means that it is waiting for a connection to a _Signal K server node_:"
   ]
  },
  {
   "cell_type": "markdown",
   "metadata": {},
   "source": [
    "<img src=\"img/s_020_DashT_SK_signalkin-waitingconnection.png\"\n",
    "alt=\"Signal K In - Waiting for Connection\" width=\"150\">[(zoom)](img/020_DashT_SK_signalkin-waitingconnection.png)"
   ]
  },
  {
   "cell_type": "raw",
   "metadata": {
    "raw_mimetype": "text/restructuredtext"
   },
   "source": [
    ".. index::\n",
    "   single: Signal K; server node"
   ]
  },
  {
   "cell_type": "markdown",
   "metadata": {},
   "source": [
    "## Signal K server node"
   ]
  },
  {
   "cell_type": "markdown",
   "metadata": {},
   "source": [
    "As you may have learned by now, if there is no _Signal K server node_ the _Signal K In_ instrument will remain forever in the waiting state."
   ]
  },
  {
   "cell_type": "markdown",
   "metadata": {},
   "source": [
    "_OpenCPN v5.2_ and superior supports Signal K data and therefore also the _Signal K server node_ as data source. If you have set _OpenCPN_ for Signal K data and you still do not get any data in _DashT_, please read the operation principles below to understand that _DashT_ asks only NMEA-0183 data from _OpenCPN_ but for Signal K data it requires a direct, dedicated connection to a _Signal K server node_."
   ]
  },
  {
   "cell_type": "markdown",
   "metadata": {},
   "source": [
    ">**NOTE**: _Signal K_ is a data format. _Signal K server node_ is a data processing and interchange server which is delivering data in Signal K data format. _DashT_ requires a _Signal K server node_ for Signal K data."
   ]
  },
  {
   "cell_type": "markdown",
   "metadata": {},
   "source": [
    "In case you do not have a _Signal K server node_ please read the _OpenCPN_ documentation for supplementary software, which has a section for [Signal K server node](https://opencpn.org/wiki/dokuwiki/doku.php?id=opencpn:supplementary_software:signalk) which gives you the right pointers for your operating system installations."
   ]
  },
  {
   "cell_type": "markdown",
   "metadata": {},
   "source": [
    "<img src=\"img/s_025_DashT_SK_signalkin_heartbeat.png\"\n",
    "alt=\"Signal K In - Heartbeat\" width=\"150\">[(zoom)](img/025_DashT_SK_signalkin_heartbeat.png)"
   ]
  },
  {
   "cell_type": "markdown",
   "metadata": {},
   "source": [
    "If there is a _Signal K server node_ available in the local network of your computer, you will see the above heartbeat pulsing on the instrument display. Data is coming in already, at this point."
   ]
  },
  {
   "cell_type": "markdown",
   "metadata": {},
   "source": [
    "In case there is an issue with this and you find out that all components are there, please see the troublesoothing section further down of this document for instructions."
   ]
  },
  {
   "cell_type": "markdown",
   "metadata": {},
   "source": [
    "<img src=\"img/s_030_DashT_SK_signalkin-streamin.png\" alt=\"Signal K In - Streaming In\" width=\"150\">[(zoom)](img/030_DashT_SK_signalkin-streamin.png)"
   ]
  },
  {
   "cell_type": "markdown",
   "metadata": {},
   "source": [
    "Once enough data has been received to make meaningful statistics, the data rate is displayed. It is showing data values received, in average and per second. The value shown is not corresponding the data rate value which one can observe on the _Signal K server node_ dashboard. It counts messages _Signal K server node_ receives but _Signal K In_ streamer counts valid data **values** it has subscribed to and which it effectively receives."
   ]
  },
  {
   "cell_type": "markdown",
   "metadata": {},
   "source": [
    ">**NOTE**: In some of the _Signal K_ data structures there are more than one data value per message, for example in the position data latitude and longitude: _Signal K In_ streamer counts each of the data value since this is the way they are internally streamed to the instruments, one by one. Therefore the value is presenting the effective data rate all the way to the instruments."
   ]
  },
  {
   "cell_type": "markdown",
   "metadata": {},
   "source": [
    "While you are all set now, it would be perhaps interesting to understand more about the Signal K data and how it arrives in _DashT_ and how it is used there, so please continue reading."
   ]
  },
  {
   "cell_type": "raw",
   "metadata": {
    "raw_mimetype": "text/restructuredtext"
   },
   "source": [
    ".. index::\n",
    "   single: Signal K; NMEA-0183"
   ]
  },
  {
   "cell_type": "markdown",
   "metadata": {},
   "source": [
    "## NMEA-0183 as data source"
   ]
  },
  {
   "cell_type": "markdown",
   "metadata": {},
   "source": [
    "As discussed in [NMEA-0183 Data](../nmea0183data.ipynb#NMEA-0183-Data) chapter, the origin of data in _Signal K server node_ can be also NMEA-0183. In this case the data arrives to your instruments exactly the same way through _Signal K In_ streamer than it would come via the OpenCPN plug-in interface. Only that you get it faster and with timestamps set by the _Signal K server node_, a feature mandatory for the usage of any time based database or analysis software."
   ]
  },
  {
   "cell_type": "markdown",
   "metadata": {},
   "source": [
    "Logically speaking, there is nothing to gain to get this same data via OpenCPN - one would just get an extra delay in the data path. Even if one has a NMEA-0183 based navigation data system, _Signal K In_ streamer is the preferred way to get this data in _DashT_. "
   ]
  },
  {
   "cell_type": "raw",
   "metadata": {
    "raw_mimetype": "text/restructuredtext"
   },
   "source": [
    ".. index::\n",
    "   single: NMEA-2000\n",
    ".. index::\n",
    "   single: Signal K; NMEA-2000"
   ]
  },
  {
   "cell_type": "markdown",
   "metadata": {},
   "source": [
    "## NMEA-2000 as data source"
   ]
  },
  {
   "cell_type": "markdown",
   "metadata": {},
   "source": [
    ">**NOTE**: Albeit we speak about NMEA-2000 here, from the _DashT_ point of view the data can be of any origin recognized by Signal K to feed _DashT_ instruments; the provenance from NMEA-2000 is not mandatory, only the Signal K data is required."
   ]
  },
  {
   "cell_type": "markdown",
   "metadata": {},
   "source": [
    "To get access to a rich and flexible data source is the main motivation for _DashT_ to interface with _Signal K server node_. If available, it provides much higher data rates and wide variety of new data parameters. The _Signal K data_ format unifies the access to this data source."
   ]
  },
  {
   "cell_type": "markdown",
   "metadata": {},
   "source": [
    "NMEA-2000, a derivation of the CAN data bus is the most likely commodity off the shelf (COTS) source for engine and energy data on boats with recent electronics (albeit it may have a different commercial name for © and ® business reasons). Shortly, what the CAN-bus is doing in your car, NMEA-2000 is used to the same in your boat. NMEA-0183 remains, of course a data source for_DashT_instruments but EngineDJG instruments, for example require Signal K data which simply is not available in NMEA-0183 coming from OpenCPN."
   ]
  },
  {
   "cell_type": "raw",
   "metadata": {
    "raw_mimetype": "text/restructuredtext"
   },
   "source": [
    ".. index::\n",
    "   single: Signal K; data\n",
    ".. index::\n",
    "   single: Data\n",
    ".. index::\n",
    "   single: Data; interchange"
   ]
  },
  {
   "cell_type": "markdown",
   "metadata": {},
   "source": [
    "## Signal K data interchange"
   ]
  },
  {
   "cell_type": "raw",
   "metadata": {
    "raw_mimetype": "text/restructuredtext"
   },
   "source": [
    ".. index::\n",
    "   single: Signal K; keys\n",
    ".. index::\n",
    "   single: Keys\n",
    ".. index::\n",
    "   single: Keys; Signal K\n",
    ".. index::\n",
    "   single: Signal K; paths\n",
    ".. index::\n",
    "   single: Paths\n",
    ".. index::\n",
    "   single: Paths; Signal K"
   ]
  },
  {
   "cell_type": "markdown",
   "metadata": {},
   "source": [
    "[Signal K](https://opencpn.org/wiki/dokuwiki/doku.php?id=opencpn:supplementary_software:signalk), a modern and open data format for marine use is a protocol understood by _DashT_ for data interchange over the network. [Signal K keys](https://github.com/SignalK/specification/blob/master/gitbook-docs/keys.md) are defined for each data source, called below **data paths**. A _DashT EngineDJG_ instrument, for example **subscribes** to the data coming from one of the data path using a Signal K key. "
   ]
  },
  {
   "cell_type": "markdown",
   "metadata": {},
   "source": [
    ">**NOTE**: Unlike with OpenCPN, where all data is pushed to everybody who has asked for NMEA-0183, with _Signal K server node_ and _DashT_ support for it, the instruments are subcribing to data. In other words, if you have only one instrument, showing one data value, _Signal K server node_ needs to send only that data to _DashT_, nothing else. This, obviously reduces the power consumption and allows your computer to run more efficiently."
   ]
  },
  {
   "cell_type": "raw",
   "metadata": {
    "raw_mimetype": "text/restructuredtext"
   },
   "source": [
    ".. index::\n",
    "   single: Signal K; operation"
   ]
  },
  {
   "cell_type": "markdown",
   "metadata": {},
   "source": [
    "### How it works"
   ]
  },
  {
   "cell_type": "markdown",
   "metadata": {},
   "source": [
    "<img src=\"img/s_015_DashT_SK_diagram_enumerated.png\" alt=\"Enumerated Signal K data flow diagram\" width=\"700\">[(zoom)](img/015_DashT_SK_diagram_enumerated.png)"
   ]
  },
  {
   "cell_type": "markdown",
   "metadata": {},
   "source": [
    "(**1**). NMEA-2000 databus is the source of the engine and energy data for the EngineDJG instrument.\n",
    "\n",
    ">There may be other, potential data sources which can be enabled in the future, such as IoT capable sensors, Bluetooth Low Energy (BLE) and General Purpose I/O pins (GPIO) but for now, only NMEA-2000 is discussed as data source but _DashT_ does not require NMEA-2000 in particular, but Signal K data."
   ]
  },
  {
   "cell_type": "markdown",
   "metadata": {},
   "source": [
    "(**2**). In case the NMEA-2000 databus does not provide navigational data, needed by _OpenCPN_ and displayed by other _DashT_ instruments, your boat probably sports also a classic NMEA-0183 wired sensors and instruments. They end up, typically into a multiplexer (MUX), which interfaces simply with the Signal K server node either by a USB connection, Ethernet connection or WiFi."
   ]
  },
  {
   "cell_type": "markdown",
   "metadata": {},
   "source": [
    "(**3**). _Signal K server node_, or a commercial Signal K data enabled router / multiplexer is entirely network enabled and can locate anywhere in your boat, not necessarily on the same computer where one is running _OpenCPN_ and _DashT_."
   ]
  },
  {
   "cell_type": "markdown",
   "metadata": {},
   "source": [
    ">Signal K data format is a standard for data interchange. A server implements and a client uses that data format. For example \"_Signal K server node_\" is not \"_Signal K_\", it is one of its implementations but there are others. See [this list](https://opencpn.org/wiki/dokuwiki/doku.php?id=opencpn:supplementary_software:signalk:a2) of open source and commercial products available."
   ]
  },
  {
   "cell_type": "markdown",
   "metadata": {},
   "source": [
    "(**4**). For example, one can have immediately access from the cockpit tablet to the rich set of instruments, plug-ins and features _Signal K server node_ provides"
   ]
  },
  {
   "cell_type": "markdown",
   "metadata": {},
   "source": [
    "(**5**). Signal K standard defines and a server node provides, among its other networked data interchange interfaces, so-called Delta-channel, where all the changes in the boat data is available. When the boat has a NMEA-2000 databus this usually means a lot of data and many Signal K keys. Clients can subscribe to all of this data or to some selected keys only."
   ]
  },
  {
   "cell_type": "markdown",
   "metadata": {},
   "source": [
    "(**6**). _OpenCPN_ has developed an interface to Signal K data, using a different interface than _DashT_ is using. Of course, OpenCPN is not a consumer of the engine data, and it is not even remotely interested in knowing if the ice cube machine is still working. But it needs the time, position and other navigational data for its routing and map functions. Also, it needs to feed the majority of its plug-ins with NMEA-0183 or Signal K data. For that it is using a internal (_i.e._ fast) multiplexer gateway."
   ]
  },
  {
   "cell_type": "raw",
   "metadata": {
    "raw_mimetype": "text/restructuredtext"
   },
   "source": [
    ".. index::\n",
    "   single: Signal K; NMEA-0183\n",
    ".. index::\n",
    "   single: NMEA-0183; Signal K"
   ]
  },
  {
   "cell_type": "markdown",
   "metadata": {},
   "source": [
    ">**NOTE**: Even if you decide not to use Signal K data in OpenCPN but NMEA-0183, please be aware that a _Signal K server node_ is able to provide all the NMEA-0183/AIS data to the chartplotter (and other clients) also in NMEA-0183 format - and still continue to feed _DashT_ with Signal K data only for those values _DashT_ subscribes to."
   ]
  },
  {
   "cell_type": "markdown",
   "metadata": {},
   "source": [
    "(**7**). _DashT_ is a plug-in for _OpenCPN_ chartplotter, containing an efficient, built-in Signal K data streamer. It subscribes to _all_ data a Signal K server sends over the Delta channel to start with, then asks the instruments what of this data available they are interested in, subscribing to those data keys only. When data arrives, it is distributed to subscribers over a C++ method call-back mechanism (_i.e._ very efficiently). This way, _DashT_ is making gain in speed and lowers the number of network connections to the Signal K server node, reducing its workload as well as that of your computer."
   ]
  },
  {
   "cell_type": "markdown",
   "metadata": {},
   "source": [
    "(**8**). The _DashT EngineDJG_ instrument comes only in one flavour, unlike other _DashT_ \"traditional\" OpenCPN Dashboard instruments which are hard-coded for their intended usage. An EngineDJG instrument is configured after its creation. The user of the instrument is provided with a list of available Signal K keys. Only one of the keys can be selected per instrument. The origin of the data is not required to be NMEA-2000 data source, but it most probably is. Once set, the instrument is subscribed to a Signal K key and show, say port engine rotation speed in r.p.m. There is no limitation other than the screen size for the number of these instruments."
   ]
  },
  {
   "cell_type": "markdown",
   "metadata": {},
   "source": [
    "(**9**).  The traditional Dashboard instruments, such as wind data and similar are subscribed automatically to the corresponding Signal K key. If it is not available, they will receive the data as before, from the _OpenCPN_'s NMEA-0183 distribution channel."
   ]
  },
  {
   "cell_type": "raw",
   "metadata": {
    "raw_mimetype": "text/restructuredtext"
   },
   "source": [
    ".. index::\n",
    "   single: Signal K; Configuration"
   ]
  },
  {
   "cell_type": "markdown",
   "metadata": {},
   "source": [
    "## Configuration"
   ]
  },
  {
   "cell_type": "markdown",
   "metadata": {},
   "source": [
    "The default configuration file is in JSON-format (like Signal K data). The default values are good for normal, local-only operation. It may require changes in case when things are not working. It is located:"
   ]
  },
  {
   "cell_type": "markdown",
   "metadata": {},
   "source": [
    "Windows `\\ProgramData\\opencpn\\plugins\\dashoard_tactics_pi\\streamin-sk.json`"
   ]
  },
  {
   "cell_type": "markdown",
   "metadata": {},
   "source": [
    "Linux `~/.opencpnplugins/dashboard_tactics_pi/streamin-sk.json`"
   ]
  },
  {
   "cell_type": "markdown",
   "metadata": {},
   "source": [
    "Typical changes would be to change port or the location of your _Signal K server node_ and its delta channel."
   ]
  },
  {
   "cell_type": "markdown",
   "metadata": {},
   "source": [
    "```\n",
    "    \"streaminsk\" : {\n",
    "        \"source\"          : \"localhost:8375\", // not limited to localhost\n",
    "        \"api\"             : \"v1.20.0\",        // version of Signal K server\n",
    "        \"connectionretry\" : 5,                // [s](min.=1s to reduce CPU load)\n",
    "        \"timestamps\"      : \"server\",         // Signal K \"server\" or \"local\"\n",
    "        \"verbosity\"       : 1                 //0=no,1=events,2=verbose,3+=debug\n",
    "```"
   ]
  },
  {
   "cell_type": "markdown",
   "metadata": {},
   "source": [
    ">**NOTE**: The configuration file is read only in during the startup so you would need to restart OpenCPN after modifying this file."
   ]
  },
  {
   "cell_type": "raw",
   "metadata": {
    "raw_mimetype": "text/restructuredtext"
   },
   "source": [
    ".. index::\n",
    "   single: Signal K; Troubleshooting"
   ]
  },
  {
   "cell_type": "markdown",
   "metadata": {},
   "source": [
    "## Troubleshooting"
   ]
  },
  {
   "cell_type": "markdown",
   "metadata": {},
   "source": [
    "When debugging or searching for a probable communication issue you would set the verbosity parameter to a value between `2`... `5`, the `5` being really verbose; so talkative that it would actually affect the performance and the OpenCPN log file will get really big, really fast."
   ]
  },
  {
   "cell_type": "markdown",
   "metadata": {},
   "source": [
    "Typically, you would stop _OpenCPN_, set the debug value and, before starting OpenCPN you would set a line-by line observation to its log file. With `grep` command you can further reduce the filtering if it is too verbose."
   ]
  },
  {
   "cell_type": "markdown",
   "metadata": {},
   "source": [
    "On Windows using PowerShell:\n",
    "```\n",
    "PS C:\\ProgramData\\opencpn>\n",
    "Get-Content ./opencpn.log -Wait -Tail 20\n",
    "```"
   ]
  },
  {
   "cell_type": "markdown",
   "metadata": {},
   "source": [
    "On *nix systems:\n",
    "```\n",
    "tail -f ~.opencpn/opencpn.log\n",
    "```\n",
    "or with filtering\n",
    "```\n",
    "tail -f ~.opencpn/opencpn.log | grep dashboard_tactics_pi\n",
    "```"
   ]
  },
  {
   "cell_type": "markdown",
   "metadata": {},
   "source": [
    "### No connection"
   ]
  },
  {
   "cell_type": "markdown",
   "metadata": {},
   "source": [
    "If the arrows keep on moving forever from right to left, it indicates that the TCP/IP cannot get connection. Check the configuration file's parameter, which is by default:"
   ]
  },
  {
   "cell_type": "markdown",
   "metadata": {},
   "source": [
    "`\"source\"          : \"localhost:8375\", // not limited to localhost`"
   ]
  },
  {
   "cell_type": "markdown",
   "metadata": {},
   "source": [
    "If your _Signal K server node_ is located in another computer, replace the `localhost` with the computer's name or if that does not work, with its IP-address (numerical)."
   ]
  },
  {
   "cell_type": "markdown",
   "metadata": {},
   "source": [
    "In case the remote Signal K server is still not answering it may be that it does not implement the delta service in the port `8375`, or on any other port perhaps; it is not a mandatory requirement for a Signal K server to provide this service."
   ]
  },
  {
   "cell_type": "markdown",
   "metadata": {},
   "source": [
    ">**NOTE**: the implementation of Signal K data delta channel is the reason why only _Signal K server node_ is supported in _DashT_ - other servers have simply never been tested."
   ]
  },
  {
   "cell_type": "markdown",
   "metadata": {},
   "source": [
    "If you know that the local _Signal K server node_ is there, that it is based on _Node.js_ and it is equal of greater to version 1.19, there is indeed no reason why the port `8375` would not be served. In this case you may try simply to use IP-address `127.0.0.1` instead of `loccalhost`, maybe there is an issue with your systems' Domain Name Service (DNS) settings."
   ]
  },
  {
   "cell_type": "markdown",
   "metadata": {},
   "source": [
    "### No data"
   ]
  },
  {
   "cell_type": "markdown",
   "metadata": {},
   "source": [
    "This is indicated by the following condition in the _Signal K In_ throughput display:"
   ]
  },
  {
   "cell_type": "markdown",
   "metadata": {},
   "source": [
    "<img src=\"img/s_035_DashT_SK_signalkin_connectionnodata.png\"\n",
    "alt=\"Signal K In - No data coming in\" width=\"150\">[(zoom)](img/035_DashT_SK_signalkin_connectionnodata.png)"
   ]
  },
  {
   "cell_type": "markdown",
   "metadata": {},
   "source": [
    "First, see the _Signal K server node_'s dashboard and verify that it gets indeed some data in - if not, nothing will come out either..."
   ]
  },
  {
   "cell_type": "markdown",
   "metadata": {},
   "source": [
    "If all looks good both for _Signal K server node_'s input and also the Dashboard's instruments keep hopping around as they normally do, there is perhaps simply no data available in `8375` port. See above, that's not a mandatory requirement for a Signal K server, maybe you are using some commercial implementation of it?"
   ]
  },
  {
   "cell_type": "markdown",
   "metadata": {},
   "source": [
    "### HALT state"
   ]
  },
  {
   "cell_type": "markdown",
   "metadata": {},
   "source": [
    "<img src=\"img/s_040_DashT_SK_signalkin-halt.png\"\n",
    "alt=\"Signal K In - HALT state\" width=\"150\">[(zoom)](img/040_DashT_SK_signalkin-halt.png)"
   ]
  },
  {
   "cell_type": "markdown",
   "metadata": {},
   "source": [
    "The message indicates that the continously running communication thread has been stopped. There is no other remedy for this condition but to stop gracefully OpenCPN and restart it."
   ]
  },
  {
   "cell_type": "markdown",
   "metadata": {},
   "source": [
    "To avoid this to happen one should keep both the Signal K input stream _instrument_ and the Influx DB output stream _instrument_ both in their own, distinct instrument windows. In other words, they shall be separated from other instruments but also from each other. This is to avoid that the communication thread would get orphan when  instrument windows get reorganized."
   ]
  }
 ],
 "metadata": {
  "kernelspec": {
   "display_name": "Python 3",
   "language": "python",
   "name": "python3"
  },
  "language_info": {
   "codemirror_mode": {
    "name": "ipython",
    "version": 3
   },
   "file_extension": ".py",
   "mimetype": "text/x-python",
   "name": "python",
   "nbconvert_exporter": "python",
   "pygments_lexer": "ipython3",
   "version": "3.8.2"
  }
 },
 "nbformat": 4,
 "nbformat_minor": 4
}
