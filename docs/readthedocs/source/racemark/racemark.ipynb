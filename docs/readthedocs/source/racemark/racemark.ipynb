{
 "cells": [
  {
   "cell_type": "raw",
   "metadata": {
    "raw_mimetype": "text/restructuredtext"
   },
   "source": [
    ".. index::\n",
    "   single: DashT Race Mark\n",
    ".. index::\n",
    "   single: Routing\n",
    ".. index::\n",
    "   single: Routing; Race"
   ]
  },
  {
   "cell_type": "markdown",
   "metadata": {},
   "source": [
    "# DashT Race Mark"
   ]
  },
  {
   "cell_type": "markdown",
   "metadata": {},
   "source": [
    ">**DISCLAIMER**: This software is for educational purposes only. By using it you accept the conditions presented at the first usage of the application, but being equally available in the [Introduction](../introduction.ipynb#Disclaimer) section of this document. The usage for any other purpose is under your entire responsibility and the liability of the author(s) of this software is not engaged. Please respect [Convention on the International Regulations for Preventing Collisions at Sea, 1972 (COLREGs)](http://www.imo.org/en/About/Conventions/ListOfConventions/Pages/COLREG.aspx\") and race's rules at all times."
   ]
  },
  {
   "cell_type": "markdown",
   "metadata": {},
   "source": [
    "_DashT Race Mark_ is a graphical and numerical tool which allows you to train yourself and your team to optimize both windward and leeward race legs."
   ]
  },
  {
   "cell_type": "markdown",
   "metadata": {},
   "source": [
    "It is intended to be used in conjuction with [DashT Race Start](../racestart/racestart.ipynb#DashT-Race-Start)."
   ]
  },
  {
   "cell_type": "markdown",
   "metadata": {},
   "source": [
    "From the educational point of view the functions presented are applicable both in keel boat and dinghy racing minus perhaps functions helping in gennaker selection. Please see [OpenCPN supplementary software documentation for a suitable NMEA-0183/NMEA-2000 simulator](https://opencpn.org/wiki/dokuwiki/doku.php?id=opencpn:supplementary_software:signalk:a6#how_to_use_a_nmea-simulator_to_stream_nmea-0183_and_nmea-2000_data)."
   ]
  },
  {
   "cell_type": "raw",
   "metadata": {
    "raw_mimetype": "text/restructuredtext"
   },
   "source": [
    ".. index::\n",
    "   single: Race Mark; Introduction"
   ]
  },
  {
   "cell_type": "markdown",
   "metadata": {},
   "source": [
    "## Introduction"
   ]
  },
  {
   "cell_type": "markdown",
   "metadata": {},
   "source": [
    "_DashT Race Mark_ is a graphical and numerical tool which allows you to train yourself and your team to climb ladder rungs of a windward leg or to descent those of a leeward leg in most efficient way. It provides you the numerical true wind information about the upcoming legs which allow you to plan well ahead and prepare the most efficient head sail to use for each leg."
   ]
  },
  {
   "cell_type": "markdown",
   "metadata": {},
   "source": [
    "The race marks are defined and managed using _OpenCPN_ Route Manager. It would be useful to get familiar with it before using _DashT Race Mark_. The skills needed are adding, naming and moving waypoints. Of course, one needs to be able to make route between those waypoints, activate/deactivate and modify the route which presents the race course."
   ]
  },
  {
   "cell_type": "markdown",
   "metadata": {},
   "source": [
    "Without pretending to be able to present all the world's race courses, we concentrate here to explain an example based on simple windward/leeward race with a spreader. The distances are reduced in sake of the presentation on a single screenshot."
   ]
  },
  {
   "cell_type": "raw",
   "metadata": {
    "raw_mimetype": "text/restructuredtext"
   },
   "source": [
    ".. index::\n",
    "   single: Race Mark; Define Course"
   ]
  },
  {
   "cell_type": "markdown",
   "metadata": {},
   "source": [
    "## Define Race Course"
   ]
  },
  {
   "cell_type": "markdown",
   "metadata": {},
   "source": [
    "We continue this example from where we left with [DashT Race Start](../racestart/racestart.ipynb#DashT-Race-Start), _i.e._ we have just passed the start line and we have a windward leg ahead of us, then a spreader mark which we can get to on reaching starboard tack. The leeward leg will bring us back down below the start line, which we have to reach in the final windward leg. We could make a second tour but for the needs of this example the finish line is on the start line."
   ]
  },
  {
   "cell_type": "markdown",
   "metadata": {},
   "source": [
    "<img src=\"img/s_010_DashT_RaceMark_windward_leeward_race.png\"\n",
    "alt=\"DashtT Race Mark - an example windward/leeward race with a spreader\" width=\"200\">[(zoom)](img/010_DashT_RaceMark_windward_leeward_race.png)"
   ]
  },
  {
   "cell_type": "markdown",
   "metadata": {},
   "source": [
    "To make the race course depicted above there is no need for anything else but the _OpenCPN_ Route Manager."
   ]
  },
  {
   "cell_type": "markdown",
   "metadata": {},
   "source": [
    ">**NOTE**: Please note that we do not close the route in a loop even if the race is for more than one round. There is no such a notion in the _OpenCPN_ Route Manager. For this reason we leave a good distance between the Start and Finish marks - it gives us time to re-activate the route for the second round. The Route Manager automatically deactivates the route once you have passed the Finish mark."
   ]
  },
  {
   "cell_type": "markdown",
   "metadata": {},
   "source": [
    "Supposing that the race documentation gives you the names and exact locations of the marks you can enter them in advance into the waypoint list of the _OpenCPN_ Route Manager. It is worthwhile to make them containing ordinal numbers if you already know in which order they have to be passed. This can be done by selecting their icons from the _OpenCPN_ icon library which contains enumerated marker symbols:"
   ]
  },
  {
   "cell_type": "markdown",
   "metadata": {},
   "source": [
    "<img src=\"img/s_015_DashT_RaceMark_make_wps_pretty.png\"\n",
    "alt=\"DashtT Race Mark - Make waypoints pretty\" width=\"300\">[(zoom)](img/015_DashT_RaceMark_make_wps_pretty.png)"
   ]
  },
  {
   "cell_type": "markdown",
   "metadata": {},
   "source": [
    ">**NOTE**: It is very important to give **unique names** for each waypoint. Normally this is not necessary, but since there is a [bug](https://opencpn.org/flyspray/index.php?do=details&task_id=2688) in the way _OpenCPN_ (v5.2) communicates us the next waypoint's unique identifier we cannot use that method for now. Therefore _DashT Race Mark_ must rely on you to define a unique name for each of your waypoints representing a race mark."
   ]
  },
  {
   "cell_type": "markdown",
   "metadata": {},
   "source": [
    ">_**TIP**_: While you are here in this dialog, it is a good idea to **reduce the default arrival radius** set by the _OpenCPN_ Route Manager for each of your race course waypoints by going to _Properties -> Extended -> Arrival Radius_. Suggested value is 0.025 nautical miles which reduces the chance for a misinterpretation of your intentions by the Route Manager. (This is racing, not cruising!)"
   ]
  },
  {
   "cell_type": "markdown",
   "metadata": {},
   "source": [
    "Simply create a route between each of the waypoints representing the race course using _OpenCPN_ Route Manager. The name of the route is free, _DashT Race Mark_ will be searching for an **active** route, and there can be only one active route at a time."
   ]
  },
  {
   "cell_type": "markdown",
   "metadata": {},
   "source": [
    "In a sailing race like this you will be sure not to follow the route line. Set the line as discrete as possible, by narrow width, dotted line and gray color:"
   ]
  },
  {
   "cell_type": "markdown",
   "metadata": {},
   "source": [
    "<img src=\"img/s_020_DashT_RaceMark_make_route_discrete.png\"\n",
    "alt=\"DashtT Race Mark - Make route discrete\" width=\"400\">[(zoom)](img/020_DashT_RaceMark_make_route_discrete.png)"
   ]
  },
  {
   "cell_type": "markdown",
   "metadata": {},
   "source": [
    ">_**TIP**_: Maybe you will find that the organizer's announced positions of markers are outright wrong when you make your first race. Supposing that there are other races coming up, you can quickly drop a memorandum mark for the actual position of each mark when you pass them. Between the two races you will have time to snag the actual race marks over your memorandum marks and this way increase the accuracy of your sailing in the next race!"
   ]
  },
  {
   "cell_type": "markdown",
   "metadata": {},
   "source": [
    "### Open application"
   ]
  },
  {
   "cell_type": "markdown",
   "metadata": {},
   "source": [
    "<img src=\"img/s_005_DashT_RaceMark_add_instrument.png\"\n",
    "alt=\"DashT Race Mark - add application\" width=\"300\">[(zoom)](img/005_DashT_RaceMark_add_instrument.png)"
   ]
  },
  {
   "cell_type": "markdown",
   "metadata": {},
   "source": [
    ">**NOTE**: Albeit there is no need for any database services or such, please see the corresponding chapter, [InfluxDB / Docker](../influxdb/influxdb.ipynb#InfluxDB-/-Docker) anyway, for the easiest possible way to get all network based services of _DashT_ available with a simple push-button start (Windows) or by a simple command (Linux). Of course, you can have your own way to set the required service, something like how it is done in [EngineDJG script](../enginedjg/enginedjg.ipynb#Engine-Gage-script). But if nothing is set to retrieve the _DashT Race Mark_ over the network, local or other, nothing explained below will take place!"
   ]
  },
  {
   "cell_type": "markdown",
   "metadata": {},
   "source": [
    "As usual with complex applications with big tables and buttons, requiring a large real-estate area, it is better to keep them alone in a dedicated _DashT_ instrument window."
   ]
  },
  {
   "cell_type": "markdown",
   "metadata": {},
   "source": [
    "For the first time initialization, you are requested to acknowledge and accept the free software license and limitations of liabilibity. By continuing you give your acceptance. If a new application of the same type is created the acceptance is asked again. For this one, this screen will not reappear unless the ID of the instrument is changed in the ini/conf-file."
   ]
  },
  {
   "cell_type": "markdown",
   "metadata": {},
   "source": [
    "<img src=\"img/s_010_DashT_RaceMark_accept_license.png\"\n",
    "alt=\"DashT Race Mark - accept license\" width=\"300\">[(zoom)](img/010_DashT_RaceMark_accept_license.png)"
   ]
  },
  {
   "cell_type": "markdown",
   "metadata": {},
   "source": [
    "The _DashT Race Mark_ will enter the standby state, leaving you time to verify with the other _DashT_ instruments that it can receive all data it needs. If you have successfully used _DashT Race Start_ you already have got it all. Otherwise a warning message will pop up for missing data."
   ]
  },
  {
   "cell_type": "markdown",
   "metadata": {},
   "source": [
    "<img src=\"img/s_025_DashT_RaceMark_waiting_for_route.png\"\n",
    "alt=\"DashT Race Mark - standby\" width=\"300\">[(zoom)](img/025_DashT_RaceMark_waiting_for_route.png)"
   ]
  },
  {
   "cell_type": "raw",
   "metadata": {
    "raw_mimetype": "text/restructuredtext"
   },
   "source": [
    ".. index::\n",
    "   single: Race Mark; Start Course"
   ]
  },
  {
   "cell_type": "markdown",
   "metadata": {},
   "source": [
    "## Start The Course"
   ]
  },
  {
   "cell_type": "markdown",
   "metadata": {},
   "source": [
    "If you can (make your best that you can) **activate** the race route _before_ you pass the Start mark of the race course. Simply right click on the route line."
   ]
  },
  {
   "cell_type": "markdown",
   "metadata": {},
   "source": [
    "<img src=\"img/s_030_DashT_RaceMark_activate_route.png\"\n",
    "alt=\"DashT Race Mark - Activate Route\" width=\"200\">[(zoom)](img/030_DashT_RaceMark_activate_route.png)"
   ]
  },
  {
   "cell_type": "markdown",
   "metadata": {},
   "source": [
    "If and when you pass within a reasonable distance to the Start mark, _OpenCPN_ Route Manager will put on the first leg, which is a windward leg."
   ]
  },
  {
   "cell_type": "markdown",
   "metadata": {},
   "source": [
    ">**NOTE**: If the route paths are very close to each other and if you do _not_ pass next to the Start mark's arrival radius, it may well happen that _OpenCPN_ route manager puts on a wrong leg because you are closer to it than to the first leg. In this case it is very difficult to recover from that situation by other means than by deactivating the route and then waiting until you cross the next time the first leg's route path, and only then activating again the race course route. Well, you have certainly other things to do, so plan your route carefully so that this cannot happen easily."
   ]
  },
  {
   "cell_type": "raw",
   "metadata": {
    "raw_mimetype": "text/restructuredtext"
   },
   "source": [
    ".. index::\n",
    "   single: Race Mark; Windward leg"
   ]
  },
  {
   "cell_type": "markdown",
   "metadata": {},
   "source": [
    "## Windward leg"
   ]
  },
  {
   "cell_type": "markdown",
   "metadata": {},
   "source": [
    "Again, like with _DashT Race Start_ a huge quantity of information will be presented both on the chart canvas as an overlay and on the _DashT Race Mark_ numerical display dashboard. They are best explained in the logical order, referring to the numbers on the below screenshot of a windward leg:"
   ]
  },
  {
   "cell_type": "markdown",
   "metadata": {},
   "source": [
    "<img src=\"img/s_035_DashT_RaceMark_windward_leg_ladders.png\"\n",
    "alt=\"DashT Race Mark - Windward leg with ladders\" width=\"700\">[(zoom)](img/035_DashT_RaceMark_windward_leg_ladders.png)"
   ]
  },
  {
   "cell_type": "markdown",
   "metadata": {},
   "source": [
    "1. **The Median Wind** direction provided by the Average Wind instrument is shown by a dotted line from the next waypoint\n",
    "1. **The short term average wind** direction, also provided by the Average Wind instrument is shown in a unique ladder rung line, always passing through the boat. It can be used to determine if you are on a lift or on a header. In the case you suspect the latter it helps you to take the decision should you continue without tacking, nevertheless (it can be also a short drop on your speed due to wind force change, not only the direction): with this auxiliary line you can estimate if you continue to still climb on the ladder towards the waypoint, or not and this way perhaps you can avoid an unnecessary tack.\n",
    "1. **Starboard layline** and\n",
    "1. **Port layline** are based on the Median Wind. Their purpose is to warn you about getting into a dead end situation which may occur if there is a sudden but permanent wind change. It is better to stay close to the Median Wind center line.\n",
    "1. **Ladder Rungs** are equally based on the Median Wind. Their interval can be adjusted in the ini/conf-file (see the corresponding chapter). They allow you to stay on the effective side of climbing towards the windward mark. Controlling your opponents by tacking with them but always higher on the ladder is also helped by these visual aids.\n",
    "1. **Chart Off** button allows to toggle the chart overlay if you find it to be too much. Please note that the ini/conf-file allows you to control what is shown on the chart overlay (see the corresponding chapter)\n",
    "1. **Peek data on next legs** - _DashT Race Mark_ continuously calculates some key values for the upcoming legs based on the actual, measured data in order to help in the selection of the sails, such as gennakers:\n",
    "1. **TWA on next legs** is shown for actual, measured value from your boat's system and for the time integrated values, both for the Median Wind and for the short term average wind.\n",
    "1. **Route bearing back** is an useful help when one is on conditions where the tide or other current is strong. On a leeward leg, one can keep an eye on not getting continuously away from the theoretical route by watching the previous mark's actual bearing.\n",
    "1. **Current \"true angle\"** is not repeating the current direction which is already shown by the _Tactics_ instruments - the value is the angle the current would hit the boat if it would follow the theoretical route of the next leg. The values lesser than 90 degrees and around it would slow down the boat and would perhaps increase the leeway. Values closer to 180 degrees would push the boat and thus give it a speed advantage. Of course, if the tide is turning and the race course is long, the measured/calculated value has not that much of interest compared to some static data tables with time corrections but it would work well enough on a short race course.\n",
    "1. **Route Manager** dashboard - is something you cannot turn off which is annoying. In particular, do not get fooled with the _\"VMG\"_, it is for the route not for the wind! Better not look at it..."
   ]
  },
  {
   "cell_type": "raw",
   "metadata": {
    "raw_mimetype": "text/restructuredtext"
   },
   "source": [
    ".. index::\n",
    "   single: Race Mark; Reaching leg"
   ]
  },
  {
   "cell_type": "markdown",
   "metadata": {},
   "source": [
    "## Reaching leg"
   ]
  },
  {
   "cell_type": "markdown",
   "metadata": {},
   "source": [
    "You will not need help on this. _DashT Race Mark_ will stay automatically largely silent on the chart canvas."
   ]
  },
  {
   "cell_type": "raw",
   "metadata": {
    "raw_mimetype": "text/restructuredtext"
   },
   "source": [
    ".. index::\n",
    "   single: Race Mark; Leeward leg"
   ]
  },
  {
   "cell_type": "markdown",
   "metadata": {},
   "source": [
    "## Leeward leg"
   ]
  },
  {
   "cell_type": "markdown",
   "metadata": {},
   "source": [
    "On the leeward leg the display remains similar than on the windward leg, only that you have to remember that the logic has changed: this time a lift would push you away from the shortest distance toward the leeward mark and you need to use the short term average \"ladder rung\" crossing your boat to determine if it necessary to gybe. Maybe it is not worthwhile, at least not immediately if you continue your descent on the ladders inclining on the side of the Median Wind; you could just profit from the boost to the speed."
   ]
  },
  {
   "cell_type": "markdown",
   "metadata": {},
   "source": [
    "<img src=\"img/s_040_DashT_RaceMark_leeward_no_annotation.png\"\n",
    "alt=\"DashT Race Mark - Leeward leg\" width=\"300\">[(zoom)](img/040_DashT_RaceMark_leeward_no_annotation.png)"
   ]
  },
  {
   "cell_type": "raw",
   "metadata": {
    "raw_mimetype": "text/restructuredtext"
   },
   "source": [
    ".. index::\n",
    "   single: Race Mark; Final leg"
   ]
  },
  {
   "cell_type": "markdown",
   "metadata": {},
   "source": [
    "## Final leg"
   ]
  },
  {
   "cell_type": "markdown",
   "metadata": {},
   "source": [
    "Maybe you do not have time anymore to watch any ladder rungs, but if you will in our use case it is similar to the first leg which was also a windward leg."
   ]
  },
  {
   "cell_type": "markdown",
   "metadata": {},
   "source": [
    "Once you have reached or passed the Finish mark of your race course route, the _OpenCPN_ Route Manager will automaticallyh deactivate the route and the _DashT Race Mark_ will put itself in a standby state."
   ]
  },
  {
   "cell_type": "markdown",
   "metadata": {},
   "source": [
    "Victory and glory!"
   ]
  }
 ],
 "metadata": {
  "kernelspec": {
   "display_name": "Python 3",
   "language": "python",
   "name": "python3"
  },
  "language_info": {
   "codemirror_mode": {
    "name": "ipython",
    "version": 3
   },
   "file_extension": ".py",
   "mimetype": "text/x-python",
   "name": "python",
   "nbconvert_exporter": "python",
   "pygments_lexer": "ipython3",
   "version": "3.8.2"
  }
 },
 "nbformat": 4,
 "nbformat_minor": 4
}
