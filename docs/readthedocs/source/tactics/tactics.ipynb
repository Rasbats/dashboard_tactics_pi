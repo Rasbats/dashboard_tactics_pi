{
 "cells": [
  {
   "cell_type": "raw",
   "metadata": {
    "raw_mimetype": "text/restructuredtext"
   },
   "source": [
    ".. index::\n",
    "   single: Tactics\n",
    ".. index::\n",
    "   single: Instruments; Tactics"
   ]
  },
  {
   "cell_type": "markdown",
   "metadata": {},
   "source": [
    "# Tactics"
   ]
  },
  {
   "cell_type": "markdown",
   "metadata": {},
   "source": [
    ">This document is ©2015-2019 [tom-r](https://github.com/tom-r) and reproduced here from the [original source](https://github.com/tom-r/tactics_pi/blob/e97aede98dc203e6ec1f1ce17c6ff19947fe1b09/tactics_pi.odt), together with the source code containing tactic_pi algorithms and methods under the GNU General Public License v3 (GPL v3) – Likewise, modifications in [DashT software](https://github.com/canne/dashboard_tactics_pi) into those algorithms and their description in this document are ©2019-2020 [canne](https://github.com/canne/dashboard_tactics_pi), and published  under the same license. Please feel free to fork and copy this work  but if you plan to publish it, please keep this notice unmodified in the document together with any copyright statement in the source code."
   ]
  },
  {
   "cell_type": "raw",
   "metadata": {
    "raw_mimetype": "text/restructuredtext"
   },
   "source": [
    ".. index::\n",
    "   single: Tactics; Introduction"
   ]
  },
  {
   "cell_type": "markdown",
   "metadata": {},
   "source": [
    "## Introduction"
   ]
  },
  {
   "cell_type": "markdown",
   "metadata": {},
   "source": [
    "Everything started with the question : _“Do we make it around the edge of that island when we tack now and sail the same apparent wind angle on the other tack?“_"
   ]
  },
  {
   "cell_type": "markdown",
   "metadata": {},
   "source": [
    ">**Disclaimer**: This is still alpha code (not even beta), and you should not use it for live – real sailing. I will not be liable for any harm, damage or whatever strange things happen if you use this plugin and rely on its data."
   ]
  },
  {
   "cell_type": "raw",
   "metadata": {
    "raw_mimetype": "text/restructuredtext"
   },
   "source": [
    ".. index::\n",
    "   single: Tactics; Features"
   ]
  },
  {
   "cell_type": "markdown",
   "metadata": {},
   "source": [
    "## What Tactics can do?"
   ]
  },
  {
   "cell_type": "markdown",
   "metadata": {},
   "source": [
    "- Calculate true wind data : TWA, TWD, TWS from true heading (HDT), speed through water (STW) and app. Wind speed (AWS), with optional correction by heel-angle. Calculation is enabled via a preference setting and disables available true wind data from the bus throughout the tactics_pi plugin ;"
   ]
  },
  {
   "cell_type": "markdown",
   "metadata": {},
   "source": [
    "- Calculate the “leeway”, the boat drift based on heel. A common formula is used for that purpose ;"
   ]
  },
  {
   "cell_type": "markdown",
   "metadata": {},
   "source": [
    "- Calculate the surface sea current and display it as single instruments (current speed/direction) as part of the “Bearing compass” or as overlay on the chart (semi transparent). The routines take boat heel and leeway into account. If you don't have a heel sensor, there is a simply workaround, see below. Current display on the chart can be disabled by a preference setting ;"
   ]
  },
  {
   "cell_type": "markdown",
   "metadata": {},
   "source": [
    "- Calculate and display the boat laylines for the current tack, and the same TWA on the other tack. Sea current is taken into account, if available ! Laylines may be toggled on/off.  Adjustable length and max. width (triangle, with one corner at the boat) of the boat laylines. The layline width reflects the boat's yawing (COG changes over time) ;"
   ]
  },
  {
   "cell_type": "markdown",
   "metadata": {},
   "source": [
    "- You can load a polar file and calculate/display performance data, like actual VMG (velocity made good up-/downwind), Target-VMG, Target-TWA  (the opt. TWA up-/downwind), CMG (course made good towards a waypoint), Target-CMG (opt. CMG angle and speed), polar speed (the speed you should be able to sail at current TWA/TWS based on your polar) ;"
   ]
  },
  {
   "cell_type": "markdown",
   "metadata": {},
   "source": [
    "- It can display the actual polar as overlay on the chart, including markers for Target-VMG/CMG angles. Just adopt your course and place your heading pointer on one of the markers, and you sail Target-VMG/CMG based on your polar ;"
   ]
  },
  {
   "cell_type": "markdown",
   "metadata": {},
   "source": [
    "- You can set a (one !) temporary tactics waypoint and display the laylines to the mark, based on a Target-TWA calculation, while taking your polar into account ;"
   ]
  },
  {
   "cell_type": "markdown",
   "metadata": {},
   "source": [
    "- It has a “dial instruments” called “Bearing compass”. Boat true heading (HDT)  points “up”, it shows the boat laylines as well, the surface current, a pointer to the waypoint (either set manually as the temporary Tactics waypoint or read from a NMEA RMB sentence), needles for AWA and TWA, markers for the Target-VMG/CMG angles ;"
   ]
  },
  {
   "cell_type": "markdown",
   "metadata": {},
   "source": [
    "- It has a “Polar compass” instrument, graphically displaying the actual polar ring and markers for Bearing to WP, Target-VMG angles and Target-CMG angles ;"
   ]
  },
  {
   "cell_type": "markdown",
   "metadata": {},
   "source": [
    "- It has an “Average Wind” instrument with an adjustable averaging time, which displays graphically the average wind and its deviations to port / starboard"
   ]
  },
  {
   "cell_type": "markdown",
   "metadata": {},
   "source": [
    "- It can create specific NMEA performance records with the purpose to export them to the displays of your instruments. You can now e.g. calculate the polar target speed in the plugin and send it to your instrument display outside in the cockpit. Currently only available for NKE, but may be enhanced in the future ;"
   ]
  },
  {
   "cell_type": "markdown",
   "metadata": {},
   "source": [
    "- It can export the data from BaroHistory, WindHistory and PolarPerfomance instruments to a flat text file with selectable export rate and column separator (via ini file). The export will either create a new, or append to an existing export file ;"
   ]
  },
  {
   "cell_type": "markdown",
   "metadata": {},
   "source": [
    "- Various Tactics settings are grouped in a separate tab in the Preferences configuration dialog of _DashT_. To access the preferences dialog, right mouse click on any _DashT_ instrument, then select “Preferences\" (**8**);"
   ]
  },
  {
   "cell_type": "markdown",
   "metadata": {},
   "source": [
    "<img src=\"img/s_001_DashT_prefs_context_menu.png\"\n",
    "alt=\"Context menu\" width=\"200\">[(zoom)](img/001_DashT_prefs_context_menu.png)"
   ]
  },
  {
   "cell_type": "markdown",
   "metadata": {},
   "source": [
    "- You'll find all seetings in a separate tab _“Tactics Performance Parameters”_ (**1**):"
   ]
  },
  {
   "cell_type": "markdown",
   "metadata": {},
   "source": [
    "<img src=\"img/s_005_DashT_Tactics_Perf_Parameters_dlg.png\"\n",
    "alt=\"Tactics Performance Parameter Access\" width=\"200\">[(zoom)](img/005_DashT_Tactics_Perf_Parameters_dlg.png)"
   ]
  },
  {
   "cell_type": "markdown",
   "metadata": {},
   "source": [
    "- There are pop-up _ToolTips_ available for almost all of the Tactics preferences. Just hover the mouse over any of the settings to get explanation and usage description."
   ]
  },
  {
   "cell_type": "markdown",
   "metadata": {},
   "source": [
    "<img src=\"img/s_005_DashT_Tactics_Parameters_Tooltip.png\"\n",
    "alt=\"Tooltips\" width=\"400\">[(zoom)](img/005_DashT_Tactics_Parameters_Tooltip.png)"
   ]
  },
  {
   "cell_type": "markdown",
   "metadata": {},
   "source": [
    "Below is a screenshot which depicts all the Tactics parameters which can be changed from the Preferences dialog. Hover the mouse over each parameter to get an explanation. To get the same explanation and some additional hints, see the tweaks explained [later on in this document](../tweaks/tweaks.ipynb#DashT/Tactics) which explains the items which can be changed in the ini/conf-file."
   ]
  },
  {
   "cell_type": "markdown",
   "metadata": {},
   "source": [
    "<img src=\"img/s_010_DashT_Tactics_All_Perf_Params_In_Dialog.png\"\n",
    "alt=\"All parameters\" width=\"400\">[(zoom)](img/010_DashT_Tactics_All_Perf_Params_In_Dialog.png)"
   ]
  },
  {
   "cell_type": "raw",
   "metadata": {
    "raw_mimetype": "text/restructuredtext"
   },
   "source": [
    ".. index::\n",
    "   single: Tactics; Prerequisites"
   ]
  },
  {
   "cell_type": "markdown",
   "metadata": {},
   "source": [
    "## Prerequisites"
   ]
  },
  {
   "cell_type": "markdown",
   "metadata": {},
   "source": [
    "- You will need to activate OpenGL, if you want to use the chart overlay functions ;\n",
    "- SOG, COG from the GPS ;\n",
    "- True Heading from an electronic compass. If not available, magnetic heading will do, as long as you have magnetic variance available. It can be available from these sources, in this priority order:\n",
    "  1. From _OpenCPN_ GPS Fix ;\n",
    "  2. HDG-sentence ;\n",
    "  3. RMC-sentence (likely already used by _OpenCPN_ for fix) ;\n",
    "  4. From from the wmm_pi plug-in.\n",
    "- Boat speed through water **STW** from a log / “paddlewheel” sensor (keep it clean!) ;\n",
    "- Apparent wind angle **AWA** and Apparent Wind Speed **AWS** ;\n",
    "- Heel sensor which supplies your boat's heel angle, also calld \"roll\". If not available, there's a workaround with manual input in preferences ;\n",
    "- You need a polar file of your boat to use all polar based performance calculations, explained in a separate section in this document ;\n",
    "- Calibrated sensors or corection to AWA, Compass HDG/HDT, STW (Speed through water), and AWS (apparent wind speed), as good as possible. Especially the compass heading calibration tends to be neglected. However, this is vital for a  proper surface current calculation. All I can say is :   sh*** in – sh*** out …   ;-) ."
   ]
  },
  {
   "cell_type": "markdown",
   "metadata": {},
   "source": [
    "### CMG/VMG abbreviations"
   ]
  },
  {
   "cell_type": "markdown",
   "metadata": {},
   "source": [
    "The terms CMG and VMG used in this documentation are not unique across instrument manufacturers and other sailing software packages, even in OpenCPN and in Dashboard \"VMG\" is used in routing functions! This software will still use both terms, familiar to the intended target users, both in the software and here, in this documentation. However you can change both terms by setting two preferences in the ini/conf-file file. See the [corresponding chapter](../tweaks/tweaks.ipynb#DashT/Tactics) how to do that."
   ]
  },
  {
   "cell_type": "markdown",
   "metadata": {},
   "source": [
    "See also the Terminology at the very end for explanation of terms"
   ]
  },
  {
   "cell_type": "raw",
   "metadata": {
    "raw_mimetype": "text/restructuredtext"
   },
   "source": [
    ".. index::\n",
    "   single: Tactics; Without Polar"
   ]
  },
  {
   "cell_type": "markdown",
   "metadata": {},
   "source": [
    "## Without Polar"
   ]
  },
  {
   "cell_type": "markdown",
   "metadata": {},
   "source": [
    "The instruments and functions in this chapter do not require that you have your boat's polar."
   ]
  },
  {
   "cell_type": "raw",
   "metadata": {
    "raw_mimetype": "text/restructuredtext"
   },
   "source": [
    ".. index::\n",
    "   single: Tactics; True wind data"
   ]
  },
  {
   "cell_type": "markdown",
   "metadata": {},
   "source": [
    "### Calculate true wind data"
   ]
  },
  {
   "cell_type": "markdown",
   "metadata": {},
   "source": [
    "The plug-in can calculate true wind data (TWA, TWS, TWD) but keeps the calculated data inside the plug-in. (it does not broadcast it to OpenCPN!)"
   ]
  },
  {
   "cell_type": "markdown",
   "metadata": {},
   "source": [
    "True wind calculation is done silently if you don’t have TWA, TWS, TWD available in your NMEA stream.  Furthermore you can force the true wind calculation in the plug-in by a preference setting. If the tick _“Force True Wind Calculation”_ is set "
   ]
  },
  {
   "cell_type": "markdown",
   "metadata": {},
   "source": [
    "<img src=\"img/s_015_DashT_Tactics_tw_calcs_tickboxes.png\"\n",
    "alt=\"DashT Tactics TW Tickboxes\" width=\"300\">[(zoom)](img/015_DashT_Tactics_tw_calcs_tickboxes.png)"
   ]
  },
  {
   "cell_type": "markdown",
   "metadata": {},
   "source": [
    "It does not matter if TWA, TWS and TWD are already available on the system or not. Calculation is done in the plug-in then.  It does calculate TWA, TWS and TWD."
   ]
  },
  {
   "cell_type": "markdown",
   "metadata": {},
   "source": [
    "This is useful in case, for example if you have a heel sensor but which is not integrated in your instrument bus. You can use the corrections to get more accurate true wind data by taking into account the heel (roll)."
   ]
  },
  {
   "cell_type": "markdown",
   "metadata": {},
   "source": [
    "Input is AWA, AWS, STW, and for TWD also true heading HDT."
   ]
  },
  {
   "cell_type": "markdown",
   "metadata": {},
   "source": [
    "If you don't have HDT on your system bus (but only HDG), you can use wmm_pi plug-in: it supplies the magnetic variation and if it is enabled, it value is fed into _DashT_ by OpenCPN and its value is taken into account to calculate HDT from HDG."
   ]
  },
  {
   "cell_type": "markdown",
   "metadata": {},
   "source": [
    "If you have a heel sensor in your system, and its data is available to _DashT_, you can use the three following corrections:"
   ]
  },
  {
   "cell_type": "markdown",
   "metadata": {},
   "source": [
    "1. **Correct STW with Leeway** : the plug-in can calculate your leeway (drift angle) based on on your heel sensor (see below). That means your boat is possibly moving sideways, which adds an error to the True Wind calculation. Standard instruments normally do not take this effect into account, as far as I know. NKE does this correction in its regatta processor only, but not on their normal instruments.\n",
    "1. **Correct AWS/AWA with Heel** : This option corrects your AWS and AWA data by the heel angle. Use this option with great care !. Manufacturers normally already do correct this, if you have a heel sensor integrated in your instrument bus. O will simply receive the already corrected data for AWS / AWA then. The result would be wrong data ! I implemented this option for those sailors using an external (or DIY) heel sensor, which is not recognized by their instrument system. You'll get a warning popup as soon as you set the tick.\n",
    "1. **Use SOG instead of STW for True Wind Calc** : Replaces STW (Speed through water, the “log”) with SOG (from the GPS) in the internal true wind calculation.  The idea is simply to have a fallback for the true wind calculation in case your log fails and also to eliminate side effects on the calculation by surface current. Some like the option to refer to the ground and some prefer to refer to the water - make your choice!"
   ]
  },
  {
   "cell_type": "markdown",
   "metadata": {},
   "source": [
    ">**NOTE**: if you have issues with the true wind calculation in _DashT_, take a look at the OpenCPN log-file. _DashT_ collects the information needed by the Tactics algorithm and if something is missing, it is reported in the log file to help the troubleshooting."
   ]
  },
  {
   "cell_type": "raw",
   "metadata": {
    "raw_mimetype": "text/restructuredtext"
   },
   "source": [
    ".. index::\n",
    "   single: Tactics; Calculate Leeway"
   ]
  },
  {
   "cell_type": "markdown",
   "metadata": {},
   "source": [
    "### Calculate Leeway"
   ]
  },
  {
   "cell_type": "markdown",
   "metadata": {},
   "source": [
    "Leeway describes the drift of the boat due to the force of the wind. Leeway is the basic input for the surface current calulation described later on. Input for the leeway calculation is your heel angle. Normally you'd say : the more you heel, the more you drift. But that's only part of the truth. Other significant inputs are boat speed and the shape of your hull."
   ]
  },
  {
   "cell_type": "markdown",
   "metadata": {},
   "source": [
    "A widely (NKE, B&G,...) used formula calculates the leeway with 3 input values : heel, boat speed (STW), and hullshape-factor."
   ]
  },
  {
   "cell_type": "markdown",
   "metadata": {},
   "source": [
    "The attribute in the preferences is called _“Boat's Leeway factor [0..20]:”_"
   ]
  },
  {
   "cell_type": "markdown",
   "metadata": {},
   "source": [
    "The input range is 0...20, 10 is a good value to start with."
   ]
  },
  {
   "cell_type": "markdown",
   "metadata": {},
   "source": [
    "f you don't have a heel sensor on board, you can either set a fixed value ( e.g. 0 when motoring without sails), or try to set up a very simple _“heel polar”_:"
   ]
  },
  {
   "cell_type": "markdown",
   "metadata": {},
   "source": [
    "<img src=\"img/s_020_DashT_Tactics_heel_polar_preferences.png\"\n",
    "alt=\"Heel Polar\" width=\"300\">[(zoom)](img/020_DashT_Tactics_heel_polar_preferences.png)"
   ]
  },
  {
   "cell_type": "markdown",
   "metadata": {},
   "source": [
    "The idea of the _“heel polar”_ is that almost every magnetic compass installed in the cockpits has a scale, where you can read the degrees of heel: simply compare the _DashT_ Dashboard instruments display, for TWA and TWS, read the values from the scale and put it into the small table above."
   ]
  },
  {
   "cell_type": "markdown",
   "metadata": {},
   "source": [
    ">**NOTE**: Please make sure to read the True Wind Angle (TWA) and the True Wind Speed (TWS) and not apparent wind angle and speed (AWA/AWS)."
   ]
  },
  {
   "cell_type": "markdown",
   "metadata": {},
   "source": [
    "I tried it on my own boat, comparing the heel polar values with those of my sensor. It works astonishingly well."
   ]
  },
  {
   "cell_type": "markdown",
   "metadata": {},
   "source": [
    "Even if you use the heel-polar, you have to estimate the _“Boat's Leeway factor [0..20]:”_"
   ]
  },
  {
   "cell_type": "markdown",
   "metadata": {},
   "source": [
    "You have 3 choices for heel input, depending on where you set the radio button in the preferences. You can switch the radio buttons forth and back while sailing to compare the results, or as a tactician to take into account different sailing conditions."
   ]
  },
  {
   "cell_type": "markdown",
   "metadata": {},
   "source": [
    "<img src=\"img/s_025_DashT_Tactics_Leeway_factor_preferences.png\"\n",
    "alt=\"Leeway factor\" width=\"300\">[(zoom)](img/025_DashT_Tactics_Leeway_factor_preferences.png)"
   ]
  },
  {
   "cell_type": "markdown",
   "metadata": {},
   "source": [
    "The attribute _“fixed/max Leeway [°]:”_ has a dual purpose:"
   ]
  },
  {
   "cell_type": "markdown",
   "metadata": {},
   "source": [
    "1. The given value is always taken into account as maximum possible Leeway value. In the screenshot below, I set it to 30°. If your heel polar or calculation with the formula above outputs values >30°, the program takes 30° ;\n",
    "1. If you set the radio button here, the routines always take 30°, no matter what your sensor calculates or your heel-polar would tell you."
   ]
  },
  {
   "cell_type": "raw",
   "metadata": {
    "raw_mimetype": "text/restructuredtext"
   },
   "source": [
    ".. index::\n",
    "   single: Tactics; Calculate Current"
   ]
  },
  {
   "cell_type": "markdown",
   "metadata": {},
   "source": [
    "### Calculate the surface current"
   ]
  },
  {
   "cell_type": "markdown",
   "metadata": {},
   "source": [
    "If you compare your HDT and COG vectors in OpenCPN (the 2 forward vectors on the chart at your boat), the difference between both is a mixture between Leeway (the boat's drift) and surface current. Once we can determine Leeway, the rest is surface current."
   ]
  },
  {
   "cell_type": "markdown",
   "metadata": {},
   "source": [
    "The surface current calculation is simply a triangle calculation with vectors."
   ]
  },
  {
   "cell_type": "markdown",
   "metadata": {},
   "source": [
    "Always seen from the current position, the first vector is HDT (degrees) / STW (length)."
   ]
  },
  {
   "cell_type": "markdown",
   "metadata": {},
   "source": [
    "As your boat drifts with the wind, the second vector is “course through water” (CRS, degrees) and STW (length)."
   ]
  },
  {
   "cell_type": "markdown",
   "metadata": {},
   "source": [
    "Course through water is actually HDT with applied leeway."
   ]
  },
  {
   "cell_type": "markdown",
   "metadata": {},
   "source": [
    "The resulting vector between CRS/STW and COG/SOG is the surface current."
   ]
  },
  {
   "cell_type": "markdown",
   "metadata": {},
   "source": [
    "<img src=\"img/s_030_DashT_Tactics_current_vector_calculation.png\"\n",
    "alt=\"Current vector calculation\" width=\"240\">[(zoom)](img/030_DashT_Tactics_current_vector_calculation.png)"
   ]
  },
  {
   "cell_type": "markdown",
   "metadata": {},
   "source": [
    "To calculate the current, you need as input HDT, STW, Leeway, COG and SOG and your GPS latitude / longitude."
   ]
  },
  {
   "cell_type": "markdown",
   "metadata": {},
   "source": [
    "In the preferences you can set the damping factor for the current calculations : the lower the values are the more filtering is applied, and the reading gets more stable. On the other hand, it starts lagging a bit.\n",
    "The lower the value, the more damping is applied. You can do experimenting in the range of 0.001  to 0.025. Keep this value at the lower end, then start to increase, until it gets unstable."
   ]
  },
  {
   "cell_type": "markdown",
   "metadata": {},
   "source": [
    "<img src=\"img/s_035_DashT_Tactics_current_damping_factor_preferences.png\"\n",
    "alt=\"Current Damping Factor\" width=\"300\">[(zoom)](img/035_DashT_Tactics_current_damping_factor_preferences.png)"
   ]
  },
  {
   "cell_type": "markdown",
   "metadata": {},
   "source": [
    ">**NOTE**: Tactics algorithms currently always corrects STW with Leeway for the current calculation, independent of the preference setting  _“Correct STW with leeway”_. This may change in a future release but even then the default setting will remain as it is."
   ]
  },
  {
   "cell_type": "raw",
   "metadata": {
    "raw_mimetype": "text/restructuredtext"
   },
   "source": [
    ".. index::\n",
    "   single: Tactics; Current on chart"
   ]
  },
  {
   "cell_type": "markdown",
   "metadata": {},
   "source": [
    "### Current arrow on chart"
   ]
  },
  {
   "cell_type": "markdown",
   "metadata": {},
   "source": [
    "You can show a semi transparent blue current symbol underneath your boat, showing the surface current direction."
   ]
  },
  {
   "cell_type": "markdown",
   "metadata": {},
   "source": [
    "<img src=\"img/s_040_DashT_Tactics_Current_Arrow.png\"\n",
    "alt=\"Current Arrow\" width=\"150\">[.](img/040_DashT_Tactics_Current_Arrow.png)"
   ]
  },
  {
   "cell_type": "markdown",
   "metadata": {},
   "source": [
    "To activate the current display on the chart by default, upon program start, navigate to the Preferences dialogue and set the tick _“Display Current on Chart (OpenGL)”_. The preference is only setting the default; while navigating in OpenCPN, you can turn the current overlay display on / off as you like:"
   ]
  },
  {
   "cell_type": "markdown",
   "metadata": {},
   "source": [
    "Just right-click on any _DashT_ instrument and select _“Show Current”_ in the"
   ]
  },
  {
   "cell_type": "markdown",
   "metadata": {},
   "source": [
    "##### contextual menu"
   ]
  },
  {
   "cell_type": "markdown",
   "metadata": {},
   "source": [
    "<img name=\"contextual-menu\" src=\"img/s_045_DashT_Tactics_Current_Arrow_Toggle.png\"\n",
    "alt=\"Toggle Current\" width=\"150\">[.](img/045_DashT_Tactics_Current_Arrow_Toggle.png)"
   ]
  },
  {
   "cell_type": "markdown",
   "metadata": {},
   "source": [
    "This will toggle the current display arrow on/off."
   ]
  },
  {
   "cell_type": "raw",
   "metadata": {
    "raw_mimetype": "text/restructuredtext"
   },
   "source": [
    ".. index::\n",
    "   single: Tactics; Boat laylines"
   ]
  },
  {
   "cell_type": "markdown",
   "metadata": {},
   "source": [
    "### Boat laylines"
   ]
  },
  {
   "cell_type": "markdown",
   "metadata": {},
   "source": [
    "You can show the boat laylines on the chart. They refer to COG."
   ]
  },
  {
   "cell_type": "markdown",
   "metadata": {},
   "source": [
    "<img src=\"img/s_050_DashT_Tactics_Laylines.png\"\n",
    "alt=\"Laylines\" width=\"200\">[(zoom)](img/050_DashT_Tactics_Laylines.png)"
   ]
  },
  {
   "cell_type": "markdown",
   "metadata": {},
   "source": [
    "The colours mean:\n",
    "\n",
    "- _red_ = wind from port ;\n",
    "- _green_ = wind from starboard.\n",
    "\n",
    "The width is defined by the yawing of your boat, the more there is yaw, the wider the laylines do get."
   ]
  },
  {
   "cell_type": "markdown",
   "metadata": {},
   "source": [
    "The second layline (green in this example) simply shows you where you would get on the other tack / gybe when you sail the same TWA after the tack. Leeway and current are taken into account for the calculation of the second layline."
   ]
  },
  {
   "cell_type": "markdown",
   "metadata": {},
   "source": [
    "In the Preferences, you can set the following options:"
   ]
  },
  {
   "cell_type": "markdown",
   "metadata": {},
   "source": [
    "<img src=\"img/s_055_DashT_Tactics_Laylines_Options.png\"\n",
    "alt=\"Layline options\" width=\"300\">[(zoom)](img/055_DashT_Tactics_Laylines_Options.png)"
   ]
  },
  {
   "cell_type": "markdown",
   "metadata": {},
   "source": [
    "The _“Layline width damping factor”_ is the rate how fast the layline width reacts on COG changes."
   ]
  },
  {
   "cell_type": "markdown",
   "metadata": {},
   "source": [
    "It's done with exponential smoothing, the smaller the factor, the higher the damping rate."
   ]
  },
  {
   "cell_type": "markdown",
   "metadata": {},
   "source": [
    "You can define the length of the laylines on the chart, as well as a minimum and maximum width."
   ]
  },
  {
   "cell_type": "markdown",
   "metadata": {},
   "source": [
    "If you don't like the yawing effect simply set min and max both to 1 or 2 degrees."
   ]
  },
  {
   "cell_type": "markdown",
   "metadata": {},
   "source": [
    "To toggle the layline display on the chart on/off, right-click on any _DashT_ instrument and select or unselect _“Show laylines”_ from the [contextual menu](#contextual-menu)."
   ]
  },
  {
   "cell_type": "raw",
   "metadata": {
    "raw_mimetype": "text/restructuredtext"
   },
   "source": [
    ".. index::\n",
    "   single: Tactics; Wind barbs"
   ]
  },
  {
   "cell_type": "markdown",
   "metadata": {},
   "source": [
    "### Wind barbs"
   ]
  },
  {
   "cell_type": "markdown",
   "metadata": {},
   "source": [
    "You can also show a wind barb at the boat position, showing you direction and speed (feather length) in 5 kt steps."
   ]
  },
  {
   "cell_type": "markdown",
   "metadata": {},
   "source": [
    "<img src=\"img/s_060_DashT_Tactics_Windbarb.png\"\n",
    "alt=\"Windbarb\" width=\"150\">[(zoom)](img/060_DashT_Tactics_Windbarb.png)"
   ]
  },
  {
   "cell_type": "markdown",
   "metadata": {},
   "source": [
    "To activate the wind barb display on the chart by default, upon program start, navigate to the Preferences dialogue and set the tick _“Display Wind Barb on Chart (OpenGL)”_."
   ]
  },
  {
   "cell_type": "markdown",
   "metadata": {},
   "source": [
    "The preference is only setting the default; while navigating in OpenCPN, you can turn the windbarb overlay display on / off as you like: to toggle the windbarb display on the chart on/off, right-click on any _DashT_ instrument and select or unselect _“Show Windbarb”_ from the [contextual menu](#contextual-menu)."
   ]
  },
  {
   "cell_type": "markdown",
   "metadata": {},
   "source": [
    "Tactics brings in some improvements to the windbarb presentation, inherited from other OpenCPN plug-ins, it shows the wind barbs up to 47 knots(!) correctly with the following mapping:"
   ]
  },
  {
   "cell_type": "markdown",
   "metadata": {},
   "source": [
    "<img src=\"img/s_065_DashT_Tactics_Windbarb_scale.png\"\n",
    "alt=\"Windbarb scale\" width=\"300\">[(zoom)](img/065_DashT_Tactics_Windbarb_scale.png)"
   ]
  },
  {
   "cell_type": "raw",
   "metadata": {
    "raw_mimetype": "text/restructuredtext"
   },
   "source": [
    ".. index::\n",
    "   single: Instruments; Current"
   ]
  },
  {
   "cell_type": "markdown",
   "metadata": {},
   "source": [
    "### Current Direction and Speed"
   ]
  },
  {
   "cell_type": "markdown",
   "metadata": {},
   "source": [
    ">**NOTE** In _DashT_ the Tactics instruments are identified by an up-arrow **↑** - for performance boost they provide!"
   ]
  },
  {
   "cell_type": "markdown",
   "metadata": {},
   "source": [
    "<img src=\"img/s_070_DashT_Tactics_CurDir_CurSpeed.png\"\n",
    "alt=\"Current Direction and Current Speed\" width=\"150\">[(zoom)](img/070_DashT_Tactics_CurDir_CurSpeed.png)"
   ]
  },
  {
   "cell_type": "markdown",
   "metadata": {},
   "source": [
    "Current direction means: “current sets into”. "
   ]
  },
  {
   "cell_type": "raw",
   "metadata": {
    "raw_mimetype": "text/restructuredtext"
   },
   "source": [
    ".. index::\n",
    "   single: Instruments; Leeway"
   ]
  },
  {
   "cell_type": "markdown",
   "metadata": {},
   "source": [
    "### Leeway"
   ]
  },
  {
   "cell_type": "markdown",
   "metadata": {},
   "source": [
    "<img src=\"img/s_075_DashT_Tactics_Leeway.png\"\n",
    "alt=\"Leeway\" width=\"150\">[(zoom)](img/075_DashT_Tactics_Leeway.png)"
   ]
  },
  {
   "cell_type": "markdown",
   "metadata": {},
   "source": [
    "Boat drifts 0.5° to starboard due to heel or roll, see [Heel](../dashinst/dashinst.ipynb#Heel) instrument."
   ]
  },
  {
   "cell_type": "raw",
   "metadata": {
    "raw_mimetype": "text/restructuredtext"
   },
   "source": [
    ".. index::\n",
    "   single: Instruments; Average Wind"
   ]
  },
  {
   "cell_type": "markdown",
   "metadata": {},
   "source": [
    "### Average Wind Instrument"
   ]
  },
  {
   "cell_type": "markdown",
   "metadata": {},
   "source": [
    "The graphical instrument shows the average wind and its deviations to both sides."
   ]
  },
  {
   "cell_type": "markdown",
   "metadata": {},
   "source": [
    "This instrument is also used to control and display the result of a background processing average wind calculation using Tactics double exponential smoothing algorithm. It is recommended to have it in your instrument catalog if you plan to use any other instrument requiring the information about the average wind."
   ]
  },
  {
   "cell_type": "markdown",
   "metadata": {},
   "source": [
    "<img src=\"img/s_090_DashT_Tactics_Avg_wind_instrument_short_and_long.png\"\n",
    "alt=\"Average Wind Insrtrument\" width=\"300\">[(zoom)](img/090_DashT_Tactics_Avg_wind_instrument_short_and_long.png)"
   ]
  },
  {
   "cell_type": "markdown",
   "metadata": {},
   "source": [
    "The curve is centered on the average wind, green means the wind is on starboard of the actual average wind, red means it blows more from port."
   ]
  },
  {
   "cell_type": "markdown",
   "metadata": {},
   "source": [
    "One can adjust the averaging time in steps of 1 [min] between 4 and 30 mins."
   ]
  },
  {
   "cell_type": "markdown",
   "metadata": {},
   "source": [
    "“Short” integration time is from 10 .. 50 % of that time, default is 25 % integration time. That value has its own slider which is depicted with a red or green thick bar and the corresponding, sliding minimum and maximum value lighter bars in the upper part of the diagram. This feature can be turned off in the ini/conf-file.  See the [corresponding chapter](../tweaks/tweaks.ipynb#DashT/Tactics) explaining the parameters."
   ]
  },
  {
   "cell_type": "markdown",
   "metadata": {},
   "source": [
    "The red number in the center is the average wind direction, left and right is the min and max (unfiltered) wind angles to either side."
   ]
  },
  {
   "cell_type": "markdown",
   "metadata": {},
   "source": [
    "The very thin lines are the unfiltered wind direction input from the instruments."
   ]
  },
  {
   "cell_type": "markdown",
   "metadata": {},
   "source": [
    "To adjust the time average, just pull the slider left / right."
   ]
  },
  {
   "cell_type": "markdown",
   "metadata": {},
   "source": [
    "The vertical scale is [minutes], short dashes every minute, full horizontal line every 5 minutes."
   ]
  },
  {
   "cell_type": "markdown",
   "metadata": {},
   "source": [
    "The instrument has its own timer, so it’s independent of the data connection speed or rate."
   ]
  },
  {
   "cell_type": "markdown",
   "metadata": {},
   "source": [
    "The idea of this instrument is following: if you sail in puffy, changing winds, that you see graphically when the wind changes to the other side. In theory, you should tack, as soon as the wind veers away and crosses the average wind direction "
   ]
  },
  {
   "cell_type": "markdown",
   "metadata": {},
   "source": [
    ">**NOTE**: _Race DashT Mark_ is another instrument which can be used to determine if a tack imposes or not. It provides your location on the ladder rungs, giving also the idea is the wind shift a lifter or a header. Please read more from the corresponding section."
   ]
  },
  {
   "cell_type": "raw",
   "metadata": {
    "raw_mimetype": "text/restructuredtext"
   },
   "source": [
    ".. index::\n",
    "   single: Instruments; TWA to Waypoint"
   ]
  },
  {
   "cell_type": "markdown",
   "metadata": {},
   "source": [
    "### TWA to Waypoint"
   ]
  },
  {
   "cell_type": "markdown",
   "metadata": {},
   "source": [
    "To use this instrument, you need to drop a Tactics waypoint on the chart, using the right-click context menu on the chart canvas. Altenatively, you can place a waypoint in GPS so that it appears to OpenCPN in an RMB-sentence. If you define both, Tactics WP takes the preference."
   ]
  },
  {
   "cell_type": "markdown",
   "metadata": {},
   "source": [
    "This instrument requires also the averaged wind data processing running continuously in the background. How to obtain it will be explained below."
   ]
  },
  {
   "cell_type": "markdown",
   "metadata": {},
   "source": [
    "<img src=\"img/s_080_DashT_Tactics_twa_to_wp.png\"\n",
    "alt=\"TWA to Waypoint\" width=\"150\">[(zoom)](img/080_DashT_Tactics_twa_to_wp.png)"
   ]
  },
  {
   "cell_type": "markdown",
   "metadata": {},
   "source": [
    "This instrument is meant to check  the TWA on the (new) tack prior to sailing the tack/gybe manoeuvrer."
   ]
  },
  {
   "cell_type": "markdown",
   "metadata": {},
   "source": [
    "Once you know the TWA angles of your sails, this is very useful e.g. to see which of your downwind sails to use on the next tack."
   ]
  },
  {
   "cell_type": "markdown",
   "metadata": {},
   "source": [
    "The instrument shows three data values:"
   ]
  },
  {
   "cell_type": "markdown",
   "metadata": {},
   "source": [
    "1. minimum instantenous or short term average TWA\n",
    "2. long term average TWA\n",
    "3. maximum instantenous or short term average TWA"
   ]
  },
  {
   "cell_type": "markdown",
   "metadata": {},
   "source": [
    "All 3 values are exactly the same data as used in the Average Wind Direction instrument, just recalculated to TWA towards a waypoint."
   ]
  },
  {
   "cell_type": "markdown",
   "metadata": {},
   "source": [
    ">**NOTE 1**: one cannot refer from <min TWA > and <max TWA> to  port / starboard side, values are simply sorted in the display the low and high."
   ]
  },
  {
   "cell_type": "markdown",
   "metadata": {},
   "source": [
    ">**NOTE 2**: This instrument depends on the Average Wind Direction instrument which has been extented in _DashT_ to include two range of averaging time, “normal” and “short” time span. This particular instrument using that data is set, in _DashT_ to use the “short” time range (like for regatta) by default. Since this feature can be turned off in the Average Wind Direction instrument, this instrument automatically returns also back to “normal”, i.e to long average wind integration and smoothing time like in the Tactics v1.0.11. It is also possible to select the long integration time permanently for this instrument only, in the ini/conf-file. See the [corresponding chapter](../tweaks/tweaks.ipynb#DashT/Tactics) explaining the parameters."
   ]
  },
  {
   "cell_type": "markdown",
   "metadata": {},
   "source": [
    "Once the wind veers from port to starboard side on full downwind courses the display can look like this: "
   ]
  },
  {
   "cell_type": "markdown",
   "metadata": {},
   "source": [
    "<img src=\"img/s_085_DashT_Tactics_twa_to_wp_downwind.png\"\n",
    "alt=\"TWA to WP downwind example\" width=\"150\">[(zoom)](img/085_DashT_Tactics_twa_to_wp_downwind.png)"
   ]
  },
  {
   "cell_type": "markdown",
   "metadata": {},
   "source": [
    "That means, average TWA is 178° and the wind deviates to 154° to one tack and 160° to the other tack."
   ]
  },
  {
   "cell_type": "markdown",
   "metadata": {},
   "source": [
    "Default time is 4 minutes, maximum 30 minutes. _“Short”_ integration time can be adjusted (in the [ini/conf-file](../tweaks/tweaks.ipynb#DashT/Tactics)) from 10 .. 50% of that time, default is 25% of the overall integration time."
   ]
  },
  {
   "cell_type": "markdown",
   "metadata": {},
   "source": [
    "<img src=\"img/s_090_DashT_Tactics_Avg_wind_instrument_short_and_long.png\"\n",
    "alt=\"Average Wind Insrtrument\" width=\"150\">[(zoom)](img/090_DashT_Tactics_Avg_wind_instrument_short_and_long.png)"
   ]
  },
  {
   "cell_type": "markdown",
   "metadata": {},
   "source": [
    "To use Average Wind, both _“Short”_ and _“Long”_ in all _DashT_ instruments needing that information, just define the ‘Average Wind Direction’ instrument in your list of instruments, open it once (per session) and move the slider to the integration time of your preference. You can close the instrument afterwards, just keep it in the list of instruments."
   ]
  },
  {
   "cell_type": "markdown",
   "metadata": {},
   "source": [
    "More use cases how to use this instrument to select which gennaker/spi or sail for the next tack:"
   ]
  },
  {
   "cell_type": "markdown",
   "metadata": {},
   "source": [
    "Let’s say we have 2 gennakers on board, the first one start to work at 105°TWA, has its best perfomance at 120-125° and drops out at 135° TWA."
   ]
  },
  {
   "cell_type": "markdown",
   "metadata": {},
   "source": [
    "The second gennaker starts at 115°, has its best performance at 130-140° TWA and can be used all down to 160° TWA."
   ]
  },
  {
   "cell_type": "markdown",
   "metadata": {},
   "source": [
    "With the example values (113 – 129 – 151) from the first screenshot above you cannot stay on the direct course line to the WP with the second gennaker all time as it starts at 115° (whereas we recorded 113° TWA...),  but overall it fits with its optimum performance (130-140°) much better to the average wind direction (129° TWA) than the first gennaker."
   ]
  },
  {
   "cell_type": "markdown",
   "metadata": {},
   "source": [
    ">**NOTE**: _Race DashT Mark_ is another instrument which can be used for this type of optimization process, in case the race route can be marked in advance, in which case it calculates the TWA values in clear for two legs ahead. Please see the corresponding section for more details."
   ]
  },
  {
   "cell_type": "raw",
   "metadata": {
    "raw_mimetype": "text/restructuredtext"
   },
   "source": [
    ".. index::\n",
    "   single: Tactics; With Polar"
   ]
  },
  {
   "cell_type": "markdown",
   "metadata": {},
   "source": [
    "## With Polar"
   ]
  },
  {
   "cell_type": "markdown",
   "metadata": {},
   "source": [
    "The instruments and functions in this chapter require your boat's polar."
   ]
  },
  {
   "cell_type": "markdown",
   "metadata": {},
   "source": [
    "You can load a polar file by defining one in the Preferences dialog:"
   ]
  },
  {
   "cell_type": "raw",
   "metadata": {
    "raw_mimetype": "text/restructuredtext"
   },
   "source": [
    ".. index::\n",
    "   single: Polar file\n",
    ".. index::\n",
    "   single: Polar file; loading"
   ]
  },
  {
   "cell_type": "markdown",
   "metadata": {},
   "source": [
    "<img src=\"img/s_095_DashT_Tactics_Load_Polar_File.png\"\n",
    "alt=\"Load Polar File\" width=\"300\">[(zoom)](img/095_DashT_Tactics_Load_Polar_File.png)"
   ]
  },
  {
   "cell_type": "markdown",
   "metadata": {},
   "source": [
    "Click on the load button and select a polar file."
   ]
  },
  {
   "cell_type": "markdown",
   "metadata": {},
   "source": [
    "The format is the same that the _polar_pi_ plug-in uses. Use that tool to display the polar, there is no polar visualization in _DashT_."
   ]
  },
  {
   "cell_type": "markdown",
   "metadata": {},
   "source": [
    ">**NOTE**: If you do not have a polar, the Weather Routing plug-in of OpenCPN comes with quite a few polars of popular boats. Maybe you can find a polar close enough of your boat in there."
   ]
  },
  {
   "cell_type": "markdown",
   "metadata": {},
   "source": [
    "For racers, it is a good idea to prepare a few alternative polars simply by reducing the the polar speed by, say 10 percent: they can be used in bad weather conditions or by a single hand sailor who is not able to push the boat continuously to its limits."
   ]
  },
  {
   "cell_type": "markdown",
   "metadata": {},
   "source": [
    "When Tactics is loading the polar file, it is writing it into a two-dimensional static array having 181 lines for each TWA degree (0...180°) and 61 rows (0...60) for each knot of windspeed. It is a simple lookup table for the algorithm usage, having the purpose to reduce the processor load and increase access speed."
   ]
  },
  {
   "cell_type": "markdown",
   "metadata": {},
   "source": [
    "Polar Loading Procedure :\n",
    "\n",
    "1. The TWA = 0 row and the TWS = 0 column is filled with zeros\n",
    "1. The rest of the array is filled with NAN values. \n",
    "1. The values from the polar file are placed at their corresponding spots in the array\n",
    "1. The missing data in between given values (= not NAN) is then filled with average values."
   ]
  },
  {
   "cell_type": "markdown",
   "metadata": {},
   "source": [
    ">**NOTE**: only polars with TWA / TWS / STW, where TWS and STW are in knots do make sense "
   ]
  },
  {
   "cell_type": "markdown",
   "metadata": {},
   "source": [
    "While there is averaging to fill in the missing values, there is no extrapolating beyond the last valid values."
   ]
  },
  {
   "cell_type": "markdown",
   "metadata": {},
   "source": [
    "If you run in a 30kt wind, and your polar ends at 25 kts, then the performance instruments will give you a “no polar data” text. Please consider at that moment (if you have time) to turn on polar_pi / vdr_pi plug-ins to record new data since you obviously are a serious racer!"
   ]
  },
  {
   "cell_type": "markdown",
   "metadata": {},
   "source": [
    "The only exception of the extrapolation is the range between the 0 kts windspeed and the first given value, where a simple averaging between the two is done."
   ]
  },
  {
   "cell_type": "markdown",
   "metadata": {},
   "source": [
    "<img src=\"img/s_100_DashT_Tactics_Polar_extrapolation.png\"\n",
    "alt=\"Polar Extrapolation\" width=\"200\">[(zoom)](img/100_DashT_Tactics_Polar_extrapolation.png)"
   ]
  },
  {
   "cell_type": "raw",
   "metadata": {
    "raw_mimetype": "text/restructuredtext"
   },
   "source": [
    ".. index::\n",
    "   single: Polar file; example"
   ]
  },
  {
   "cell_type": "markdown",
   "metadata": {},
   "source": [
    "It is possible to extract the generated, extrapolated polar file by providing an export path in a variable in ini/conf-file. See the [corresponding chapter](../tweaks/tweaks.ipynb#DashT/Tactics) explaining the parameters."
   ]
  },
  {
   "cell_type": "markdown",
   "metadata": {},
   "source": [
    "<img src=\"img/s_105_DashT_Tactics_Polar_input_example.png\"\n",
    "alt=\"Polar input example\" width=\"600\">[(zoom)](img/105_DashT_Tactics_Polar_input_example.png)"
   ]
  },
  {
   "cell_type": "markdown",
   "metadata": {},
   "source": [
    "And this is the corresponding lookup table dumped to a file using the [ini/conf-file](../tweaks/tweaks.ipynb#DashT/Tactics) key _“PolarLookupTableOutputFile”_"
   ]
  },
  {
   "cell_type": "markdown",
   "metadata": {},
   "source": [
    "<img src=\"img/s_110_DashT_Tactics_Polar_output_example.png\"\n",
    "alt=\"Polar output example\" width=\"600\">[(zoom)](img/110_DashT_Tactics_Polar_output_example.png)"
   ]
  },
  {
   "cell_type": "markdown",
   "metadata": {},
   "source": [
    ">**NOTE**: Only True Wind Speed (TWS) values are averaged. True wind angle is still rounded to the next full knot. For testing, Tactics has implemented full averaging of both TWS and TWA as well, but live comparisons did not show improvement. Therefore this method of averaging TWS only has been retained. TWA  will not have better accuracy than plus or minus one degree, due to upwash issues, position and accuracy of the wind vane, compass accuracy, etc. "
   ]
  },
  {
   "cell_type": "raw",
   "metadata": {
    "raw_mimetype": "text/restructuredtext"
   },
   "source": [
    ".. index::\n",
    "   single: Tactics; Polar on chart"
   ]
  },
  {
   "cell_type": "markdown",
   "metadata": {},
   "source": [
    "### Display polar on chart"
   ]
  },
  {
   "cell_type": "markdown",
   "metadata": {},
   "source": [
    "<img src=\"img/s_115_DashT_Tactics_Polar_on_chart.png\"\n",
    "alt=\"Polar on chart\" width=\"200\">[(zoom)](img/115_DashT_Tactics_Polar_on_chart.png)"
   ]
  },
  {
   "cell_type": "markdown",
   "metadata": {},
   "source": [
    "You can display the polar as overlay on the chart (OpenGL is required). The size of the different polar “rings” is normalized, they all have the same size. Nevertheless, the plug-in always shows the current / correct polar ring. The polar orientation is related to the true wind direction, and it shows blue markers for the Target-VMG angles up- and downwind, and red markers for the Target-CMG angles (if you have an active NMEA-RMB-sentence or a Tactics_pi waypoint set)."
   ]
  },
  {
   "cell_type": "markdown",
   "metadata": {},
   "source": [
    "There’s also a small blue HDT line diplayed from the boat. The additional marker line for HDT is only to help you to distinguish which of the two OpenCPN red, default marker lines is for heading and which one is for the course over ground."
   ]
  },
  {
   "cell_type": "markdown",
   "metadata": {},
   "source": [
    "To sail Target-VMG / Target-CMG angle, simply steer the blue HDT pointer on one of the Target-VMG / - CMG markers."
   ]
  },
  {
   "cell_type": "markdown",
   "metadata": {},
   "source": [
    "As illustrated in the above screenshot, there can be 2 red CMG markers, the preferred one has a bigger size! "
   ]
  },
  {
   "cell_type": "markdown",
   "metadata": {},
   "source": [
    "To activate the polar display on the chart by default, upon program start, navigate to the Preferences dialogue and set the tick “Show polar on chart (OpenGL)”."
   ]
  },
  {
   "cell_type": "markdown",
   "metadata": {},
   "source": [
    "<img src=\"img/s_120_DashT_Tactics_Polar_chart_activation_pref.png\"\n",
    "alt=\"Activate the polar by default\" width=\"300\">[(zoom)](img/120_DashT_Tactics_Polar_chart_activation_pref.png)"
   ]
  },
  {
   "cell_type": "markdown",
   "metadata": {},
   "source": [
    "The preference is only setting the default; while navigating in OpenCPN, you can turn the polar overlay display on / off as you like: to toggle the polar display on the chart on/off, right-click on any _DashT_ instrument and select or unselect _“Show Polar”_ from the [contextual menu](#contextual-menu)."
   ]
  },
  {
   "cell_type": "raw",
   "metadata": {
    "raw_mimetype": "text/restructuredtext"
   },
   "source": [
    ".. index::\n",
    "   single: Tactics; Performance data"
   ]
  },
  {
   "cell_type": "markdown",
   "metadata": {},
   "source": [
    "### Performance data"
   ]
  },
  {
   "cell_type": "markdown",
   "metadata": {},
   "source": [
    "Tactics performance algorithms are available plug-in wide and used, among the other _DashT_ instruments in following original Tactics instruments."
   ]
  },
  {
   "cell_type": "raw",
   "metadata": {
    "raw_mimetype": "text/restructuredtext"
   },
   "source": [
    ".. index::\n",
    "   single: Tactics; Vector graph"
   ]
  },
  {
   "cell_type": "markdown",
   "metadata": {},
   "source": [
    "### Vector graph"
   ]
  },
  {
   "cell_type": "markdown",
   "metadata": {},
   "source": [
    "Let's first take a look the following vector chart as for reference on the different terms in relation to the polar curve:"
   ]
  },
  {
   "cell_type": "markdown",
   "metadata": {},
   "source": [
    "<img name=\"vector-graph\" src=\"img/s_125_DashT_Tactics_Polar_rel_vectors.png\"\n",
    "alt=\"XXXX\" width=\"400\">[(zoom)](img/125_DashT_Tactics_Polar_rel_vectors.png)"
   ]
  },
  {
   "cell_type": "markdown",
   "metadata": {},
   "source": [
    ">**NOTE**: We need to presume that you are familiar with the above terminology - if not, read about [VMG](https://sailzing.com/velocity-made-good-vmg) to start with - but if you do not agree, say with the [CMG definition](https://en.wikipedia.org/wiki/Velocity_made_good#Confusion_with_VMC) you are free to change the abbreviations used in the application using the ini/conf-file settings, see the [corresponding chapter](../tweaks/tweaks.ipynb#DashT/Tactics) explaining the parameters. All requests to change the nomenclature will be rejected since one has this option at his/her disposal. The vector algebra does not move."
   ]
  },
  {
   "cell_type": "markdown",
   "metadata": {},
   "source": [
    "Some of the instruments are not showing a single value like on Dashboard, buth the value is split in two, displaying first a percentage value and then the value from which the percentaget is taken. Let's take an example of the polar performance, displaying the percentage of your current speed of the polar speed of your boat at that moment:"
   ]
  },
  {
   "cell_type": "raw",
   "metadata": {
    "raw_mimetype": "text/restructuredtext"
   },
   "source": [
    ".. index::\n",
    "   single: Instruments; Polar speed"
   ]
  },
  {
   "cell_type": "markdown",
   "metadata": {},
   "source": [
    "### Polar speed"
   ]
  },
  {
   "cell_type": "markdown",
   "metadata": {},
   "source": [
    "<img src=\"img/s_130_DashT_Tactics_Polar_speed_num.png\"\n",
    "alt=\"Polar speed\" width=\"150\">[(zoom)](img/130_DashT_Tactics_Polar_speed_num.png)"
   ]
  },
  {
   "cell_type": "markdown",
   "metadata": {},
   "source": [
    "This instrument is useful in crosswind / reaching conditions without a waypoint."
   ]
  },
  {
   "cell_type": "markdown",
   "metadata": {},
   "source": [
    "It shows the optimum speed for the given wind conditions."
   ]
  },
  {
   "cell_type": "markdown",
   "metadata": {},
   "source": [
    "This is simply the reference of what speed we should be able to sail based on our current TWA / TWS values. The % value is the reference to STW. In this example, we are currently doing (only) 51%, of what the polar has stored as optimum value. According to the polar we should be able to do 12.17 knots."
   ]
  },
  {
   "cell_type": "markdown",
   "metadata": {},
   "source": [
    "This is _“Act.Boat Speed”_ compared to the _“Polar Speed”_ in the [vector graph](#Vector-graph)."
   ]
  },
  {
   "cell_type": "markdown",
   "metadata": {},
   "source": [
    "Values below 100% mean that we are slower than the polar says, above 100% means that we are faster than the polar - if that persists, we should run the _vdr_pi_ plug-in or _DashT_ database streamer to record the new data since obviously our polar is not good. "
   ]
  },
  {
   "cell_type": "raw",
   "metadata": {
    "raw_mimetype": "text/restructuredtext"
   },
   "source": [
    ".. index::\n",
    "   single: Instruments; Actual VMG (wind)"
   ]
  },
  {
   "cell_type": "markdown",
   "metadata": {},
   "source": [
    "### Actual VMG"
   ]
  },
  {
   "cell_type": "markdown",
   "metadata": {},
   "source": [
    "<img src=\"img/s_135_DashT_Tactics_actual_vmg.png\"\n",
    "alt=\"Actual VMG\" width=\"150\">[(zoom)](img/135_DashT_Tactics_actual_vmg.png)"
   ]
  },
  {
   "cell_type": "markdown",
   "metadata": {},
   "source": [
    "The actual VMG is the _“Velocity made good”_ referring to the wind direction. The means we're moving with 6.27 kts into wind direction. Also works when we sail downwind, in case of which it is off the wind."
   ]
  },
  {
   "cell_type": "markdown",
   "metadata": {},
   "source": [
    "VMG = STW * cosine (True Wind Angle)"
   ]
  },
  {
   "cell_type": "raw",
   "metadata": {
    "raw_mimetype": "text/restructuredtext"
   },
   "source": [
    ".. index::\n",
    "   single: Instruments; Target VMG Angle"
   ]
  },
  {
   "cell_type": "markdown",
   "metadata": {},
   "source": [
    "### Target VMG Angle"
   ]
  },
  {
   "cell_type": "markdown",
   "metadata": {},
   "source": [
    "<img src=\"img/s_140_DashT_Tactics_tg_vmg_angle.png\"\n",
    "alt=\"Target VMG-Angle\" width=\"150\">[(zoom)](img/140_DashT_Tactics_tg_vmg_angle.png)"
   ]
  },
  {
   "cell_type": "markdown",
   "metadata": {},
   "source": [
    "Also known as _“Target TWA”_; this is the optimum TWA (True Wind Angle) when sailing upwind or downwind for a given wind speed, based on your polar data. Very useful when sailing up-/downwind without a waypoint."
   ]
  },
  {
   "cell_type": "markdown",
   "metadata": {},
   "source": [
    "The program simply searches the polar with a given TWS for the optimum TWA up-/downwind. It is defined as the tangents on the polar."
   ]
  },
  {
   "cell_type": "raw",
   "metadata": {
    "raw_mimetype": "text/restructuredtext"
   },
   "source": [
    ".. index::\n",
    "   single: Instruments; Target VMG (wind)"
   ]
  },
  {
   "cell_type": "markdown",
   "metadata": {},
   "source": [
    "### Target VMG"
   ]
  },
  {
   "cell_type": "markdown",
   "metadata": {},
   "source": [
    "<img src=\"img/s_145_DashT_Tactics_target_vmg.png\"\n",
    "alt=\"Target VMG\" width=\"150\">[(zoom)](img/145_DashT_Tactics_target_vmg.png)"
   ]
  },
  {
   "cell_type": "markdown",
   "metadata": {},
   "source": [
    "Also known as _“target boat speed”_ (target speed in the diagram above),\n",
    "this value is the reference to the Target VMG-Angle. In our example it means :\n",
    "If we would sail with 164° TWA (from the example above), then we could make 11.95 knots according polar), but currently we're doing only 51% of that."
   ]
  },
  {
   "cell_type": "raw",
   "metadata": {
    "raw_mimetype": "text/restructuredtext"
   },
   "source": [
    ".. index::\n",
    "   single: Instruments; Actual CMG"
   ]
  },
  {
   "cell_type": "markdown",
   "metadata": {},
   "source": [
    "### Actual CMG"
   ]
  },
  {
   "cell_type": "markdown",
   "metadata": {},
   "source": [
    "<img src=\"img/s_150_DashT_Tactics_actual_cmg.png\"\n",
    "alt=\"Actual CMG\" width=\"150\">[(zoom)](img/150_DashT_Tactics_actual_cmg.png)"
   ]
  },
  {
   "cell_type": "markdown",
   "metadata": {},
   "source": [
    "Actual Course Made Good, aka VMC: the component of your boat speed towards a waypoint. We're moving with 8.36 knots towards that waypoint."
   ]
  },
  {
   "cell_type": "markdown",
   "metadata": {},
   "source": [
    "<img src=\"img/s_155_DashT_Tactics_actual_cmg_vectors.png\"\n",
    "alt=\"Actual CMG Vectors\" width=\"200\">[(zoom)](img/155_DashT_Tactics_actual_cmg_vectors.png)"
   ]
  },
  {
   "cell_type": "markdown",
   "metadata": {},
   "source": [
    "Quite valuable to know on reaching courses towards a waypoint."
   ]
  },
  {
   "cell_type": "markdown",
   "metadata": {},
   "source": [
    "CMG = STW * cosine (Heading - Marks bearing) "
   ]
  },
  {
   "cell_type": "raw",
   "metadata": {
    "raw_mimetype": "text/restructuredtext"
   },
   "source": [
    ".. index::\n",
    "   single: Instruments; Target CMG Angle"
   ]
  },
  {
   "cell_type": "markdown",
   "metadata": {},
   "source": [
    "### Target CMG Angle"
   ]
  },
  {
   "cell_type": "markdown",
   "metadata": {},
   "source": [
    "<img src=\"img/s_160_DashT_Tactics_tg_cmg_angle.png\"\n",
    "alt=\"Target CMG Angle\" width=\"150\">[(zoom)](img/160_DashT_Tactics_tg_cmg_angle.png)"
   ]
  },
  {
   "cell_type": "markdown",
   "metadata": {},
   "source": [
    "Optimum angle to sail fastest to a waypoint, based on your polar data (Like VMG, but not up-/downwind but towards a waypoint)."
   ]
  },
  {
   "cell_type": "raw",
   "metadata": {
    "raw_mimetype": "text/restructuredtext"
   },
   "source": [
    ".. index::\n",
    "   single: Instruments; Target CMG"
   ]
  },
  {
   "cell_type": "markdown",
   "metadata": {},
   "source": [
    "### Target CMG"
   ]
  },
  {
   "cell_type": "markdown",
   "metadata": {},
   "source": [
    "<img src=\"img/s_165_DashT_Tactics_target_cmg.png\" alt=\"Target CMG\" width=\"150\">[(zoom)](img/165_DashT_Tactics_target_cmg.png)"
   ]
  },
  {
   "cell_type": "markdown",
   "metadata": {},
   "source": [
    "Same as Target VMG, but towards a waypoint. Means : “If we would sail 130° (Target CMG Angle, from ex. above), we would move towards the waypoint with 11.98 knots, but currently we're only doing 64% of that."
   ]
  },
  {
   "cell_type": "markdown",
   "metadata": {},
   "source": [
    ">**NOTE**: Calculation is verified, but it doesn't tell you if you are on the correct tack."
   ]
  },
  {
   "cell_type": "raw",
   "metadata": {
    "raw_mimetype": "text/restructuredtext"
   },
   "source": [
    ".. index::\n",
    "   single: Instruments; Polar Performance"
   ]
  },
  {
   "cell_type": "markdown",
   "metadata": {},
   "source": [
    "### Polar Performance"
   ]
  },
  {
   "cell_type": "markdown",
   "metadata": {},
   "source": [
    "A great sail trimming aid:"
   ]
  },
  {
   "cell_type": "markdown",
   "metadata": {},
   "source": [
    "<img src=\"img/s_170_DashT_Tactics_polar_performance.png\"\n",
    "alt=\"Polar Performance\" width=\"400\">[(zoom)](img/170_DashT_Tactics_polar_performance.png)"
   ]
  },
  {
   "cell_type": "markdown",
   "metadata": {},
   "source": [
    "A graphical history instrument like Wind History or Baro History. Like in those instruments, storing the collected data is possible into a comma separated value file for later analysis. If you have _DashT_ time series database streaming enabled, the values are stored in there without any further action."
   ]
  },
  {
   "cell_type": "markdown",
   "metadata": {},
   "source": [
    "The history instrument plots the STW (speed through water) as percentage of the polar speed data (=100%) for the actual true wind speed TWS and true wind angle TWA. It is this comparison in the polar chart above, plotted as percentage."
   ]
  },
  {
   "cell_type": "markdown",
   "metadata": {},
   "source": [
    "<img src=\"img/s_175_DashT_Tactics_polar_perf_vectors.png\"\n",
    "alt=\"Polar Performance - vectors\" width=\"200\">[(zoom)](img/175_DashT_Tactics_polar_perf_vectors.png)"
   ]
  },
  {
   "cell_type": "markdown",
   "metadata": {},
   "source": [
    "The idea is to provide a simple sail trimming aid, as the percentage value is quite stable in comparison to the real speed values. The TWA / TWS is constantly adjusted while reading the polar data."
   ]
  },
  {
   "cell_type": "markdown",
   "metadata": {},
   "source": [
    ">**NOTE**: As long as the filtered curve continues to climb or is 100%, or even better your trim adjustments are correct! But if the curve points down, you're sailing is getting worse and you better do something for it!"
   ]
  },
  {
   "cell_type": "raw",
   "metadata": {
    "raw_mimetype": "text/restructuredtext"
   },
   "source": [
    ".. index::\n",
    "   single: Instruments; Bearing Compass"
   ]
  },
  {
   "cell_type": "markdown",
   "metadata": {},
   "source": [
    "### Bearing compass"
   ]
  },
  {
   "cell_type": "markdown",
   "metadata": {},
   "source": [
    "<img src=\"img/s_180_DashT_Tactics_bearing_compass.png\"\n",
    "alt=\"Tactics Bearig Compass\" width=\"200\">[(zoom)](img/180_DashT_Tactics_bearing_compass.png)"
   ]
  },
  {
   "cell_type": "markdown",
   "metadata": {},
   "source": [
    "This instrument is inspired by NKE's tactics page, and is called here as _“Bearing Compass”_. Let's walk through this feature rich instrument:"
   ]
  },
  {
   "cell_type": "markdown",
   "metadata": {},
   "source": [
    "<img src=\"img/s_185_DashT_Tactics_brgcomp_hdt.png\"\n",
    "alt=\"Bearing Compass - HDT\" width=\"80\">[(zoom)](img/185_DashT_Tactics_brgcomp_hdt.png)"
   ]
  },
  {
   "cell_type": "markdown",
   "metadata": {},
   "source": [
    "The uppermost, numerical embedded display shows the true heading (HDT), in the above example 356°T."
   ]
  },
  {
   "cell_type": "markdown",
   "metadata": {},
   "source": [
    "<img src=\"img/s_190_DashT_Tactics_brgcomp_cur.png\" alt=\"Bearing Compass - Current\" width=\"120\">[(zoom)](img/190_DashT_Tactics_brgcomp_cur.png)"
   ]
  },
  {
   "cell_type": "markdown",
   "metadata": {},
   "source": [
    "The center part of the instrument depicts a blue surface current arrow, based on boat heading (HDT) and shows the current speed, _“Curr: 0.68 kn”_ in our example."
   ]
  },
  {
   "cell_type": "markdown",
   "metadata": {},
   "source": [
    "<img src=\"img/s_195_DashT_Tactics_brgcomp_needles.png\"\n",
    "alt=\"Bearing Compass - Needles\" width=\"150\">[(zoom)](img/195_DashT_Tactics_brgcomp_needles.png)"
   ]
  },
  {
   "cell_type": "markdown",
   "metadata": {},
   "source": [
    "Furthermore we have the blue, thin arrow, which is TWA on boat axis. It also shows the TWD on the degree scale (315° in the example)  and the AWA arrow in orange/yellow."
   ]
  },
  {
   "cell_type": "markdown",
   "metadata": {},
   "source": [
    ">**NOTE**: Many colors, like the orange/yellow are inherited from the Dashboard dials and defined in OpenCPN - please not that where _DashT_ provide a way to customize the Dashboard dials, the customization will take also place in Tactics dials for this reason. However, blue and red arrows, layline and red dot colors cannot be changed. Up to you to find the right combination of colours from the OpenCPN color palette."
   ]
  },
  {
   "cell_type": "markdown",
   "metadata": {},
   "source": [
    "You see the red/green laylines, which are based on COG. As with the laylines on the chart,\n",
    "the second layline shows you where you end up sailing the same TWA on the other tack.\n",
    "Leeway and current are taken into account. Use the second layline together with the waypoint marker described below."
   ]
  },
  {
   "cell_type": "markdown",
   "metadata": {},
   "source": [
    ">**NOTE**: The calculation is based on TWA. Especially when sailing downwind with a gennaker, your apparent wind angle depends very much on the speed of the boat. As soon as the gennaker start working aerodynamically, it’ll speed up the boat and your AWA will show lower values (points more foreward). If you gybe now, your boat speed will drop, and although sailing the same TWA, your app. wind angle will be higher than before. You will have to bring you boat back up to speed to see the same AWA than before the tack. This can be tricky when you’re close to a buoy and don’t have much space/time to speed up your boat again."
   ]
  },
  {
   "cell_type": "markdown",
   "metadata": {},
   "source": [
    "<img src=\"img/s_200_DashT_Tactics_brgcomp_vmg_angle.png\"\n",
    "alt=\"Bearing Compass - VMG Angle\" width=\"120\">[(zoom)](img/200_DashT_Tactics_brgcomp_vmg_angle.png)"
   ]
  },
  {
   "cell_type": "markdown",
   "metadata": {},
   "source": [
    "The blue triangle outside the degree scale is the Target-VMG Angle (Target TWA)."
   ]
  },
  {
   "cell_type": "markdown",
   "metadata": {},
   "source": [
    "Simply adopt your course to place your blue TWA-arrow on the Target-VMG pointer, and you sail optimum (polar based) speed up-/or downwind."
   ]
  },
  {
   "cell_type": "markdown",
   "metadata": {},
   "source": [
    "<img src=\"img/s_205_DashT_Tactics_brgcomp_wp_mrk.png\"\n",
    "alt=\"Bearing Compass - Waypoint Marker\" width=\"150\">[(zoom)](img/205_DashT_Tactics_brgcomp_wp_mrk.png)"
   ]
  },
  {
   "cell_type": "markdown",
   "metadata": {},
   "source": [
    "If a waypoint is active, either by a NMEA-RMB sentence from your GPS or the temporary tactics WP which you can place on the chart, you will see the WP as a red dot."
   ]
  },
  {
   "cell_type": "markdown",
   "metadata": {},
   "source": [
    ">**NOTE**: The manually placed tactics waypoint overrules any simultaneously available RMB-sentence defined waypoint, including those RMB sentences created by the OpenCPN routing functions."
   ]
  },
  {
   "cell_type": "markdown",
   "metadata": {},
   "source": [
    "Change your course and place it towards the red dot and you will directly bump into your waypoint marker."
   ]
  },
  {
   "cell_type": "markdown",
   "metadata": {},
   "source": [
    "You can also use the second layline to determine when it is time to tack so that you are sure to make it around the waypoint: the red dot should be outside the second layline before doing so. "
   ]
  },
  {
   "cell_type": "markdown",
   "metadata": {},
   "source": [
    "The upper part of the bearing compass will give you"
   ]
  },
  {
   "cell_type": "markdown",
   "metadata": {},
   "source": [
    "- BRG bearing angle to the waypoint\n",
    "- TacticsWP = name of the waypoint (if Tactics Waypoint dropped, always this)"
   ]
  },
  {
   "cell_type": "markdown",
   "metadata": {},
   "source": [
    "<img src=\"img/s_210_DashT_Tactics_brgcomp_lower.png\"\n",
    "alt=\"Bearing COmpass - Lower part data\" width=\"150\">[(zoom)](img/210_DashT_Tactics_brgcomp_lower.png)"
   ]
  },
  {
   "cell_type": "markdown",
   "metadata": {},
   "source": [
    "In the lower part of the Bearing Compass instrument will give you"
   ]
  },
  {
   "cell_type": "markdown",
   "metadata": {},
   "source": [
    "- DTW = distance to the waypoint\n",
    "- predicect speed over ground (SOG) _on the other tack_."
   ]
  },
  {
   "cell_type": "raw",
   "metadata": {
    "raw_mimetype": "text/restructuredtext"
   },
   "source": [
    ".. index::\n",
    "   single: Instruments; Polar Compass"
   ]
  },
  {
   "cell_type": "markdown",
   "metadata": {},
   "source": [
    "### Polar Compass"
   ]
  },
  {
   "cell_type": "markdown",
   "metadata": {},
   "source": [
    "<img src=\"img/s_215_DashT_Tactics_polar_compass.png\"\n",
    "alt=\"Polar Compass\" width=\"200\">[(zoom)](img/215_DashT_Tactics_polar_compass.png)"
   ]
  },
  {
   "cell_type": "markdown",
   "metadata": {},
   "source": [
    "This instrument is derived from Bearing Compass. If you a polar loaded, it shows you the actual polar ring. The size of the ring is normalized, _i.e._ it has always the same size."
   ]
  },
  {
   "cell_type": "markdown",
   "metadata": {},
   "source": [
    "The polar is rotated with the TWD, which is shown as thin blue line here. In this example True Wind Direction is 226°, the wind is blowing from port aft, boat's true heading being 168°."
   ]
  },
  {
   "cell_type": "markdown",
   "metadata": {},
   "source": [
    "<img src=\"img/s_220_DashT_Tactics_polcomp_hdt_line.png\"\n",
    "alt=\"Polar Compass - HDT line\" width=\"150\">[(zoom)](img/220_DashT_Tactics_polcomp_hdt_line.png)"
   ]
  },
  {
   "cell_type": "markdown",
   "metadata": {},
   "source": [
    "The thin blue vertical line, highlighted in green color in the above picture is indicating the true heading, HDT."
   ]
  },
  {
   "cell_type": "markdown",
   "metadata": {},
   "source": [
    "The 4 blue markers (triangles) are showing the Target-VMG angles, up- and downwind. They are based on the actual polar ring and are moving with the polar."
   ]
  },
  {
   "cell_type": "markdown",
   "metadata": {},
   "source": [
    "The red marker(s) (triangles) are the Target-CMG angles towards the active waypoint. They are only shown if you have an active waypoint set either via NMEA-RMB or by dropping the Tactics waypoint on the chart."
   ]
  },
  {
   "cell_type": "markdown",
   "metadata": {},
   "source": [
    "In contrary to the Bearing Compass, the VMG/CMG markers are shown in conjunction with the polar and are rotating with the polar/true wind angle."
   ]
  },
  {
   "cell_type": "markdown",
   "metadata": {},
   "source": [
    "The red dot inside the compass shows the bearing to the waypoint, like in the Bearing Compass."
   ]
  },
  {
   "cell_type": "markdown",
   "metadata": {},
   "source": [
    "To sail optimum VMG- or CMG-Angle, change your course in a way that the boats heading line (the thin blue line from the bow)  points on the marker of your choice."
   ]
  },
  {
   "cell_type": "markdown",
   "metadata": {},
   "source": [
    "<img src=\"img/s_225_DashT_Tactics_polcomp_upper.png\"\n",
    "alt=\"Polar Compass - Upper\" width=\"150\">[(zoom)](img/225_DashT_Tactics_polcomp_upper.png)"
   ]
  },
  {
   "cell_type": "markdown",
   "metadata": {},
   "source": [
    "Top left and top right data fields are showing:"
   ]
  },
  {
   "cell_type": "markdown",
   "metadata": {},
   "source": [
    "- DTW = Distance to Waypoint\n",
    "- TacticsWP = name of the waypoint (if Tactics Waypoint dropped, always this)"
   ]
  },
  {
   "cell_type": "markdown",
   "metadata": {},
   "source": [
    "<img src=\"img/s_230_DashT_Tactics_polcomp_ctr_n_lower.png\"\n",
    "alt=\"Polar Compass - Center and lower part\" width=\"150\">[(zoom)](img/230_DashT_Tactics_polcomp_ctr_n_lower.png)"
   ]
  },
  {
   "cell_type": "markdown",
   "metadata": {},
   "source": [
    "The lower center numerical data is speed through water (STW)."
   ]
  },
  {
   "cell_type": "markdown",
   "metadata": {},
   "source": [
    "The two bottom fields are"
   ]
  },
  {
   "cell_type": "markdown",
   "metadata": {},
   "source": [
    "- T-PS : Target Polar Speed\n",
    "- PolarSpeed-% = the percentage of you actual STW compared to the Target Polar Speed"
   ]
  },
  {
   "cell_type": "markdown",
   "metadata": {},
   "source": [
    "<img src=\"img/s_235_DashT_Tactics_polcomp_laylines.png\"\n",
    "alt=\"Polar Compass - Laylines\" width=\"150\">[(zoom)](img/235_DashT_Tactics_polcomp_laylines.png)"
   ]
  },
  {
   "cell_type": "markdown",
   "metadata": {},
   "source": [
    "Furthermore you see the laylines which are based on COG. In this example, there is a angle between the HDT line and the layline, meaning that we have a significant drift!"
   ]
  },
  {
   "cell_type": "markdown",
   "metadata": {},
   "source": [
    "**NOTE**: There may be two red CMG pointers on the outer ring. They are based on Bearing and True Wind direction. Generally one of them is preferred, because you approach the waypoint faster following it. The preferred one arrow has a bigger size!"
   ]
  },
  {
   "cell_type": "markdown",
   "metadata": {},
   "source": [
    "Let's walk through the below example use case in the Polar Compass:"
   ]
  },
  {
   "cell_type": "markdown",
   "metadata": {},
   "source": [
    "<img src=\"img/s_240_DashT_Tactics_polcomp_gmc_example.png\"\n",
    "alt=\"Polar Compass - GMC Example\" width=\"200\">[(zoom)](img/240_DashT_Tactics_polcomp_gmc_example.png)"
   ]
  },
  {
   "cell_type": "markdown",
   "metadata": {},
   "source": [
    "We have TWD, shown with the blue arrow. The polar is rotated with TWD."
   ]
  },
  {
   "cell_type": "markdown",
   "metadata": {},
   "source": [
    "Next, we have the bearing to the waypoint, see the solid purple line _“Bearing”_."
   ]
  },
  {
   "cell_type": "markdown",
   "metadata": {},
   "source": [
    "From this solid purple bearing line, we have to find the tangent on the polar curve to both sides. The tangent is - in relation to the purple bearing line – the highest point of the polar curve."
   ]
  },
  {
   "cell_type": "markdown",
   "metadata": {},
   "source": [
    "Graphically one draws perpendicular lines from the purple bearing line to either side until it just touches the polar curve."
   ]
  },
  {
   "cell_type": "markdown",
   "metadata": {},
   "source": [
    "The length on the purple bearing line, measured from the 0-point of the polar, to the perpendicular intersections (marked CMG) corresponds to the Target CMG speed."
   ]
  },
  {
   "cell_type": "raw",
   "metadata": {
    "raw_mimetype": "text/restructuredtext"
   },
   "source": [
    ".. index::\n",
    "   single: Tactics; Temporary WP"
   ]
  },
  {
   "cell_type": "markdown",
   "metadata": {},
   "source": [
    "### Temporary waypoint and Target-TWA laylines"
   ]
  },
  {
   "cell_type": "markdown",
   "metadata": {},
   "source": [
    "<img src=\"img/s_245_DashT_Tactics_drop_TWP_mark.png\"\n",
    "alt=\"Drop Tactics WP\" width=\"150\">[(zoom)](img/245_DashT_Tactics_drop_TWP_mark.png)"
   ]
  },
  {
   "cell_type": "markdown",
   "metadata": {},
   "source": [
    "You can right-click on any place on the chart and drop a temporary Tactics waypoint (exactly one)."
   ]
  },
  {
   "cell_type": "markdown",
   "metadata": {},
   "source": [
    ">**NOTE**: this OpenCPN function can be a bit tricky and the point does not always go where you think you clicked (but you can move it by dragging it). You can attempt to keep the cursor strictly within the limits of the dialog depicted above: OpenCPN remembers the last cursor position on the chart when you finally click the menu item, which is quite far from the original click position."
   ]
  },
  {
   "cell_type": "markdown",
   "metadata": {},
   "source": [
    "As soon as you activate the layline display - or if it is already activated, the plug-in will do a Target-TWA calculation to that WP, based on the current TWD and your boat polar. Surface current is taken into account."
   ]
  },
  {
   "cell_type": "markdown",
   "metadata": {},
   "source": [
    "<img src=\"img/s_250_DashT_Tactics_WP_on_chart.png\"\n",
    "alt=\"Tactics WP on chart\" width=\"150\">[(zoom)](img/250_DashT_Tactics_WP_on_chart.png)"
   ]
  },
  {
   "cell_type": "markdown",
   "metadata": {},
   "source": [
    "You can delete that waypoint as any other WP. Select it with right click and choose _“Delete”_. You can sldo drag the waypoint on the chart, it behaves like a normal waypoint and appears in the waypoint manager."
   ]
  },
  {
   "cell_type": "markdown",
   "metadata": {},
   "source": [
    "The chart functions takes the Target-VMG (Target-TWA) angle up-/downwind and applies it to our boat as well as to the temporary Tactics waypoint mark."
   ]
  },
  {
   "cell_type": "markdown",
   "metadata": {},
   "source": [
    "If there is a line intersection, it chops off the lines at the intersection so that you remain strictly in the perimeter defined by the temporary Tactics waypoint mark."
   ]
  },
  {
   "cell_type": "markdown",
   "metadata": {},
   "source": [
    "Colours green and red are again the wind directions green = wind from starboard, red = wind from port."
   ]
  },
  {
   "cell_type": "markdown",
   "metadata": {},
   "source": [
    "Additionally, Tactics is doing a polar based calculation to see if the direct course would be faster compared to the Target-VMG calculation."
   ]
  },
  {
   "cell_type": "markdown",
   "metadata": {},
   "source": [
    "In that case you'll get a red or green line directly to the waypoint. Colour depends on the side the wind is blowing from. Wind from port → red, wind from starboard → green"
   ]
  },
  {
   "cell_type": "markdown",
   "metadata": {},
   "source": [
    "<img src=\"img/s_255_DashT_Tactics_to_WP_bb.png\" alt=\"Tactics to WP - port\" width=\"150\">[(zoom)](img/255_DashT_Tactics_to_WP_bb.png) | <img src=\"img/s_260_DashT_Tactics_to_WP_tb.png\" alt=\"Tactics to WP - starboard\" width=\"150\">[(zoom)](img/260_DashT_Tactics_to_WP_tb.png)"
   ]
  },
  {
   "cell_type": "markdown",
   "metadata": {},
   "source": [
    "You may have noticed that Tactics is placing a wind barb also on the temporary Tactics waypoint mark."
   ]
  },
  {
   "cell_type": "markdown",
   "metadata": {},
   "source": [
    ">**NOTE**: In the contrary to the weather routing plug-in, Tactics is not, explicitly, using grib files for current/wind info. The the temporary Tactics waypoint mark” is meant for a quick, near run around a buoy, cape of an island, etc. using the surface current and the live wind data we currently are experiencing. Just drop a mark on the chart and off you go. Delete it, drop it somewhere else, and boom, off you go again in agile sailing! Maximum one tack/gybe per mark dropped, not more."
   ]
  },
  {
   "cell_type": "raw",
   "metadata": {
    "raw_mimetype": "text/restructuredtext"
   },
   "source": [
    ".. index::\n",
    "   single: Tactics; NKE Perf.Records"
   ]
  },
  {
   "cell_type": "markdown",
   "metadata": {},
   "source": [
    "### NKE-style Perf.Records"
   ]
  },
  {
   "cell_type": "markdown",
   "metadata": {},
   "source": [
    "NKE supports the upload of specific performance data to their instrument bus, which can be shown in their display devices. These records are polar based and unless you’re using their (quite expensive) regatta processor, Tactics gives us an easy way to display e.g. the _“Target Polar Speed”_ outside in the cockpit on the standard instrument displays."
   ]
  },
  {
   "cell_type": "markdown",
   "metadata": {},
   "source": [
    ">**NOTE**: Due to the lack of information on other manufacturers' systems interfaces or capabilities, Tactics implements this for the NKE systems only for now. Also, be aware that OpenCPN can only import/export NMEA183 right now, but not NMEA2000 or SeaTalk. Any use cases allowing to overcome these limitations will be welcome!"
   ]
  },
  {
   "cell_type": "markdown",
   "metadata": {},
   "source": [
    "The following five NKE-records are implemented :"
   ]
  },
  {
   "cell_type": "markdown",
   "metadata": {},
   "source": [
    "**Speed and performance target**\n",
    "```\n",
    "Speed and performance target \n",
    "$PNKEP,01,x.x,N,x.x,K*hh<CR><LF>\n",
    "       |         \\ target speed in km/h\n",
    "        \\ target speed in knots\n",
    "```"
   ]
  },
  {
   "cell_type": "markdown",
   "metadata": {},
   "source": [
    "**Course on the next tack**\n",
    "```\n",
    "$PNKEP,02,x.x*hh<CR><LF>\n",
    "          \\ Course (COG) on other tack from 0 to 359°\n",
    "```"
   ]
  },
  {
   "cell_type": "markdown",
   "metadata": {},
   "source": [
    "**Opt. VMG angle and performance up and downwind**\n",
    "```\n",
    "$PNKEP,03,x.x,x.x,x.x*hh<CR><LF>\n",
    "          |   |   \\ polar speed performance TWA/TWS from 0 to 99%\n",
    "          |    \\ performance upwind or downwind from 0 to 99%\n",
    "           \\ opt.VMG angle  0-359°\n",
    "```"
   ]
  },
  {
   "cell_type": "markdown",
   "metadata": {},
   "source": [
    "**Angles to optimise  CMG and VMG and corresponding gain** - available but has not been verified due to lack of a compatible NKE-instrument:\n",
    "```\n",
    "$PNKEP,04,x.x,x.x,x.x,x.x*hh<CR><LF>\n",
    "          |   |    |  \\ Gain VMG from 0 to 999%\n",
    "          |   |     \\ Angle to optimise VMG from 0 to 359°\n",
    "          |    \\ Gain CMG from 0 to 999%\n",
    "          \\ Angle to optimise  CMG from 0 to 359°\n",
    "```"
   ]
  },
  {
   "cell_type": "markdown",
   "metadata": {},
   "source": [
    "**Direction and speed of sea current**\n",
    "```\n",
    "$PNKEP,05,x.x,x.x,N,x.x,K*hh<CR><LF>\n",
    "          |   |      \\ current speed in km/h\n",
    "          |    \\ current speed in knots\n",
    "          \\ current direction from 0 à 359°\n",
    "```"
   ]
  },
  {
   "cell_type": "markdown",
   "metadata": {},
   "source": [
    "<img src=\"img/s_265_DashT_Tactics_NKE_out_pref_dlg.png\"\n",
    "alt=\"Tactics Preferences - NKE Out\" width=\"280\">[(zoom)](img/265_DashT_Tactics_NKE_out_pref_dlg.png)"
   ]
  },
  {
   "cell_type": "markdown",
   "metadata": {},
   "source": [
    "These five NMEA183-records all begin with a `$PNKEP` and are created on the fly using the data calculated in the plug-in and are sent to OpenCPNs NMEA stream. To send the records to your instruments, you have to define an outgoing connection in you Interface connections, e.g. like this :"
   ]
  },
  {
   "cell_type": "markdown",
   "metadata": {},
   "source": [
    "<img src=\"img/s_270_DashT_Tactics_NKE_get_out_NMEA.png\"\n",
    "alt=\"Tactics NKE Out - OpenCPN settings\" width=\"400\">[(zoom)](img/270_DashT_Tactics_NKE_get_out_NMEA.png)"
   ]
  },
  {
   "cell_type": "markdown",
   "metadata": {},
   "source": [
    "Set an output filter as shown above, filtering for PNKEP. After the set up, you should see records beginning whith `$PNKEP`, in your NMEA debug window."
   ]
  },
  {
   "cell_type": "markdown",
   "metadata": {},
   "source": [
    "NKE exports the `$PNKEP` sentences as soon as they re available on the topline bus. Normally they are calculated in their regatta processor and then exported to the PC."
   ]
  },
  {
   "cell_type": "markdown",
   "metadata": {},
   "source": [
    "Therefore ignore all incoming `$PNKEP`-sentences! Click on Input filtering (see screenshot above), select Ignore sencences and add PNKEP."
   ]
  },
  {
   "cell_type": "markdown",
   "metadata": {},
   "source": [
    "Do not forget to re-init your NMEA data stream in your instruments, to make sure the new records are accepted."
   ]
  },
  {
   "cell_type": "markdown",
   "metadata": {},
   "source": [
    ">**NOTE** It can be quite challenging to teach to a NKE TL25 mast display these new sentences since their frequency is not very high. So you need to be patient and try several times."
   ]
  },
  {
   "cell_type": "raw",
   "metadata": {
    "raw_mimetype": "text/restructuredtext"
   },
   "source": [
    ".. index::\n",
    "   single: Tactics; Data Export"
   ]
  },
  {
   "cell_type": "markdown",
   "metadata": {},
   "source": [
    "### Data Export"
   ]
  },
  {
   "cell_type": "markdown",
   "metadata": {},
   "source": [
    "This function which allows to write data in CSV (comma separated values) file is originating from Tactics, therefore it is explained here. It has been implemented also in Wind History and Baro History instruments, which are under Dashboard instrument category. Here we use the Polar Performance instrument for an example."
   ]
  },
  {
   "cell_type": "markdown",
   "metadata": {},
   "source": [
    ">**NOTE**: this function has nothing to with _DashT_ InfluxDB database export but is destined for those who want to have CSV-files created directly, for importing to a spreadsheet, Jupyter Lab, on-line services, etc."
   ]
  },
  {
   "cell_type": "markdown",
   "metadata": {},
   "source": [
    "For these three instruments, there is a button for this purpose, placed on the upper left corner:"
   ]
  },
  {
   "cell_type": "markdown",
   "metadata": {},
   "source": [
    "<img src=\"img/s_275_DashT_Tactics_Data_Export_button.png\"\n",
    "alt=\"Tactics Data export button\" width=\"280\">[(zoom)](img/275_DashT_Tactics_Data_Export_button.png)"
   ]
  },
  {
   "cell_type": "markdown",
   "metadata": {},
   "source": [
    "Once you click the `‘>’` button, a menu pops up where you can select the export rate (the latest setting is saved to opencpn.ini and will be set as default at startup for the next usage)."
   ]
  },
  {
   "cell_type": "markdown",
   "metadata": {},
   "source": [
    "<img src=\"img/s_280_DashT_Tactics_Data_Export_freq.png\"\n",
    "alt=\"Tactics Data Export Rate\" width=\"150\">[(zoom)](img/280_DashT_Tactics_Data_Export_freq.png)"
   ]
  },
  {
   "cell_type": "markdown",
   "metadata": {},
   "source": []
  },
  {
   "cell_type": "markdown",
   "metadata": {},
   "source": [
    "After selecting one of the export rates, a file selection dialog is opened asking from you for an export file name."
   ]
  },
  {
   "cell_type": "markdown",
   "metadata": {},
   "source": [
    "If you give it an existing name, the data will be appended (added) at the end of the file."
   ]
  },
  {
   "cell_type": "markdown",
   "metadata": {},
   "source": [
    "If the file does not exist, it will be created."
   ]
  },
  {
   "cell_type": "markdown",
   "metadata": {},
   "source": [
    "Like the export rate, also the filename is stored in opencpn.ini and set as default for the file selection dialog."
   ]
  },
  {
   "cell_type": "markdown",
   "metadata": {},
   "source": [
    "There is NO logical check on the content of the file if you decide to use an existing file!"
   ]
  },
  {
   "cell_type": "markdown",
   "metadata": {},
   "source": [
    "Once the export is running, the button changes to  `X` :"
   ]
  },
  {
   "cell_type": "markdown",
   "metadata": {},
   "source": [
    "<img src=\"img/s_285_DashT_Tactics_Data_Export_X-files.png\"\n",
    "alt=\"Tactics storing of values running\" width=\"150\">[(zoom)](img/285_DashT_Tactics_Data_Export_X-files.png)"
   ]
  },
  {
   "cell_type": "markdown",
   "metadata": {},
   "source": [
    "To stop the data export, click the `X` . Export stops immediately."
   ]
  },
  {
   "cell_type": "markdown",
   "metadata": {},
   "source": [
    "The export files always contains the current date, local time (incl. sec.), and the instruments data; the first line in the file is always the headline with the field description. A standard wxWidgets function is used to format date and time, taking your local date/time settings into account. You can use Dashboard instruments to check the local time of your computer and compare it to the stored values."
   ]
  },
  {
   "cell_type": "markdown",
   "metadata": {},
   "source": [
    "The data separator can be set, it does not have to be a comma, in this Polar Perfomance export example it is a semicolon `;`"
   ]
  },
  {
   "cell_type": "markdown",
   "metadata": {},
   "source": [
    "<img src=\"img/s_290_DashT_Tactics_Data_Export_Polar_Perf.png\" alt=\"Tactics Polar Perf. Export\" width=\"280\">[(zoom)](img/290_DashT_Tactics_Data_Export_Polar_Perf.png)"
   ]
  },
  {
   "cell_type": "markdown",
   "metadata": {},
   "source": [
    ">**NOTE**: To reduce the system load, the internal timer for the baro history instrument is set to 5 seconds, i.e. only every 5 seconds, the display is updated. This should be good enough for barographs which generally export their data at even lower rates."
   ]
  },
  {
   "cell_type": "markdown",
   "metadata": {},
   "source": [
    "<img src=\"img/s_295_DashT_Tactics_Data_csv_params.png\"\n",
    "alt=\"Tactics Export CSV settings\" width=\"280\">[(zoom)](img/295_DashT_Tactics_Data_csv_params.png)"
   ]
  },
  {
   "cell_type": "markdown",
   "metadata": {},
   "source": [
    "_“Prepend Clockticks & Prepend UTC Timestamp”_ : With these ticks you can add Clockticks and a UTC Timestamp to the data export, at the beginning of each line of exported data."
   ]
  },
  {
   "cell_type": "markdown",
   "metadata": {},
   "source": [
    "This can be useful if you intend to process the data afterwards, e.g. via InfluxDB, Grafana, etc."
   ]
  },
  {
   "cell_type": "markdown",
   "metadata": {},
   "source": [
    "_“Data Separator”_ : You can  define and set your own column separator here, instead of the ini-file method described above. A Tab is represented by `\\t` if it is required as separator."
   ]
  },
  {
   "cell_type": "raw",
   "metadata": {
    "raw_mimetype": "text/restructuredtext"
   },
   "source": [
    ".. index::\n",
    "   single: Tactics; Terminology"
   ]
  },
  {
   "cell_type": "markdown",
   "metadata": {},
   "source": [
    "## Tactics terminology"
   ]
  },
  {
   "cell_type": "markdown",
   "metadata": {},
   "source": [
    "| Term | Description |\n",
    "| ---- | ----------- | \n",
    "| AWA | Apparent Wind Angle; the relative wind angle measured by your wind sensor, related to the boat axis(0°...180°) |\n",
    "| AWS | Apparent Wind Speed; the relative speed of the wind measured by your wind sensor |\n",
    "| CMG | Course Made Good; the relative speed approaching a waypoint. This term may be customized to whatever you like. See the [ini/conf-file chapter](../tweaks/tweaks.ipynb#DashT/Tactics) for _“CMGSynonym”_ |\n",
    "| COG | Course Over Ground; generally supplied by the GPS |\n",
    "| HDG | Magnetic heading of your compass; not compensated with mag. variation |\n",
    "| HDT | True heading of your compass. “True” means compensated with magnetic variation |\n",
    "| Heel | The angular degrees how your boat is heeled (leaning) sideways due to any force from outside (wave, wind, water ballast on one side of the boat, swing keel etc....) |\n",
    "| CRS | Course through water; HDT + Leeway, but without currents |\n",
    "| Leeway | The drift of your boat caused by the wind. As soon as the wind is blowing it implies a force on your boat, the boat starts drifting. Leeway is **not** including any drift due to surface currents ! That's actually the challenge :-) you can manage with Tactics! |\n",
    "| SOG | Speed Over Ground; generally supplied by the GPS |\n",
    "| STW | Speed Through Water; the info that is returned by your “paddlewheel” sensor |\n",
    "| Target CMG | The optimum speed / angle towards a waypoint; aka VMC |\n",
    "| Target VMG | The optimum speed / angle up- or downwind with reference to the true wind direction (without a waypoint) |\n",
    "| TWA | True Wind Angle; the angle of the true wind relative to the boat axis (0°...180°). The unit then gives you the direction as “>”=port, “<”=starboard |\n",
    "| TWD |True Wind Direction; true wind direction related to the compass rose (0°..359°) |\n",
    "| TWS | True Wind Speed; the speed of the wind in the atmosphere |\n",
    "| VMC | Velocity Made on Course; same as CMG |\n",
    "| VMG | Velocity Made Good; the relative speed up-/downwind with reference to the true wind direction. This term may be customized to whatever you like.  See the [ini/conf-file chapter](../tweaks/tweaks.ipynb#DashT/Tactics) for _“VMGSynonym”_ |"
   ]
  },
  {
   "cell_type": "raw",
   "metadata": {
    "raw_mimetype": "text/restructuredtext"
   },
   "source": [
    ".. index::\n",
    "   single: Tactics; Align Compass"
   ]
  },
  {
   "cell_type": "markdown",
   "metadata": {},
   "source": [
    "## Align your compass"
   ]
  },
  {
   "cell_type": "markdown",
   "metadata": {},
   "source": [
    "- Swing your compass as described by the manufacturer\n",
    "- Connect your GPS to O to get a stable position \n",
    "- Make sure you have true heading available (use wmm_pi, in case you don't get the mag. variation from the GPS) \n",
    "- Directly in OpenCPN, set your heading predictor to a high value, e.g. 10 miles"
   ]
  },
  {
   "cell_type": "markdown",
   "metadata": {},
   "source": [
    "<img src=\"img/s_300_DashT_Tactics_Set_O_hdg_pred.png\"\n",
    "alt=\"Tactics - set O hdg 10 nmi\" width=\"400\">[(zoom)](img/300_DashT_Tactics_Set_O_hdg_pred.png)"
   ]
  },
  {
   "cell_type": "markdown",
   "metadata": {},
   "source": [
    "Put the mouse onto the (thin HDT) predictor line towards the end of the line (the long line reduces the error)."
   ]
  },
  {
   "cell_type": "markdown",
   "metadata": {},
   "source": [
    "<img src=\"img/s_305_DashT_Tactics_Set_O_hdg_long.png\"\n",
    "alt=\"Tactics Check Compass with HDT\" width=\"400\">[(zoom)](img/305_DashT_Tactics_Set_O_hdg_long.png)"
   ]
  },
  {
   "cell_type": "markdown",
   "metadata": {},
   "source": [
    "- Simply compare now the true heading with the status line or the \"From Ownship\" display... \n",
    "- Then adjust your compass (in this case : -1°) "
   ]
  }
 ],
 "metadata": {
  "kernelspec": {
   "display_name": "Python 3",
   "language": "python",
   "name": "python3"
  },
  "language_info": {
   "codemirror_mode": {
    "name": "ipython",
    "version": 3
   },
   "file_extension": ".py",
   "mimetype": "text/x-python",
   "name": "python",
   "nbconvert_exporter": "python",
   "pygments_lexer": "ipython3",
   "version": "3.8.2"
  }
 },
 "nbformat": 4,
 "nbformat_minor": 4
}
