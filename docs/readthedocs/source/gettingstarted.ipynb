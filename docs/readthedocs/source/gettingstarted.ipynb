{
 "cells": [
  {
   "cell_type": "raw",
   "metadata": {
    "raw_mimetype": "text/restructuredtext"
   },
   "source": [
    ".. index::\n",
    "   single: Getting Started"
   ]
  },
  {
   "cell_type": "markdown",
   "metadata": {},
   "source": [
    "# Getting Started"
   ]
  },
  {
   "cell_type": "markdown",
   "metadata": {},
   "source": [
    "Start (or restart) OpenCPN v5.2 or superior after the installation of the _DashT_ with a local installer package."
   ]
  },
  {
   "cell_type": "markdown",
   "metadata": {},
   "source": [
    "Start the OpenCPN plug-in manager from the OpenCPN options menu:"
   ]
  },
  {
   "cell_type": "markdown",
   "metadata": {},
   "source": [
    "<img src=\"img/s_2020-08-22_113310_OpenCPN_pluginmgr_start.png\"\n",
    "alt=\"Start OpenCPN plug-in manager\" width=\"600\">[.](img/2020-08-22_113310_OpenCPN_pluginmgr_start.png)"
   ]
  },
  {
   "cell_type": "markdown",
   "metadata": {},
   "source": [
    "Search for the _DashT_ plug-in. As a new plug-in, it is disabled. Verify that its version is the same as this document's version, _i.e._ they are likely coming from the same distribution."
   ]
  },
  {
   "cell_type": "markdown",
   "metadata": {},
   "source": [
    "<img src=\"img/s_2020-08-22_113315_DashT_pluginmgr_start.png\"\n",
    "alt=\"Search for DashT\" width=\"600\">[.](img/2020-08-22_113315_DashT_pluginmgr_start.png)"
   ]
  },
  {
   "cell_type": "markdown",
   "metadata": {},
   "source": [
    "(**1**) Enable DashT plug-in."
   ]
  },
  {
   "cell_type": "markdown",
   "metadata": {},
   "source": [
    "<img src=\"img/s_2020-08-22_113320_DashT_pluginmgr_next.png\"\n",
    "alt=\"Enable DashT plug-in\" width=\"600\">[.](img/2020-08-22_113320_DashT_pluginmgr_next.png)"
   ]
  },
  {
   "cell_type": "markdown",
   "metadata": {},
   "source": [
    "If you have Tactics plug-in installed, you will be suggested to import its settings. Make your choice:"
   ]
  },
  {
   "cell_type": "markdown",
   "metadata": {},
   "source": [
    "<img src=\"img/s_2020-08-22_113325_DashT_pluginmgr_enable_import_Tactics_dlg.png\"\n",
    "alt=\"Importing Tactics settings\" width=\"280\">[.](img/2020-08-22_113325_DashT_pluginmgr_enable_import_Tactics_dlg.png)"
   ]
  },
  {
   "cell_type": "markdown",
   "metadata": {},
   "source": [
    "(**2**) is needed for this distribution: this is a local installation, not from the centralized OpenCPN.org repository."
   ]
  },
  {
   "cell_type": "markdown",
   "metadata": {},
   "source": [
    "(**3**) You may want to notice that one has access to _DashT_ preferences from here. Right now we are not going to set them."
   ]
  },
  {
   "cell_type": "markdown",
   "metadata": {},
   "source": [
    "<img src=\"img/s_2020-08-22_114928_DashT_enabled.png\"\n",
    "alt=\"DashT button\" width=\"100\">[.](img/2020-08-22_114928_DashT_enabled.png) (**4**) Apply your choices and leave the OpenCPN options dialog. _DashT_ is enabled but not visible."
   ]
  },
  {
   "cell_type": "markdown",
   "metadata": {},
   "source": [
    "<img src=\"img/s_2020-08-22_115340_DashT_def_instruments.png\"\n",
    "alt=\"Default instrument panel\" width=\"200\">[.](img/2020-08-22_115340_DashT_def_instruments.png) (**5**) Click on the _DashT_ icon to make its default instrument panel (**6**) visible. The default panel's instrument are exactly the same than on built-in Dashboard. Right-click on an instrument (**7**):"
   ]
  },
  {
   "cell_type": "markdown",
   "metadata": {},
   "source": [
    "(**8**) Select Preferences."
   ]
  },
  {
   "cell_type": "markdown",
   "metadata": {},
   "source": [
    "<img src=\"img/s_2020-08-22_115826_DashT_prefs_context_menu.png\"\n",
    "alt=\"Context menu\" width=\"200\">[.](img/2020-08-22_115826_DashT_prefs_context_menu.png)"
   ]
  },
  {
   "cell_type": "markdown",
   "metadata": {},
   "source": [
    "(**9**) _DashT_ prerefence dialog's main tab is used to manage dashboard panels and the instruments in those. By default only one dashboard panel is visible. Click on its symbol to show the instruments in it.\n",
    "\n",
    "You got it right, you can add new instrument panels with **+** (plus) and remove them with **-** (minus) signed buttons on the left, and populate them with the instruments you like with the **Add**-button on the right. There are quite a few instruments, so they would be better explained in dedicated chapters later on in this document."
   ]
  },
  {
   "cell_type": "markdown",
   "metadata": {},
   "source": [
    "<img src=\"img/s_2020-08-22_120259_DashT_Pref_dialog-1.png\"\n",
    "alt=\"DashT prefence dialog\" width=\"300\">[(zoom)](img/2020-08-22_120259_DashT_Pref_dialog-1.png)"
   ]
  },
  {
   "cell_type": "markdown",
   "metadata": {},
   "source": [
    "(**10**) Finalize the initial settings by clicking on \"Appearance\" tab."
   ]
  },
  {
   "cell_type": "markdown",
   "metadata": {},
   "source": [
    "<img src=\"img/s_2020-08-22_120305_DashT_Pref_dialog-2.png\"\n",
    "alt=\"Appearance Tab\" width=\"300\">[(zoom)](img/2020-08-22_120305_DashT_Pref_dialog-2.png)"
   ]
  },
  {
   "cell_type": "markdown",
   "metadata": {},
   "source": [
    "(**11**) Set the appearance and conversion values to your preferences. Note that these values, unlike those from the Tactics plug-in are not imported from the OpenCPN built-in Dashboard plug-in."
   ]
  },
  {
   "cell_type": "markdown",
   "metadata": {},
   "source": [
    "<img src=\"img/s_2020-08-22_121132_DashT_prefs-1.png\"\n",
    "alt=\"Dashboard preferences\" width=\"300\">[(zoom)](img/2020-08-22_121132_DashT_prefs-1.png)"
   ]
  }
 ],
 "metadata": {
  "kernelspec": {
   "display_name": "Python 3",
   "language": "python",
   "name": "python3"
  },
  "language_info": {
   "codemirror_mode": {
    "name": "ipython",
    "version": 3
   },
   "file_extension": ".py",
   "mimetype": "text/x-python",
   "name": "python",
   "nbconvert_exporter": "python",
   "pygments_lexer": "ipython3",
   "version": "3.8.2"
  }
 },
 "nbformat": 4,
 "nbformat_minor": 4
}
