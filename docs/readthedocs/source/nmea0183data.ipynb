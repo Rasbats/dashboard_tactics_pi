{
 "cells": [
  {
   "cell_type": "raw",
   "metadata": {
    "raw_mimetype": "text/restructuredtext"
   },
   "source": [
    ".. index::\n",
    "   single: NMEA-0183\n",
    ".. index::\n",
    "   single: Data; NMEA-0183"
   ]
  },
  {
   "cell_type": "markdown",
   "metadata": {},
   "source": [
    "# NMEA-0183 Data"
   ]
  },
  {
   "cell_type": "markdown",
   "metadata": {},
   "source": [
    "Like the built-in Dashboard, _DashT_ receives all the same NMEA-0183 data OpenCPN receives, via the OpenCPN."
   ]
  },
  {
   "cell_type": "markdown",
   "metadata": {},
   "source": [
    "If you see the NMEA-0183 data coming in with the OpenCPN NMEA-0183 data stream debugger, the same data is sent to _DashT_."
   ]
  },
  {
   "cell_type": "markdown",
   "metadata": {},
   "source": [
    "<img src=\"img/s_2020-08-22_155644_OpenCPN_NMEA0183_data.png\"\n",
    "alt=\"OpenCPN receiving NMEA-0183 data\" width=\"300\">[(zoom)](img/2020-08-22_155644_OpenCPN_NMEA0183_data.png)"
   ]
  },
  {
   "cell_type": "markdown",
   "metadata": {},
   "source": [
    "In addition to the sentences it receives, OpenCPN generates a few sentences of its own. For example, when following a route, it generates RMC sentences. Please refer to OpenCPN's documentation. Even these values ends up to _DashT_ plug-in."
   ]
  },
  {
   "cell_type": "raw",
   "metadata": {
    "raw_mimetype": "text/restructuredtext"
   },
   "source": [
    ".. index::\n",
    "   single: Data; Source priority"
   ]
  },
  {
   "cell_type": "markdown",
   "metadata": {},
   "source": [
    "## Data source priority"
   ]
  },
  {
   "cell_type": "markdown",
   "metadata": {},
   "source": [
    "_DashT_ has two sources for instrument data and it uses them in this priority order:"
   ]
  },
  {
   "cell_type": "markdown",
   "metadata": {},
   "source": [
    "1. [Signal K server node's delta channel](./signalk/signalk.ipynb#Signal-K-In) - which can be of [NMEA-0183](./signalk/signalk.ipynb#NMEA-0183-data-type) type or  [NMEA-2000](./signalk/signalk.ipynb#NMEA-2000-data-type) type\n",
    "2. OpenCPN provided NMEA-0183 data"
   ]
  },
  {
   "cell_type": "markdown",
   "metadata": {},
   "source": [
    "This means that if the same data is available from both channels, the priority is given to the one coming from the _Signal K server node_'s delta channel."
   ]
  },
  {
   "cell_type": "markdown",
   "metadata": {},
   "source": [
    "NMEA-0183 data sentence priority, in case sentences containing same data is strictly the same as in OpenCPN Dashboard plug-in, and this independently is the data source _Signal K server node_ or OpenCPN."
   ]
  },
  {
   "cell_type": "markdown",
   "metadata": {},
   "source": [
    "In addition to those two instrument data channels, _DashT_ can read back any of data value from the time-based database connector, provided that the streaming into it has been enabled. The instruments taking usage of this are typically dedicated for historical data and the data source in those is clearly indicated."
   ]
  }
 ],
 "metadata": {
  "kernelspec": {
   "display_name": "Python 3",
   "language": "python",
   "name": "python3"
  },
  "language_info": {
   "codemirror_mode": {
    "name": "ipython",
    "version": 3
   },
   "file_extension": ".py",
   "mimetype": "text/x-python",
   "name": "python",
   "nbconvert_exporter": "python",
   "pygments_lexer": "ipython3",
   "version": "3.8.2"
  }
 },
 "nbformat": 4,
 "nbformat_minor": 4
}
