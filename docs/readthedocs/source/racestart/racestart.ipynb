{
 "cells": [
  {
   "cell_type": "raw",
   "metadata": {
    "raw_mimetype": "text/restructuredtext"
   },
   "source": [
    ".. index::\n",
    "   single: Race Start\n",
    ".. index::\n",
    "   single: Start line"
   ]
  },
  {
   "cell_type": "markdown",
   "metadata": {},
   "source": [
    "# DashT Race Start"
   ]
  },
  {
   "cell_type": "markdown",
   "metadata": {},
   "source": [
    ">**DISCLAIMER**: This software is for educational purposes only. By using it you accept the conditions presented at the first usage of the application, and being equally available in the [Introduction](../introduction.ipynb#Disclaimer) section of this document. The usage for any other purpose is under your entire responsibility and the liability of the author(s) of this software is not engaged. Please respect [Convention on the International Regulations for Preventing Collisions at Sea, 1972 (COLREGs)](http://www.imo.org/en/About/Conventions/ListOfConventions/Pages/COLREG.aspx\") and race's rules at all times."
   ]
  },
  {
   "cell_type": "raw",
   "metadata": {
    "raw_mimetype": "text/restructuredtext"
   },
   "source": [
    ".. index::\n",
    "   single: Race Start; Introduction"
   ]
  },
  {
   "cell_type": "markdown",
   "metadata": {},
   "source": [
    "## Introduction"
   ]
  },
  {
   "cell_type": "markdown",
   "metadata": {},
   "source": [
    "_DashT Race Start_ is a graphical and numerical tool which allows you to train yourself and your team for the optimized arrival, positioning and speed at the race start line."
   ]
  },
  {
   "cell_type": "markdown",
   "metadata": {},
   "source": [
    "It is intended to be used in conjuction with [DashT Race Mark](../racemark/racemark.ipynb#DashT-Race-Mark)."
   ]
  },
  {
   "cell_type": "markdown",
   "metadata": {},
   "source": [
    "Albeit it contains some specific functions for keel boats requiring boat polars, from the educational point of view most of the functions presented are the applicable also in dinghy racing. Please see [OpenCPN supplementary software documentation for a suitable NMEA-0183/NMEA-2000 simulator](https://opencpn.org/wiki/dokuwiki/doku.php?id=opencpn:supplementary_software:signalk:a6#how_to_use_a_nmea-simulator_to_stream_nmea-0183_and_nmea-2000_data)."
   ]
  },
  {
   "cell_type": "raw",
   "metadata": {
    "raw_mimetype": "text/restructuredtext"
   },
   "source": [
    ".. index::\n",
    "   single: Race Start; Define line"
   ]
  },
  {
   "cell_type": "markdown",
   "metadata": {},
   "source": [
    "## Define Line"
   ]
  },
  {
   "cell_type": "markdown",
   "metadata": {},
   "source": [
    "_DashT Race Start_ is designed for a race start procedure where the start line is set so that the wind is heading it perpendicularly. There can be pre-determined positions for starboard marker and the port marker. If none, you can drop your own virtual marks by sailing next to the markers. One of the marker can be the racing committee's boat, do not sail too close to them! The below diagram depicts a northbound race start."
   ]
  },
  {
   "cell_type": "markdown",
   "metadata": {},
   "source": [
    "<img src=\"img/s_005_DashT_RaceStart_northbound.png\"\n",
    "alt=\"DashT Race Start - define line - northbound\" width=\"280\">[(zoom)](img/005_DashT_RaceStart_northbound.png)"
   ]
  },
  {
   "cell_type": "markdown",
   "metadata": {},
   "source": [
    "And the below diagram for a southbound race start, for clarity (actually, you can just turn the diagram above to whatever direction the race line happens to be)."
   ]
  },
  {
   "cell_type": "markdown",
   "metadata": {},
   "source": [
    "<img src=\"img/s_010_DashT_RaceStart_southbound.png\"\n",
    "alt=\"DashT Race Start - define line - southbound\" width=\"280\">[(zoom)](img/010_DashT_RaceStart_southbound.png)"
   ]
  },
  {
   "cell_type": "markdown",
   "metadata": {},
   "source": [
    ">**NOTE**: If the wind is not behind the start line you can stop reading, nothing will be shown in the start area in the case of downwind start procedure."
   ]
  },
  {
   "cell_type": "raw",
   "metadata": {
    "raw_mimetype": "text/restructuredtext"
   },
   "source": [
    ".. index::\n",
    "   single: Race Start; Wind shift direction"
   ]
  },
  {
   "cell_type": "markdown",
   "metadata": {},
   "source": [
    "### Wind shift direction"
   ]
  },
  {
   "cell_type": "markdown",
   "metadata": {},
   "source": [
    "Certainly one of the most important aspect to manage before and after the start line is the wind shift. The terminology is the following:"
   ]
  },
  {
   "cell_type": "markdown",
   "metadata": {},
   "source": [
    "**(+)** = wind is veering = turning clockwise = turning towards the starboard mark = turning to your right "
   ]
  },
  {
   "cell_type": "markdown",
   "metadata": {},
   "source": [
    "**(-)** = wind is backing = turning counter-clockwise = turning towards the port mark = turning to your left"
   ]
  },
  {
   "cell_type": "raw",
   "metadata": {
    "raw_mimetype": "text/restructuredtext"
   },
   "source": [
    ".. index::\n",
    "   single: Race Start; Pre-determined markers"
   ]
  },
  {
   "cell_type": "markdown",
   "metadata": {},
   "source": [
    "### Pre-determined markers"
   ]
  },
  {
   "cell_type": "markdown",
   "metadata": {},
   "source": [
    "Start-line markers the position of which is provided by the race organizer are convenient, albeit one can ask the question how perpendicular will be the wind to the start line? Anyway, _DashT Race Start_ will help you with that!"
   ]
  },
  {
   "cell_type": "markdown",
   "metadata": {},
   "source": [
    ">**NOTE** Since the marks can drift in real life, you may want to sail next to them - it will be easy to snag a pre-positioned marker in _OpenCPN_ at that moment. In this case you may find that using _DashT Race Start_ dropped marks and resulting real-time start line is as convenient way to mark it."
   ]
  },
  {
   "cell_type": "markdown",
   "metadata": {},
   "source": [
    "With the data provided by the organizer, use _OpenCPN_ route manager and create the two following waypoints - note the names, you must use the names _MyStartP_ and _MyStartS_ for port and starboard markers, respectively. You do not have to use the fancy icons, any icon will do, only the name and position coordinates will be used."
   ]
  },
  {
   "cell_type": "markdown",
   "metadata": {},
   "source": [
    "<img src=\"img/s_015_DashT_RaceStart_own_startline_waypoints.png\"\n",
    "alt=\"DashT Race Start - define startline waypoints\" width=\"200\">[(zoom)](img/015_DashT_RaceStart_own_startline_waypoints.png)"
   ]
  },
  {
   "cell_type": "markdown",
   "metadata": {},
   "source": [
    "Using _OpenCPN_ route manager's create route function (**1**) set up a route between the two points. The direction of the route is not important. However, when the route manager suggests to _\"use a nearby waypoint\"_, select _\"Yes\"_. An _Esc_ finishes the route creation."
   ]
  },
  {
   "cell_type": "markdown",
   "metadata": {},
   "source": [
    "Now the final of the three identifiers _DashT Race Start_ needs to find your start line: give it a name which shall be _\"My Startline\"_ (**3**) (evidently...). In the route editor (**2**) you can set other parameters for your startline (which will not be the case for the _DashT Race Start_ created startline):"
   ]
  },
  {
   "cell_type": "markdown",
   "metadata": {},
   "source": [
    "<img src=\"img/s_020_DashT_RaceStart_own_startline_route.png\"\n",
    "alt=\"DashT Race Start - define startline route\" width=\"600\">[(zoom)](img/020_DashT_RaceStart_own_startline_route.png)"
   ]
  },
  {
   "cell_type": "markdown",
   "metadata": {},
   "source": [
    ">**NOTE**: When you approach the startline, you need to **activate** your start-line \"route\". _DashT Race Start_ is searching for an user route by constantly polling for the existence of an active user route with the above characteristics. At this moment you can also hide your start line \"route\" in order to reduce the number of lines on the chart canvas. Keep the waypoints (markers), though when the route manager asks do you want to do so."
   ]
  },
  {
   "cell_type": "raw",
   "metadata": {
    "raw_mimetype": "text/restructuredtext"
   },
   "source": [
    ".. index::\n",
    "   single: Race Start; Approach Zone"
   ]
  },
  {
   "cell_type": "markdown",
   "metadata": {},
   "source": [
    "## Approaching Start Zone"
   ]
  },
  {
   "cell_type": "markdown",
   "metadata": {},
   "source": [
    "After the above (optional) preparation you need to start _DashT Race Start_ application. Do not expect the below happpening automagically without you making some preparation and trials before: the service uses network software (albeit in the \"network\" being only your computer) - the network service function part is **not** part of standard _OpenCPN_ installation (_v5.2_ when this is written)."
   ]
  },
  {
   "cell_type": "markdown",
   "metadata": {},
   "source": [
    ">**NOTE**: Albeit there is no need for any database services or such, please see the corresponding chapter, [InfluxDB / Docker](../influxdb/influxdb.ipynb#InfluxDB-/-Docker) anyway, for the easiest possible way to get all network based services of _DashT_ available with a simple push-button start (Windows) or by a simple command (Linux). Of course, you can have your own way to set the required service, something like how it is done in [EngineDJG script](../enginedjg/enginedjg.ipynb#Engine-Gage-script). But if nothing is set to retrieve the _DashT Race Start_ over the network, local or other, nothing explained below will take place!"
   ]
  },
  {
   "cell_type": "markdown",
   "metadata": {},
   "source": [
    "### Open application"
   ]
  },
  {
   "cell_type": "markdown",
   "metadata": {},
   "source": [
    "<img src=\"img/s_025_DashT_RaceStart_add_application.png\"\n",
    "alt=\"DashT Race Start - add application\" width=\"300\">[(zoom)](img/025_DashT_RaceStart_add_application.png)"
   ]
  },
  {
   "cell_type": "markdown",
   "metadata": {},
   "source": [
    "As usual with complex applications with plenty of buttons and large real-estate area, it is better to keep them alone in a dedicated _DashT_ instrument window."
   ]
  },
  {
   "cell_type": "markdown",
   "metadata": {},
   "source": [
    "For the first time initialization, you are requested to acknowledge and accept the free software license and limitations of liabilibity. By continuing you give your acceptance. If a new application of the same type is created the acceptance is asked again. For this one, this screen will not reappear unless the ID of the instrument is changed in the ini/conf-file."
   ]
  },
  {
   "cell_type": "markdown",
   "metadata": {},
   "source": [
    "<img src=\"img/s_030_DashT_RaceStart_accept_license.png\"\n",
    "alt=\"DashT Race Start - accept license\" width=\"300\">[(zoom)](img/030_DashT_RaceStart_accept_license.png)"
   ]
  },
  {
   "cell_type": "markdown",
   "metadata": {},
   "source": [
    "The _DashT Race Start_ will enter the standby state, leaving you time to verify with the other _DashT_ instruments that it can receive all data it needs."
   ]
  },
  {
   "cell_type": "markdown",
   "metadata": {},
   "source": [
    "<img src=\"img/s_035_DashT_RaceStart_standby_waiting.png\"\n",
    "alt=\"DashT Race Start - standby\" width=\"300\">[(zoom)](img/035_DashT_RaceStart_standby_waiting.png)"
   ]
  },
  {
   "cell_type": "markdown",
   "metadata": {},
   "source": [
    "Let's check that that we have everything needed for a scientific approach to the start line:"
   ]
  },
  {
   "cell_type": "markdown",
   "metadata": {},
   "source": [
    "<img src=\"img/s_040_DashT_RaceStart_necessary_data.png\"\n",
    "alt=\"DashT Race Start - Necessary Data\" width=\"600\">[(zoom)](img/040_DashT_RaceStart_necessary_data.png)"
   ]
  },
  {
   "cell_type": "markdown",
   "metadata": {},
   "source": [
    "We need all the below, otherwise the _DashT Race Start_ is not able to figure out the fast moving situation once in the start zone. Please consider:"
   ]
  },
  {
   "cell_type": "markdown",
   "metadata": {},
   "source": [
    "1. **Average Wind** - this is the instrument wich allow you to manage the wind shifts. This is the key factor to define the end of the start line you should target. Set the integration time according to how nervous the wind is, shorter for continously turning wind. Read more from [Average Wind Instrument](../tactics/tactics.ipynb#Average-Wind-Instrument) to complete master this important instrument!\n",
    "2. **Current Direction** - an other extremely important parameter. Note that in _DashT_ Tactics-algorithms are used: it is vector calculation containing Leeway and Speed through water (STW), therefore keep your boat moving and keep you paddle wheel clean! Read more: [Calculate the surface current](../tactics/tactics.ipynb#Calculate-the-surface-current)\n",
    "3. **True Wind Angle** - [TWA](../dashinst/dashinst.ipynb#TWA)\n",
    "4. **True Wind Speed** - [TWS](../dashinst/dashinst.ipynb#TWS)\n",
    "5. **Course Over Ground** - [COG](../dashinst/dashinst.ipynb#COG)"
   ]
  },
  {
   "cell_type": "markdown",
   "metadata": {},
   "source": [
    ">**NOTE**: from the presence of [COG](../dashinst/dashinst.ipynb#COG) you can understand - and it goes without saying - that the application is depending on your global navigation satellite system (GNSS) data. Therefore it is not your boat's bow you are following but the position of your antenna (such as GPS antenna) unless your boat's navigation system takes into account its position offset. So far there is no information for that in _DashT Race Start_, so please take care."
   ]
  },
  {
   "cell_type": "raw",
   "metadata": {
    "raw_mimetype": "text/restructuredtext"
   },
   "source": [
    ".. index::\n",
    "   single: Race Start; Drop Marks"
   ]
  },
  {
   "cell_type": "markdown",
   "metadata": {},
   "source": [
    "### Drop marks"
   ]
  },
  {
   "cell_type": "markdown",
   "metadata": {},
   "source": [
    ">**NOTE**: If you have your own, organizer provided startline (see above) and you have **activated** it, this step will be skipped."
   ]
  },
  {
   "cell_type": "markdown",
   "metadata": {},
   "source": [
    "<img src=\"img/s_045_DashT_RaceStart_drop_marks.png\"\n",
    "alt=\"DashT Race Start - Drop Marks\" width=\"400\">[(zoom)](img/045_DashT_RaceStart_drop_marks.png)"
   ]
  },
  {
   "cell_type": "markdown",
   "metadata": {},
   "source": [
    "This is (hopefully) self-explanatory. Ask the boat to be passed next to the marks, preferably climbing to the wind so that speed will drop in order to increase the accuracy of the dropped mark. Once the marks have been dropped, they can be readjusted using the _OpenCPN_ route manager. You can also decide to start all over if you have time for that but usually this should not be necessary."
   ]
  },
  {
   "cell_type": "markdown",
   "metadata": {},
   "source": [
    ">**NOTE**: Position the _DashT Race Start_ application window so that you do not have to move it anymore, if possible: be aware that if you (accidentally) dock it, the application will be restarted. Do not panic since the only thing you can lose is the count-down timer, the application will catch up with the rest but the time is definitely lost and you will lose in concentration, for nothing."
   ]
  },
  {
   "cell_type": "raw",
   "metadata": {
    "raw_mimetype": "text/restructuredtext"
   },
   "source": [
    ".. index::\n",
    "   single: Race Start; Start Zone"
   ]
  },
  {
   "cell_type": "markdown",
   "metadata": {},
   "source": [
    "## Start Zone"
   ]
  },
  {
   "cell_type": "markdown",
   "metadata": {},
   "source": [
    "As soon as the start line has been defined either by dropping the second mark or by detecting an active user defined start line, the application calculates all data related to the start zone area, displaying the numerical values in the application window and many useful and perhaps even less useful lines and dots on the chart canvas. Of course, you can control what will be shown to your liking in the ini/conf-file - see the corresponding chapter."
   ]
  },
  {
   "cell_type": "markdown",
   "metadata": {},
   "source": [
    "<img src=\"img/s_050_DashT_RaceStart_startline_dropped.png\"\n",
    "alt=\"DashT Race Start - Start line marks dropped\" width=\"300\">[(zoom)](img/050_DashT_RaceStart_startline_dropped.png)"
   ]
  },
  {
   "cell_type": "markdown",
   "metadata": {},
   "source": [
    "For the numerical values and what they mean you will get pop-up help by hovering your mouse over the title and keeping it there for a short moment:"
   ]
  },
  {
   "cell_type": "markdown",
   "metadata": {},
   "source": [
    "<img src=\"img/s_052_DashT_RaceStart_Pop-up-help.png\"\n",
    "alt=\"DashT Race Start - Pop-up help\" width=\"300\">[(zoom)](img/052_DashT_RaceStart_Pop-up-help.png)"
   ]
  },
  {
   "cell_type": "markdown",
   "metadata": {},
   "source": [
    "We will now move to the start zone, take a breath, point towards the start line to see what he have got over there..."
   ]
  },
  {
   "cell_type": "markdown",
   "metadata": {},
   "source": [
    "<img src=\"img/s_055_DashT_RaceStart_moving_towards.png\"\n",
    "alt=\"DashT Race Start - Start moving toward the startline\" width=\"700\">[(zoom)](img/055_DashT_RaceStart_moving_towards.png)"
   ]
  },
  {
   "cell_type": "markdown",
   "metadata": {},
   "source": [
    "1. **Distance to go** - shown in case the COG indicates you will effectively cross the start line at this point\n",
    "2. **Closest point** - in this case the closest point is the starboard marker, perhaps the committee boat\n",
    "3. **Wind bias** - Long term average wind angle which indicates the angle the wind has been deviating from the theoretical perpendicularity - positive values = it is veering, negative values = it is backing. The dotted line shown is the first ladder rung on the way to the windward mark. It is attached to the favoured mark. We do not go to the details of the theory of ladder rungs, see for example [this video](https://youtu.be/xit8oBOMMDo?t=393).\n",
    "4. **Advantage** - the maximum distance the non-favoured end would make you to lose on the ladder rungs compared to the favoured end. With this (demo) short start line the distance is only one boat lenght and therefore it would not be the end of world if you cannot scratch the paint out from the committee point. This value is here to give you some perspective to the gains which can be _potentially_ obtained.\n",
    "5. **Timer** - If you miss the five minute signal you can synhronize yourself with the four minute mark. Anyway, let's not think that this is your primary startup timer in your boat, so we do not steal real-estate of you chart plotter with BIG NUMBERS. Think it as a nice helper for the tactician to give him/her the Zero Burn notification (see below)\n",
    "6. **Starboard laylines** to start line - Turning with the average wind, and since the wind bias is positive (wind is veering) the width between the two laylines is increasing. Confirms the intuitive conclusion that the starboard tack will be easier to sail than the port tack.\n",
    "7. **Port laylines** to start line - Turning with average wind. In this use case of veering wind, the distance between the two lines is getting narrower and the sailing towards the start line is not impossible but getting more demanding\n",
    "8. **Distance grid** is turning with the laylines (with the average wind). It increases visually your situation awareness. The distance by default is 50 meters but this can be changed in the ini/conf-file, see the corresponding chapter"
   ]
  },
  {
   "cell_type": "raw",
   "metadata": {
    "raw_mimetype": "text/restructuredtext"
   },
   "source": [
    ".. index::\n",
    "   single: Race Start; Heat is on"
   ]
  },
  {
   "cell_type": "markdown",
   "metadata": {},
   "source": [
    "## The Heat Is On!"
   ]
  },
  {
   "cell_type": "markdown",
   "metadata": {},
   "source": [
    "The wanna-be tactician has made a decision in his incredible wisdom! We are not going to get in the priority sump next to the starboard mark just to lose the speed in an avoidance manoeuvre. Instead, we are heading closer to the port mark and then attempt to optimize our speed by climbing to the wind as much as we can while still keeping up the optimal polar speed. Well, that's the theory, at least, let's see how it will work..."
   ]
  },
  {
   "cell_type": "markdown",
   "metadata": {},
   "source": [
    "The apprentice tactician has suddenly an information overflow which would make melt any average sailor's brain!"
   ]
  },
  {
   "cell_type": "markdown",
   "metadata": {},
   "source": [
    "<img src=\"img/s_065_DashT_RaceStart_heat_is_on.png\"\n",
    "alt=\"DashT Race Start - The Heat Is On\" width=\"600\">[(zoom)](img/065_DashT_RaceStart_heat_is_on.png)"
   ]
  },
  {
   "cell_type": "markdown",
   "metadata": {},
   "source": [
    "1. The **Bow** is pointing outside of the start line...\n",
    "2. ... but **Course over ground** indicates nevertheless that we would end up roughly to the position he was thinking we should get...\n",
    "3. ... certainly because of the strong tide **Current**!\n",
    "4. But are we doing the optimal speed? For that he drops a **[Tactics Waypoint](../tactics/tactics.ipynb#Temporary-waypoint-and-Target-TWA-laylines)** somewhere next to the start line, a bit more towards the port mark (not necessarily on the line)\n",
    "5. The **live polar graph** is showing him that we doing about a little bit over optimal angle at least - for polar performance he can take a look at the Tactics instruments. So he decides that we shall get more speed now\n",
    "6. It is the last minute to accelarate anyway: _DashT Race Start_ indicates with a big grey square on the COG-line that there is **Zero Burn position** only a few boat's length's ahead! After that point, one needs to stop thinking and get and keep full polar speed of the boat to reach the start line in time."
   ]
  },
  {
   "cell_type": "raw",
   "metadata": {
    "raw_mimetype": "text/restructuredtext"
   },
   "source": [
    ".. index::\n",
    "   single: Race Start; Race is on"
   ]
  },
  {
   "cell_type": "markdown",
   "metadata": {},
   "source": [
    "## The Race Is On!"
   ]
  },
  {
   "cell_type": "markdown",
   "metadata": {},
   "source": [
    "<img src=\"img/s_070_DashT_RaceStart_race_is_on.png\"\n",
    "alt=\"DashT Race Start - The Race Is On\" width=\"300\">[(zoom)](img/070_DashT_RaceStart_race_is_on.png)"
   ]
  },
  {
   "cell_type": "markdown",
   "metadata": {},
   "source": [
    "We were not the first one to cross the line but certainly the one with the highest speed thanks to the well trained team and the excellent acceleration of our boat!"
   ]
  },
  {
   "cell_type": "markdown",
   "metadata": {},
   "source": [
    "But no time to waste, the ladder climbing race starts, let's move to [DashT Race Mark](../racemark/racemark.ipynb#DashT-Race-Mark) which we have prepared already with the race information."
   ]
  }
 ],
 "metadata": {
  "kernelspec": {
   "display_name": "Python 3",
   "language": "python",
   "name": "python3"
  },
  "language_info": {
   "codemirror_mode": {
    "name": "ipython",
    "version": 3
   },
   "file_extension": ".py",
   "mimetype": "text/x-python",
   "name": "python",
   "nbconvert_exporter": "python",
   "pygments_lexer": "ipython3",
   "version": "3.8.2"
  }
 },
 "nbformat": 4,
 "nbformat_minor": 4
}
