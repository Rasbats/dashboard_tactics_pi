{
 "cells": [
  {
   "cell_type": "raw",
   "metadata": {
    "raw_mimetype": "text/restructuredtext"
   },
   "source": [
    ".. index::\n",
    "   single: Introduction"
   ]
  },
  {
   "cell_type": "markdown",
   "metadata": {},
   "source": [
    "# Introduction"
   ]
  },
  {
   "cell_type": "markdown",
   "metadata": {},
   "source": [
    "Welcome to _DashT_, an advanced overlay plug-in for the popular [OpenCPN](https://opencpn.org) chart plotter."
   ]
  },
  {
   "cell_type": "markdown",
   "metadata": {},
   "source": [
    "In its simplest form, _DashT_ can be used as the OpenCPN's built-in plug-in Dashboard. In this case one can stop reading this document now since the user interface remains quite similar for Dasboard instruments - maybe some [Tweaks](./tweaks/tweaks.ipynb#Tweaks)?"
   ]
  },
  {
   "cell_type": "markdown",
   "metadata": {},
   "source": [
    "But stopping here would be a pity, since underneath that familiar first impression given by _DashT_ hides a real powerhouse, providing instruments and functions meeting the requirements of wide variety of users, ranging from cruirers to regatta and off-shore racers. Motor boat owners have not been forgotten."
   ]
  },
  {
   "cell_type": "raw",
   "metadata": {
    "raw_mimetype": "text/restructuredtext"
   },
   "source": [
    ".. index::\n",
    "   single: Introduction; History"
   ]
  },
  {
   "cell_type": "markdown",
   "metadata": {},
   "source": [
    ">**HISTORY**: Not a \"_yet-another-fork of Dashboard_\", _dashboard_tactics_pi_ [v1.5.111](https://github.com/canne/dashboard_tactics_pi/releases/tag/v1.5.111) had a goal to combine the built-in _dashboard_pi_ and the populer _tactics_pi_ (a fork of the former) by merging them while retaining all of their functions unchanged but making it available to share Tactics algorithms plug-in wide with timestamped data. v1.5.111 was a forerunner in _OpenCPN_ world by embracing the open marine data format [Signal K](https://opencpn.org/wiki/dokuwiki/doku.php?id=opencpn:supplementary_software:signalk) which is now recognized by _OpenCPN_, v5.2 onwards.\n",
    "\n",
    "> _DashT_ builds on this heritage, but is expanding further to meet the modern, interconnected ecosystem which is today present both on the boat and once back on _terra firma_."
   ]
  },
  {
   "cell_type": "markdown",
   "metadata": {},
   "source": [
    "## Disclaimer"
   ]
  },
  {
   "cell_type": "markdown",
   "metadata": {},
   "source": [
    "THE SOFTWARE IS PROVIDED \"AS IS\", WITHOUT WARRANTY OF ANY KIND, EXPRESS OR\n",
    "IMPLIED, INCLUDING BUT NOT LIMITED TO THE WARRANTIES OF MERCHANTABILITY,\n",
    "FITNESS FOR A PARTICULAR PURPOSE AND NONINFRINGEMENT. IN NO EVENT SHALL THE\n",
    "AUTHORS OR COPYRIGHT HOLDERS BE LIABLE FOR ANY CLAIM, DAMAGES OR OTHER\n",
    "LIABILITY, WHETHER IN AN ACTION OF CONTRACT, TORT OR OTHERWISE, ARISING FROM,\n",
    "OUT OF OR IN CONNECTION WITH THE SOFTWARE OR THE USE OR OTHER DEALINGS IN THE\n",
    "SOFTWARE."
   ]
  }
 ],
 "metadata": {
  "kernelspec": {
   "display_name": "Python 3",
   "language": "python",
   "name": "python3"
  },
  "language_info": {
   "codemirror_mode": {
    "name": "ipython",
    "version": 3
   },
   "file_extension": ".py",
   "mimetype": "text/x-python",
   "name": "python",
   "nbconvert_exporter": "python",
   "pygments_lexer": "ipython3",
   "version": "3.8.2"
  }
 },
 "nbformat": 4,
 "nbformat_minor": 4
}
