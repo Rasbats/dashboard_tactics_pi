{
 "cells": [
  {
   "cell_type": "markdown",
   "metadata": {},
   "source": [
    "# Introduction"
   ]
  },
  {
   "cell_type": "markdown",
   "metadata": {},
   "source": [
    "Welcome to _DashT_, an advanced dashboard plug-in for the popular [OpenCPN](https://opencpn.org) chart plotter."
   ]
  },
  {
   "cell_type": "markdown",
   "metadata": {},
   "source": [
    "In its simplest form, _DashT_ can be used as the OpenCPN's built-in plug-in Dashboard. In this case one can stop reading this document now since the user intrerface remains the same in both."
   ]
  },
  {
   "cell_type": "markdown",
   "metadata": {},
   "source": [
    "But stopping here would be a pity, since underneath that familiar first impression given by _DashT_ hides a real powerhouse, providing instruments and functions meeting the requirements of wide variety of users, ranging from cruirers to regatta or off-shore racers. Motor boat owners have not been forgotten."
   ]
  },
  {
   "cell_type": "markdown",
   "metadata": {},
   "source": [
    ">**HISTORY**: Not a \"_yet-another-fork of Dashboard_\", _dashboard_tactics_pi_ [v1.5.111](https://github.com/canne/dashboard_tactics_pi/releases/tag/v1.5.111) was intended to combine and replace the built-in _dashboard_pi_ and the populer _tactics_pi_, a fork of the former, by combining them while retaining all of their functions unchanged. Additionally, it was a forerunner in embracing the open marine data format [Signal K](https://opencpn.org/wiki/dokuwiki/doku.php?id=opencpn:supplementary_software:signalk) which is now recognized by OpenCPN v5.2 onward.\n",
    "\n",
    "> _DashT_ builds on this heritage, but is embracing the modern, interconnected data ecosystem which is today present both on the boat and on the ground."
   ]
  }
 ],
 "metadata": {
  "kernelspec": {
   "display_name": "Python 3",
   "language": "python",
   "name": "python3"
  },
  "language_info": {
   "codemirror_mode": {
    "name": "ipython",
    "version": 3
   },
   "file_extension": ".py",
   "mimetype": "text/x-python",
   "name": "python",
   "nbconvert_exporter": "python",
   "pygments_lexer": "ipython3",
   "version": "3.8.2"
  }
 },
 "nbformat": 4,
 "nbformat_minor": 4
}
