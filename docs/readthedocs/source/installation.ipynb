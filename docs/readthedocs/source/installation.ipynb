{
 "cells": [
  {
   "cell_type": "markdown",
   "metadata": {},
   "source": [
    "# Installation"
   ]
  },
  {
   "cell_type": "markdown",
   "metadata": {},
   "source": [
    "Go and and grab an installer package for your operating system and distribution from this [distribution's Latest Release page](https://github.com/canne/dashboard_tactics_pi/releases/latest), expand the _Assets_ tab below the description if you do not see any."
   ]
  },
  {
   "cell_type": "markdown",
   "metadata": {},
   "source": [
    ">**NOTE**: The documentation you are reading is generated from the distribution. If you are adventuring and taking a beta version, make sure that you are reading also its documentation. See the the version information on the page (depends of the platform where it can be found, sorry), available also in the page URL."
   ]
  },
  {
   "cell_type": "markdown",
   "metadata": {},
   "source": [
    "The platforms and operating system supported:\n"
   ]
  },
  {
   "cell_type": "markdown",
   "metadata": {},
   "source": [
    "- Windows 10 (\\*.exe installer - fully tested platform)\n",
    "- MacOS (\\*.pkg - not tested as platform, helper scripts missing)\n",
    "- Ubuntu 20.04 Focal Fossa and distributions similar to it (\\*.deb - fully tested platform)"
   ]
  },
  {
   "cell_type": "markdown",
   "metadata": {},
   "source": [
    "## Mandatory requirements"
   ]
  },
  {
   "cell_type": "markdown",
   "metadata": {},
   "source": [
    "- OpenCPN v5.2 or greater\n",
    "- wxWidgets support with wxWebView run-time library\n",
    "  - not available on GTK2 based Linux distribution by default, thus GTK3 Linux based systems are required"
   ]
  },
  {
   "cell_type": "markdown",
   "metadata": {},
   "source": [
    "## Optional platforms"
   ]
  },
  {
   "cell_type": "markdown",
   "metadata": {},
   "source": [
    "Other platforms where installation is possible and an installer is provided:"
   ]
  },
  {
   "cell_type": "markdown",
   "metadata": {},
   "source": [
    "- Raspberry Pi4B Raspian Buster (\\*.deb installer provided - fully tested plaftorm - but is GTK2, so see below, will not work out of the box)"
   ]
  },
  {
   "cell_type": "markdown",
   "metadata": {},
   "source": [
    "## OpenCPN Plug-In Manager"
   ]
  },
  {
   "cell_type": "markdown",
   "metadata": {},
   "source": [
    "The plug-in manager of OpenCPN is a great tool to unify the plug-in installation for the best user experience. The tool's catalog and the plug-ins are pulled from a centralized data retrieval system, proper to OpenCPN.org."
   ]
  },
  {
   "cell_type": "markdown",
   "metadata": {},
   "source": [
    "From this follows that the sofware in those and especially the installer are (usually) forks of the original repository, the documentation of which you are reading for _DashT_."
   ]
  },
  {
   "cell_type": "markdown",
   "metadata": {},
   "source": [
    ">**NOTE**: If you experience issues with the version of _DashT_ installed by the OpenCPN plug-in manager from the OpenCPN.org repository, please report about your issues in corresponding [DashT discussion thread](https://www.cruisersforum.com/forums/f134/dashboard-tactics-dash-t-226601.html). Check carefully the version of _DashT_ which has been installed before doing so. For this local installation method, see the Troubleshooting section in this documentation."
   ]
  },
  {
   "cell_type": "markdown",
   "metadata": {},
   "source": [
    "## Linux installation"
   ]
  },
  {
   "cell_type": "markdown",
   "metadata": {},
   "source": [
    "_DashT_ local installation package contains pre- and post-installations scripts (see section below). Suggested tool to install / uninstall the _DashT_ local package is [gdebi](https://launchpad.net/gdebi), graphical (`gdebi-gtk`), or command line:\n",
    "`sudo gdebi dashboard_tactics_pi_2.0.0-ov52-1_amd64.deb`"
   ]
  },
  {
   "cell_type": "markdown",
   "metadata": {},
   "source": [
    "## Installed helpers"
   ]
  },
  {
   "cell_type": "markdown",
   "metadata": {},
   "source": [
    "### Windows scripts"
   ]
  },
  {
   "cell_type": "markdown",
   "metadata": {},
   "source": [
    "The helper scripts and the supporting configuration files are installed in `\\Users\\Public\\DashT` folder. Three buttons to use those will be installed on the Desktop:"
   ]
  },
  {
   "cell_type": "markdown",
   "metadata": {},
   "source": [
    "1. Start web server (for EngineDJG only)\n",
    "2. Start DB (database _and_ web services for everything)\n",
    "3. Stop DB"
   ]
  },
  {
   "cell_type": "markdown",
   "metadata": {},
   "source": [
    "These buttons will do nothing, however, if you do not install yourself the third party software they are referring to. No third party software is pulled in without you wanting it to happen. See corresponding sections in this document"
   ]
  },
  {
   "cell_type": "markdown",
   "metadata": {},
   "source": [
    "### Linux scripts"
   ]
  },
  {
   "cell_type": "markdown",
   "metadata": {},
   "source": [
    "The Linux version installs just two helper scripts: _**dashtengine**_ and _**dashtdb**_ - try them out from the command line."
   ]
  },
  {
   "cell_type": "markdown",
   "metadata": {},
   "source": [
    ">**NOTE**: we let fans of GNOME3, KDE, LXQT, xfce4 and alike to create their own desktop buttons!"
   ]
  },
  {
   "cell_type": "markdown",
   "metadata": {},
   "source": [
    "Respecting the principle \"only if you want it you will get it\", no third party software is declared as automatic dependency in the _DashT_ package installation. Only if you launch one of the scripts, and if the supporting software is not there, you will be asked do you want to get it installed. This way, a person who is not interested in database functions will not get database software installed for nothing.\n",
    "\n",
    "Third party programs installed are, for\n",
    "\n",
    "- _dashtengine_\n",
    "  - nodejs, npm\n",
    "    - signalk-server, http-server    \n",
    "- dashtdb\n",
    "  - docker, docker-compose\n",
    "    - InfluxDB v2.0, Grafana, nginx web server"
   ]
  },
  {
   "cell_type": "markdown",
   "metadata": {},
   "source": [
    "## wxWebView and GTK2"
   ]
  },
  {
   "cell_type": "markdown",
   "metadata": {},
   "source": [
    "_DashT_ requires _wxWebView_, which requires _libwx_gtk**3**u_webview_3.0_ or similar. Helas, on older, GTK2 based installations one cannot find anymore an equivalent _libwx_gtk**2**u_webview_3.0_ or such, for security reasons (_webkit2gtk_ is not maintained anymore)."
   ]
  },
  {
   "cell_type": "markdown",
   "metadata": {},
   "source": [
    "Therefore, the logical decision is to maintain _DashT_ only for GTK3 based systems."
   ]
  },
  {
   "cell_type": "markdown",
   "metadata": {},
   "source": [
    "However, it is possible to make it work by installing your own _wxWebView_ and compile it with _wxWebView_."
   ]
  },
  {
   "cell_type": "markdown",
   "metadata": {},
   "source": [
    ">**NOTE**: you would be using a system with a **potentially unsecure** _wxWebView_ - make your own security assessement and assume your own risk before applying blindly the below method."
   ]
  },
  {
   "cell_type": "markdown",
   "metadata": {},
   "source": [
    "As an example, Raspberry Buster: compile your own wxWidgets stable installation from [source](https://github.com/wxWidgets/wxWidgets/releases/download/v3.0.5/wxWidgets-3.0.5.tar.bz2) and [install it](https://wiki.wxwidgets.org/WxWidgets_Build_Configurations).  Make, say a `gtk2_build` folder for the build.  In it, `../configure --with-opengl --with-gtk=2 --enable-debug`. Then `make -j4`. When you say `sudo make install` after the build, all the libraries will be go into `/usr/local/lib`, and will not be clashing with your distribution's wxWidget libraries, they will prevail. Only that the missing libraries, amongs them _libwx_gtk**2**u_webview_3.0_ is now found, after you run `ldconfig`."
   ]
  },
  {
   "cell_type": "markdown",
   "metadata": {},
   "source": [
    ">**Note**: Even with the above working, you would be limited to _EngineDJG_ dials and _Race DashT_ functions: the InfluxDB v2.0 does not yet exist for _armhf_ architecture in their docker repo. One needs to wait final release to see how this evolves."
   ]
  }
 ],
 "metadata": {
  "kernelspec": {
   "display_name": "Python 3",
   "language": "python",
   "name": "python3"
  },
  "language_info": {
   "codemirror_mode": {
    "name": "ipython",
    "version": 3
   },
   "file_extension": ".py",
   "mimetype": "text/x-python",
   "name": "python",
   "nbconvert_exporter": "python",
   "pygments_lexer": "ipython3",
   "version": "3.8.2"
  }
 },
 "nbformat": 4,
 "nbformat_minor": 4
}
