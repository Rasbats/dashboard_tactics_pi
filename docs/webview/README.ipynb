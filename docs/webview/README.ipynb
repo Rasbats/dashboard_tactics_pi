{
 "cells": [
  {
   "cell_type": "markdown",
   "metadata": {},
   "source": [
    "# DashT EngineDJG Dial For Engine And Energy Data"
   ]
  },
  {
   "cell_type": "markdown",
   "metadata": {},
   "source": [
    ">\"_D_\" as dial, \"_JG_\" as [justGage](https://github.com/toorshia/justgage) - thanks, folks!"
   ]
  },
  {
   "cell_type": "markdown",
   "metadata": {},
   "source": [
    "Modern web techniques embedded in OpenCPN Dashboard\n",
    "\n",
    "* A dedicated instrument for Engine and Energy data in Signal K data format\n",
    "  * Gets data from DashT by a subscription\n",
    "* Data obtained from a single Signal K node server interconnection\n",
    "  * Allowing multiplication ad infinitum\n",
    "  * Instrument is not making data connections\n",
    "* Does not interfere with NMEA-0183 data push toward the \"traditional\" Dashboard instruments\n",
    "* HTML5 and JavaScript based\n",
    "  * Plain text customization files provided\n",
    "  * Loading from a local or from a remote host"
   ]
  },
  {
   "cell_type": "markdown",
   "metadata": {},
   "source": [
    "![2020-02-13_DashT_EngineDJG_proto_screenshot.png](2020-02-13_DashT_EngineDJG_proto_screenshot.png) [(zoom)](img/2020-02-13_DashT_EngineDJG_proto_screenshot.png)"
   ]
  },
  {
   "cell_type": "markdown",
   "metadata": {},
   "source": [
    "## NMEA-2000 as data source"
   ]
  },
  {
   "cell_type": "markdown",
   "metadata": {},
   "source": [
    "NMEA-2000 is most likely commodity off the shelf source for engine and energy data. NMEA-0183 is, of course a data source for other DashT instruments but not for EngineDJG instrument."
   ]
  },
  {
   "cell_type": "markdown",
   "metadata": {},
   "source": [
    "## Signal K as data interchange protocol"
   ]
  },
  {
   "cell_type": "markdown",
   "metadata": {},
   "source": [
    "[Signal K](https://opencpn.org/wiki/dokuwiki/doku.php?id=opencpn:supplementary_software:signalk), a modern and open data format for marine use is a protocol understood by DashT for data interchange over the network. [Signal K keys](https://github.com/SignalK/specification/blob/master/gitbook-docs/keys.md) are defined for each data source. An EngineDJG instrument subscribes to the data coming from one of the data sources using a Signal K key. "
   ]
  },
  {
   "cell_type": "markdown",
   "metadata": {},
   "source": [
    "In order to use EngineDJG instrument in DashT, one needs therefore to have a _Signal K server node_ interfacing with the boat's instrumentation NMEA-2000 databus. It is available for [Raspberry PI/Linux](https://github.com/SignalK/signalk-server-node/blob/master/raspberry_pi_installation.md), for [Windows](https://opencpn.org/wiki/dokuwiki/doku.php?id=opencpn:supplementary_software:signalk:a3) and eventually on Mac, since is based on [node.js](https://nodejs.org). Please read more from **_O_**penCPN [supplementary software pages](https://opencpn.org/wiki/dokuwiki/doku.php?id=opencpn:supplementary_software:signalk)."
   ]
  },
  {
   "cell_type": "markdown",
   "metadata": {},
   "source": [
    "## How it works"
   ]
  },
  {
   "cell_type": "markdown",
   "metadata": {},
   "source": [
    "![2020-02-13_DashT_EngineDJG_SK_diagram_enumerated.png](2020-02-13_DashT_EngineDJG_SK_diagram_enumerated.png) [(zoom)](img/2020-02-13_DashT_EngineDJG_SK_diagram_enumerated.png)"
   ]
  },
  {
   "cell_type": "markdown",
   "metadata": {},
   "source": [
    "1. NMEA-2000 databus is the source of the engine and energy data for the EngineDJG instrument.\n",
    "\n",
    ">There may be other, potential data sources which can be enabled in the future, such as IoT capable sensors, Bluetooth Low Energy (BLE) and General Purpose I/O pins (GPIO) but for now, only NMEA-2000 is selected as data source."
   ]
  },
  {
   "cell_type": "markdown",
   "metadata": {},
   "source": [
    "2. In case the NMEA-2000 databus does not provide navigational data, needed by **_O_**penCPN and displayed by other DashT instruments, your boat probably sports also a classic NMEA-0183 wireed sensors and instruments. They end up, typically into a multiplexer (MUX), which interfaces simply with the Signal K server node either by a USB connection, Ethernet connection or WiFi."
   ]
  },
  {
   "cell_type": "markdown",
   "metadata": {},
   "source": [
    "3. Signal K node server, or a commercial Signal K data enabled router / multiplexer is entirely network enabled and can locate anywhere in your boat, not necessarily on the same computer where one is running **_O_**penCPN and DashT"
   ]
  },
  {
   "cell_type": "markdown",
   "metadata": {},
   "source": [
    ">See [this list](https://opencpn.org/wiki/dokuwiki/doku.php?id=opencpn:supplementary_software:signalk:a2) of open source and commercial products available"
   ]
  },
  {
   "cell_type": "markdown",
   "metadata": {},
   "source": [
    "4. For example, one can have immediately access from the cockpit table to the rich set of instruments, plug-ins and features Signal K server node provides"
   ]
  },
  {
   "cell_type": "markdown",
   "metadata": {},
   "source": [
    "5. Signal K standard defines and a server node provides, among its other networked data interchange interfaces, so-called Delta-channel, where all the changes in the boat data is available. When the boat has a NMEA-2000 databus this usually means a lot of data and many Signal K keys. Clients can subscribe to all of this data or to some selected keys only."
   ]
  },
  {
   "cell_type": "markdown",
   "metadata": {},
   "source": [
    "6. **_O_**PenCPN has developed an interface to Signal K. Of course, it is not a consumer of engine data and it is not even remotely interested in knowing if the ice cube machine is still working but it needs the time, position and other navigational data for its routing and map functions. Also, it needs to feed the majority of its plug-ins - including DashT - with NMEA-0183 data through its internal multiplexer gateway towards these third party consumers. Even though the Signal K Delta channel interface would not be used in **_O_**penCPN, a Signal K server node is able to provide the data in NMEA-0183 format to the chartplotter."
   ]
  },
  {
   "cell_type": "markdown",
   "metadata": {},
   "source": [
    "7. DashT plug-in for **_O_**penCPN chartplotter contains an efficient, built-in Signal K data streamer. It subscribes to _all_ data a Signal K server sends over the Delta channel and distributes the data to its own subscribers over a very efficient call-back function mechanism. This way, it makes gain in speed and reduce the number of network connections to the Signal K node server, reducing its workload."
   ]
  },
  {
   "cell_type": "markdown",
   "metadata": {},
   "source": [
    "8. The EngineDJG instrument comes only in one flavour, unlike other DashT's \"traditional\" navigational instruments which are pre-programmed for intended usage. It is configured after its creation. The user of a EngineDJG instrument is provided with a list of available Signal K keys. Only one of the keys can be selected per instrument. The origin of the data must be a NMEA-2000 data source, currently. The data must be presented as a numerical value. Three possible presentations are provided, a dial in 180 degrees, a donut in 360 degrees and a simple numerical output. One swap between the presentation styles with Ctrl+arrowUp or Ctrl+arrowDown keys."
   ]
  },
  {
   "cell_type": "markdown",
   "metadata": {},
   "source": [
    "9.  The traditional Dashboard instruments, such as wind data and similar are subscribed automatically to the corresponding Signal K key. If it is not available, they will receive the data as before, from the **_O_**penCPN's NMEA-0183 distribution channel."
   ]
  }
 ],
 "metadata": {
  "kernelspec": {
   "display_name": "Python 3",
   "language": "python",
   "name": "python3"
  },
  "language_info": {
   "codemirror_mode": {
    "name": "ipython",
    "version": 3
   },
   "file_extension": ".py",
   "mimetype": "text/x-python",
   "name": "python",
   "nbconvert_exporter": "python",
   "pygments_lexer": "ipython3",
   "version": "3.7.4"
  }
 },
 "nbformat": 4,
 "nbformat_minor": 4
}
