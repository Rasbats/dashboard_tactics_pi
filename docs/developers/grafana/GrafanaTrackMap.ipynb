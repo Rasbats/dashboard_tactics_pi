{
 "cells": [
  {
   "cell_type": "markdown",
   "metadata": {},
   "source": [
    "# Using TrackMap on Grafana"
   ]
  },
  {
   "cell_type": "markdown",
   "metadata": {},
   "source": [
    "We expect that one has Grafana / IndluxDB / nginx enabled on a Docker environment as explained in the manual, chapter [InfluxDB](../../readthedocs/source/influxdb/influxdb.ipynb#Grafana)."
   ]
  },
  {
   "cell_type": "markdown",
   "metadata": {},
   "source": [
    "## TrackMap installation"
   ]
  },
  {
   "cell_type": "markdown",
   "metadata": {},
   "source": [
    "Plese refer first to [plugin's pages](https://grafana.com/grafana/plugins/pr0ps-trackmap-panel/?tab=installation)."
   ]
  },
  {
   "cell_type": "markdown",
   "metadata": {},
   "source": [
    "The installations is done from command line with Grafana CLI in our standalone (local) system. On Windows, the easiest way to get it with with Docker Dashboard, navigate to the `dasht_grafana` container and click on the `CLI` button. Give command:"
   ]
  },
  {
   "cell_type": "markdown",
   "metadata": {},
   "source": [
    "```\n",
    "/usr/share/grafana $ grafana-cli plugins install pr0ps-trackmap-panel\n",
    "installing pr0ps-trackmap-panel @ 2.1.2\n",
    "from: https://grafana.com/api/plugins/pr0ps-trackmap-panel/versions/2.1.2/download\n",
    "into: /var/lib/grafana/plugins\n",
    "\n",
    "✔ Installed pr0ps-trackmap-panel successfully\n",
    "\n",
    "Restart grafana after installing plugins . <service grafana-server restart>\n",
    "```"
   ]
  },
  {
   "cell_type": "markdown",
   "metadata": {},
   "source": [
    "As suggested, close the CLI windows, head back to the Docker Dashboard and restart the container `dasht_grafana`."
   ]
  },
  {
   "cell_type": "markdown",
   "metadata": {},
   "source": [
    "Using the Grafana administrator interface, you can now observe a new, signed plugin, `TrackMap`. When you create a panel, it shows up as an alternative `Visualization` method under the corresponding drop down menu. If it does not, you may need to restart the Grafana server, which can be used simply by first stopping and the starting the entire _DashT_ Docker stack."
   ]
  },
  {
   "cell_type": "markdown",
   "metadata": {},
   "source": [
    "## TrackMap and Flux"
   ]
  },
  {
   "cell_type": "markdown",
   "metadata": {},
   "source": [
    "Apparently, TrackMap is a GIS application and only SQL is used. However, from the Grafana's point of view it is about the query and the fields it returns.b"
   ]
  },
  {
   "cell_type": "markdown",
   "metadata": {},
   "source": [
    "Somebody using TrackMap [has had the issue already this year and come with a solution where the Flux itself has been used to map the fields the query produces](https://github.com/alexandrainst/alexandra-trackmap-panel/issues/47#issuecomment-792658973). He came up with a solution like this:"
   ]
  },
  {
   "cell_type": "markdown",
   "metadata": {},
   "source": [
    "```\n",
    "from(bucket: \"home_assistant\")\n",
    "  |> range(start: v.timeRangeStart, stop: v.timeRangeStop)\n",
    "  |> filter(fn: (r) => r[\"_measurement\"] == \"device_tracker.mate10\")\n",
    "  |> filter(fn: (r) => r[\"_field\"] == \"gps_accuracy\" or r[\"_field\"] == \"latitude\" or r[\"_field\"] == \"longitude\" or r[\"_field\"] == \"velocity\")\n",
    "\n",
    "|> pivot(columnKey: [\"_field\"], rowKey: [\"_time\"], valueColumn: \"_value\")\n",
    "\n",
    "|> duplicate(column: \"latitude\", as: \"lat\")\n",
    "|> duplicate(column: \"longitude\", as: \"lon\")\n",
    "|> duplicate(column: \"_time\", as: \"tooltip\")\n",
    "|> duplicate(column: \"velocity\", as: \"popup\")\n",
    "\n",
    "|> map(fn: (r) => ({ r with popup: \"Speed: \" + string(v:r.popup) + \" km/h\" }))\n",
    "\n",
    "|> keep(columns: [\"_time\", \"tooltip\", \"lat\", \"lon\", \"popup\"])\n",
    "```"
   ]
  },
  {
   "cell_type": "markdown",
   "metadata": {},
   "source": [
    "The above creates some errors in the InfluxDB query but provides `lat` and `lon` arrays alright in _DashT_ use case with Grafana."
   ]
  },
  {
   "cell_type": "markdown",
   "metadata": {},
   "source": [
    "I rather make queries for all parameters in one single panel, where I can observe the field results, say in a Table visualization. Then, in the TrackMap panel I would read from this panel and use [Flux Transformation functions](https://docs.influxdata.com/influxdb/v2.0/reference/flux/stdlib/built-in/transformations/) I can select which queries are actually executed and give new names to the fields, etc."
   ]
  }
 ],
 "metadata": {
  "kernelspec": {
   "display_name": "Python 3",
   "language": "python",
   "name": "python3"
  },
  "language_info": {
   "codemirror_mode": {
    "name": "ipython",
    "version": 3
   },
   "file_extension": ".py",
   "mimetype": "text/x-python",
   "name": "python",
   "nbconvert_exporter": "python",
   "pygments_lexer": "ipython3",
   "version": "3.8.2"
  }
 },
 "nbformat": 4,
 "nbformat_minor": 4
}
