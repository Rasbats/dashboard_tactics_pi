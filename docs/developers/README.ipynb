{
 "cells": [
  {
   "cell_type": "markdown",
   "metadata": {},
   "source": [
    "# Information for developers, contributors and collaborators"
   ]
  },
  {
   "cell_type": "markdown",
   "metadata": {},
   "source": [
    "## Project's situation report the 30th of November 2020"
   ]
  },
  {
   "cell_type": "markdown",
   "metadata": {},
   "source": [
    "### v2.0.0"
   ]
  },
  {
   "cell_type": "markdown",
   "metadata": {},
   "source": [
    "[v2.0.0 Project](https://github.com/canne/dashboard_tactics_pi/projects/1) has been successfully completed."
   ]
  },
  {
   "cell_type": "markdown",
   "metadata": {},
   "source": [
    "[20 Requirements of 22 total defined](https://github.com/canne/dashboard_tactics_pi/issues?q=is%3Aissue+is%3Aclosed+milestone%3Av2.0.0+label%3ARequirement) have been fulfilled with a tested implementation."
   ]
  },
  {
   "cell_type": "markdown",
   "metadata": {},
   "source": [
    "v2.0.0 builds have been published in GitHub [Releases](https://github.com/canne/dashboard_tactics_pi/releases)"
   ]
  },
  {
   "cell_type": "markdown",
   "metadata": {},
   "source": [
    "Documentation is made available in [dashboard-tactics-pi.readthedocs.io](https://dashboard-tactics-pi.readthedocs.io)."
   ]
  },
  {
   "cell_type": "markdown",
   "metadata": {},
   "source": [
    "### v2.0 Patch versions"
   ]
  },
  {
   "cell_type": "markdown",
   "metadata": {},
   "source": [
    "Maintenance (patch) versions, if needed will be enumerated v2.0.1, v2.0.2 etc."
   ]
  },
  {
   "cell_type": "markdown",
   "metadata": {},
   "source": [
    "### v2.2 $\\beta$-version"
   ]
  },
  {
   "cell_type": "markdown",
   "metadata": {},
   "source": [
    "Maintenance versions shall be stopped in `dev220` branch or continued in the `master`. v2.1.xx shall be a used for v2.2 $\\beta$-versions."
   ]
  },
  {
   "cell_type": "markdown",
   "metadata": {},
   "source": [
    "### v2.2"
   ]
  },
  {
   "cell_type": "markdown",
   "metadata": {},
   "source": [
    "v2.2 shall be published only tested, with and because of any new feature, alternatively for a new minor or major version of _OpenCPN_, or both."
   ]
  },
  {
   "cell_type": "markdown",
   "metadata": {},
   "source": [
    "### Earlier versions"
   ]
  },
  {
   "cell_type": "markdown",
   "metadata": {},
   "source": [
    "The development of v1.5.11 and its derivates has moved to an [OpenCPN Pluginmanager dashboardtactics_pi plug-in, in its own repository](https://github.com/rgleason/dashboard_tactics_pi)."
   ]
  },
  {
   "cell_type": "markdown",
   "metadata": {},
   "source": [
    "Please do not address in this repository any pull requests or issues regarding the earlier versions prior to v2.0.0."
   ]
  },
  {
   "cell_type": "markdown",
   "metadata": {},
   "source": [
    "### Pull Requests"
   ]
  },
  {
   "cell_type": "markdown",
   "metadata": {},
   "source": [
    "The below diagram depicts the branch schema starting from this holdpoint (`v2.0.0`) and provides a roadmap for future versions - without a time axis due to the lack of the dedicated resources."
   ]
  },
  {
   "cell_type": "markdown",
   "metadata": {},
   "source": [
    ">All pull requests to the `master` thread coming outside of this repository will be automatically and systematically rejected. Please read further."
   ]
  },
  {
   "cell_type": "markdown",
   "metadata": {},
   "source": [
    "#### Bug fixes for v2.0"
   ]
  },
  {
   "cell_type": "markdown",
   "metadata": {},
   "source": [
    "Please fork the dev220 branch which is the default and the _live_ development branch of the author and provide your well tested and CI test (minimum) passing pull requests in this thread."
   ]
  },
  {
   "cell_type": "markdown",
   "metadata": {},
   "source": [
    "#### New features or functions"
   ]
  },
  {
   "cell_type": "markdown",
   "metadata": {},
   "source": [
    "Please fork the `dev220` branch and invite the author to study your own fork. Do not make unsolicited pull request for new features or functions into this repository."
   ]
  },
  {
   "cell_type": "markdown",
   "metadata": {},
   "source": [
    "Alternatively one can fill in the form as for the feature requests or ideas in the repository's _Issues_ section by opening a ticket."
   ]
  },
  {
   "cell_type": "markdown",
   "metadata": {},
   "source": [
    "![v2.0.0_holdpoint_threads.png](v2.0.0_holdpoint_threads.png)[(zoom)](img/v2.0.0_holdpoint_threads.png)"
   ]
  }
 ],
 "metadata": {
  "kernelspec": {
   "display_name": "Python 3",
   "language": "python",
   "name": "python3"
  },
  "language_info": {
   "codemirror_mode": {
    "name": "ipython",
    "version": 3
   },
   "file_extension": ".py",
   "mimetype": "text/x-python",
   "name": "python",
   "nbconvert_exporter": "python",
   "pygments_lexer": "ipython3",
   "version": "3.8.2"
  }
 },
 "nbformat": 4,
 "nbformat_minor": 4
}
