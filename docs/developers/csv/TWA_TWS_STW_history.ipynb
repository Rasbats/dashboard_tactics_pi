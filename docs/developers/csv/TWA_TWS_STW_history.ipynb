{
 "cells": [
  {
   "cell_type": "markdown",
   "metadata": {},
   "source": [
    "# Process and plot DashT Performance CSV-file output"
   ]
  },
  {
   "cell_type": "markdown",
   "metadata": {},
   "source": [
    ">**Note** that this file is build and processed under Jupyter Lab. There is a [PDF file](TWA_TWS_STW_history) illustrating the result. The Python 3 code below does not require Jupyter Lab to be executed."
   ]
  },
  {
   "cell_type": "markdown",
   "metadata": {},
   "source": [
    "DashT and its Tactics instruments with profiling features - baro, wind and performance history - have an option to record the values they are displaying into a CSV-formatted files with time stamps."
   ]
  },
  {
   "cell_type": "markdown",
   "metadata": {},
   "source": [
    "In this example, we study the polar performance history records. They are providing Tactics smoothed performance and boat speed but also smoothed TWA and TWS values."
   ]
  },
  {
   "cell_type": "markdown",
   "metadata": {},
   "source": [
    "For the usage of common Panda data tools, it is recommended to request DashT to record also the clock ticks: they are the easiest to parse."
   ]
  },
  {
   "cell_type": "markdown",
   "metadata": {},
   "source": [
    "> Useful reading about Unix timestamps: https://nikgrozev.com/2015/12/27/pandas-in-jupyter-quickstart-and-useful-snippets/\n",
    "\n",
    ">About filters: https://data36.com/pandas-tutorial-1-basics-reading-data-files-dataframes-data-selection/\n",
    "\n",
    ">About plotting: https://tutorials.technology/tutorials/17-how-to-plot-with-python-pandas.html"
   ]
  },
  {
   "cell_type": "code",
   "execution_count": 1,
   "metadata": {},
   "outputs": [],
   "source": [
    "import pandas as pd\n",
    "df = pd.read_csv(\"polar.csv\", sep=',')"
   ]
  },
  {
   "cell_type": "markdown",
   "metadata": {},
   "source": [
    "Let's study the structure first"
   ]
  },
  {
   "cell_type": "code",
   "execution_count": 2,
   "metadata": {},
   "outputs": [
    {
     "data": {
      "text/html": [
       "<div>\n",
       "<style scoped>\n",
       "    .dataframe tbody tr th:only-of-type {\n",
       "        vertical-align: middle;\n",
       "    }\n",
       "\n",
       "    .dataframe tbody tr th {\n",
       "        vertical-align: top;\n",
       "    }\n",
       "\n",
       "    .dataframe thead th {\n",
       "        text-align: right;\n",
       "    }\n",
       "</style>\n",
       "<table border=\"1\" class=\"dataframe\">\n",
       "  <thead>\n",
       "    <tr style=\"text-align: right;\">\n",
       "      <th></th>\n",
       "      <th>ClockTicks</th>\n",
       "      <th>UTC-ISO8601</th>\n",
       "      <th>Date</th>\n",
       "      <th>local Time</th>\n",
       "      <th>AvgTWA</th>\n",
       "      <th>AvgTWS</th>\n",
       "      <th>smoothed BoatSpd</th>\n",
       "      <th>Percent</th>\n",
       "    </tr>\n",
       "  </thead>\n",
       "  <tbody>\n",
       "    <tr>\n",
       "      <th>0</th>\n",
       "      <td>1569172920482</td>\n",
       "      <td>2019-09-22T17:22:00Z</td>\n",
       "      <td>9/22/2019</td>\n",
       "      <td>7:22:00 PM</td>\n",
       "      <td>140</td>\n",
       "      <td>23.3</td>\n",
       "      <td>6.03</td>\n",
       "      <td>75.00</td>\n",
       "    </tr>\n",
       "    <tr>\n",
       "      <th>1</th>\n",
       "      <td>1569172920930</td>\n",
       "      <td>2019-09-22T17:22:00Z</td>\n",
       "      <td>9/22/2019</td>\n",
       "      <td>7:22:00 PM</td>\n",
       "      <td>128</td>\n",
       "      <td>23.2</td>\n",
       "      <td>6.05</td>\n",
       "      <td>75.41</td>\n",
       "    </tr>\n",
       "    <tr>\n",
       "      <th>2</th>\n",
       "      <td>1569172925552</td>\n",
       "      <td>2019-09-22T17:22:05Z</td>\n",
       "      <td>9/22/2019</td>\n",
       "      <td>7:22:05 PM</td>\n",
       "      <td>131</td>\n",
       "      <td>23.3</td>\n",
       "      <td>6.07</td>\n",
       "      <td>75.27</td>\n",
       "    </tr>\n",
       "    <tr>\n",
       "      <th>3</th>\n",
       "      <td>1569172930553</td>\n",
       "      <td>2019-09-22T17:22:10Z</td>\n",
       "      <td>9/22/2019</td>\n",
       "      <td>7:22:10 PM</td>\n",
       "      <td>135</td>\n",
       "      <td>23.2</td>\n",
       "      <td>6.04</td>\n",
       "      <td>75.80</td>\n",
       "    </tr>\n",
       "    <tr>\n",
       "      <th>4</th>\n",
       "      <td>1569172935553</td>\n",
       "      <td>2019-09-22T17:22:15Z</td>\n",
       "      <td>9/22/2019</td>\n",
       "      <td>7:22:15 PM</td>\n",
       "      <td>137</td>\n",
       "      <td>23.0</td>\n",
       "      <td>6.01</td>\n",
       "      <td>75.66</td>\n",
       "    </tr>\n",
       "  </tbody>\n",
       "</table>\n",
       "</div>"
      ],
      "text/plain": [
       "      ClockTicks           UTC-ISO8601       Date  local Time  AvgTWA  AvgTWS  \\\n",
       "0  1569172920482  2019-09-22T17:22:00Z  9/22/2019  7:22:00 PM     140    23.3   \n",
       "1  1569172920930  2019-09-22T17:22:00Z  9/22/2019  7:22:00 PM     128    23.2   \n",
       "2  1569172925552  2019-09-22T17:22:05Z  9/22/2019  7:22:05 PM     131    23.3   \n",
       "3  1569172930553  2019-09-22T17:22:10Z  9/22/2019  7:22:10 PM     135    23.2   \n",
       "4  1569172935553  2019-09-22T17:22:15Z  9/22/2019  7:22:15 PM     137    23.0   \n",
       "\n",
       "   smoothed BoatSpd  Percent  \n",
       "0              6.03    75.00  \n",
       "1              6.05    75.41  \n",
       "2              6.07    75.27  \n",
       "3              6.04    75.80  \n",
       "4              6.01    75.66  "
      ]
     },
     "execution_count": 2,
     "metadata": {},
     "output_type": "execute_result"
    }
   ],
   "source": [
    "df.head()"
   ]
  },
  {
   "cell_type": "code",
   "execution_count": 3,
   "metadata": {},
   "outputs": [
    {
     "data": {
      "text/html": [
       "<div>\n",
       "<style scoped>\n",
       "    .dataframe tbody tr th:only-of-type {\n",
       "        vertical-align: middle;\n",
       "    }\n",
       "\n",
       "    .dataframe tbody tr th {\n",
       "        vertical-align: top;\n",
       "    }\n",
       "\n",
       "    .dataframe thead th {\n",
       "        text-align: right;\n",
       "    }\n",
       "</style>\n",
       "<table border=\"1\" class=\"dataframe\">\n",
       "  <thead>\n",
       "    <tr style=\"text-align: right;\">\n",
       "      <th></th>\n",
       "      <th>ClockTicks</th>\n",
       "      <th>UTC-ISO8601</th>\n",
       "      <th>Date</th>\n",
       "      <th>local Time</th>\n",
       "      <th>AvgTWA</th>\n",
       "      <th>AvgTWS</th>\n",
       "      <th>smoothed BoatSpd</th>\n",
       "      <th>Percent</th>\n",
       "    </tr>\n",
       "  </thead>\n",
       "  <tbody>\n",
       "    <tr>\n",
       "      <th>464</th>\n",
       "      <td>1569175240663</td>\n",
       "      <td>2019-09-22T18:00:40Z</td>\n",
       "      <td>9/22/2019</td>\n",
       "      <td>8:00:40 PM</td>\n",
       "      <td>86</td>\n",
       "      <td>21.9</td>\n",
       "      <td>6.63</td>\n",
       "      <td>90.99</td>\n",
       "    </tr>\n",
       "    <tr>\n",
       "      <th>465</th>\n",
       "      <td>1569175245661</td>\n",
       "      <td>2019-09-22T18:00:45Z</td>\n",
       "      <td>9/22/2019</td>\n",
       "      <td>8:00:45 PM</td>\n",
       "      <td>75</td>\n",
       "      <td>21.3</td>\n",
       "      <td>6.65</td>\n",
       "      <td>90.82</td>\n",
       "    </tr>\n",
       "    <tr>\n",
       "      <th>466</th>\n",
       "      <td>1569175250662</td>\n",
       "      <td>2019-09-22T18:00:50Z</td>\n",
       "      <td>9/22/2019</td>\n",
       "      <td>8:00:50 PM</td>\n",
       "      <td>65</td>\n",
       "      <td>21.1</td>\n",
       "      <td>6.54</td>\n",
       "      <td>87.91</td>\n",
       "    </tr>\n",
       "    <tr>\n",
       "      <th>467</th>\n",
       "      <td>1569175255664</td>\n",
       "      <td>2019-09-22T18:00:55Z</td>\n",
       "      <td>9/22/2019</td>\n",
       "      <td>8:00:55 PM</td>\n",
       "      <td>68</td>\n",
       "      <td>21.1</td>\n",
       "      <td>6.51</td>\n",
       "      <td>86.81</td>\n",
       "    </tr>\n",
       "    <tr>\n",
       "      <th>468</th>\n",
       "      <td>1569175260661</td>\n",
       "      <td>2019-09-22T18:01:00Z</td>\n",
       "      <td>9/22/2019</td>\n",
       "      <td>8:01:00 PM</td>\n",
       "      <td>60</td>\n",
       "      <td>21.2</td>\n",
       "      <td>6.51</td>\n",
       "      <td>86.74</td>\n",
       "    </tr>\n",
       "  </tbody>\n",
       "</table>\n",
       "</div>"
      ],
      "text/plain": [
       "        ClockTicks           UTC-ISO8601       Date  local Time  AvgTWA  \\\n",
       "464  1569175240663  2019-09-22T18:00:40Z  9/22/2019  8:00:40 PM      86   \n",
       "465  1569175245661  2019-09-22T18:00:45Z  9/22/2019  8:00:45 PM      75   \n",
       "466  1569175250662  2019-09-22T18:00:50Z  9/22/2019  8:00:50 PM      65   \n",
       "467  1569175255664  2019-09-22T18:00:55Z  9/22/2019  8:00:55 PM      68   \n",
       "468  1569175260661  2019-09-22T18:01:00Z  9/22/2019  8:01:00 PM      60   \n",
       "\n",
       "     AvgTWS  smoothed BoatSpd  Percent  \n",
       "464    21.9              6.63    90.99  \n",
       "465    21.3              6.65    90.82  \n",
       "466    21.1              6.54    87.91  \n",
       "467    21.1              6.51    86.81  \n",
       "468    21.2              6.51    86.74  "
      ]
     },
     "execution_count": 3,
     "metadata": {},
     "output_type": "execute_result"
    }
   ],
   "source": [
    "df.tail()"
   ]
  },
  {
   "cell_type": "code",
   "execution_count": 4,
   "metadata": {},
   "outputs": [],
   "source": [
    "dates_df = pd.read_csv(\"polar.csv\", sep=',', parse_dates=['ClockTicks'])"
   ]
  },
  {
   "cell_type": "markdown",
   "metadata": {},
   "source": [
    "Convert Unix timestamps"
   ]
  },
  {
   "cell_type": "code",
   "execution_count": 5,
   "metadata": {},
   "outputs": [],
   "source": [
    "dates_df['ClockTicks'] = pd.to_datetime(df['ClockTicks'], unit='ms')"
   ]
  },
  {
   "cell_type": "markdown",
   "metadata": {},
   "source": [
    "Plot Boat Speed"
   ]
  },
  {
   "cell_type": "code",
   "execution_count": 6,
   "metadata": {},
   "outputs": [
    {
     "data": {
      "image/png": "[encoded data removed]",
      "text/plain": [
       "<Figure size 432x288 with 1 Axes>"
      ]
     },
     "metadata": {
      "needs_background": "light"
     },
     "output_type": "display_data"
    }
   ],
   "source": [
    "import matplotlib.pyplot as plt\n",
    "df.plot(x='local Time',y='smoothed BoatSpd')\n",
    "plt.show()"
   ]
  },
  {
   "cell_type": "code",
   "execution_count": null,
   "metadata": {},
   "outputs": [],
   "source": []
  }
 ],
 "metadata": {
  "kernelspec": {
   "display_name": "Python 3",
   "language": "python",
   "name": "python3"
  },
  "language_info": {
   "codemirror_mode": {
    "name": "ipython",
    "version": 3
   },
   "file_extension": ".py",
   "mimetype": "text/x-python",
   "name": "python",
   "nbconvert_exporter": "python",
   "pygments_lexer": "ipython3",
   "version": "3.8.2"
  }
 },
 "nbformat": 4,
 "nbformat_minor": 4
}
